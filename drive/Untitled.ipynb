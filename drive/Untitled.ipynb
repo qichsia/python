{
 "cells": [
  {
   "cell_type": "code",
   "execution_count": 2,
   "id": "a19837b4-19b6-428b-8826-9c74451e86fa",
   "metadata": {},
   "outputs": [
    {
     "name": "stdin",
     "output_type": "stream",
     "text": [
      "enter number:  3\n"
     ]
    },
    {
     "name": "stdout",
     "output_type": "stream",
     "text": [
      "odd\n"
     ]
    }
   ],
   "source": [
    "number = float(input(\"enter number: \"))\n",
    "integer = int(number)\n",
    "if integer % 2 == 0:\n",
    "    result = \"even\"\n",
    "else:\n",
    "        result = \"odd\"\n",
    "print(result)\n",
    "    "
   ]
  },
  {
   "cell_type": "code",
   "execution_count": null,
   "id": "b6ee0f19-0f0d-443f-8af0-80a5dd5d7738",
   "metadata": {},
   "outputs": [],
   "source": []
  },
  {
   "cell_type": "code",
   "execution_count": 4,
   "id": "02b4d306-c4c0-4c6e-a010-5752123f62c4",
   "metadata": {},
   "outputs": [
    {
     "name": "stdin",
     "output_type": "stream",
     "text": [
      "String:  hey\n"
     ]
    },
    {
     "name": "stdout",
     "output_type": "stream",
     "text": [
      "YEH\n"
     ]
    }
   ],
   "source": [
    "question = input(\"String: \")\n",
    "reverse = question[::-1]\n",
    "print(reverse.upper())"
   ]
  },
  {
   "cell_type": "code",
   "execution_count": 7,
   "id": "81a453a2-ad27-4b38-adb6-46ae70ee9d28",
   "metadata": {},
   "outputs": [
    {
     "name": "stdin",
     "output_type": "stream",
     "text": [
      "enter number:  2\n"
     ]
    },
    {
     "name": "stdout",
     "output_type": "stream",
     "text": [
      "even\n"
     ]
    }
   ],
   "source": [
    "number = float(input(\"enter number: \"))\n",
    "integer = int(number)\n",
    "if integer ==0:\n",
    "    result = \"special\"\n",
    "elif integer % 2 == 0:\n",
    "    result = \"even\"\n",
    "else:\n",
    "        result = \"odd\"\n",
    "print(result)\n",
    "    "
   ]
  },
  {
   "cell_type": "code",
   "execution_count": 11,
   "id": "130a3cba-c077-40d4-a00b-9ecada672e63",
   "metadata": {},
   "outputs": [
    {
     "name": "stdin",
     "output_type": "stream",
     "text": [
      "input number:  5\n"
     ]
    },
    {
     "data": {
      "text/plain": [
       "6"
      ]
     },
     "execution_count": 11,
     "metadata": {},
     "output_type": "execute_result"
    }
   ],
   "source": [
    "def add1(number): # defines function\n",
    "        output = number + 1\n",
    "        return(output) \n",
    "    \n",
    "number = int(input(\"input number: \")) \n",
    "add1(number) # calling function"
   ]
  },
  {
   "cell_type": "code",
   "execution_count": 12,
   "id": "32b716c0-7d51-499d-a133-ca468efce81d",
   "metadata": {},
   "outputs": [
    {
     "name": "stdin",
     "output_type": "stream",
     "text": [
      "input number:  4\n"
     ]
    },
    {
     "data": {
      "text/plain": [
       "16"
      ]
     },
     "execution_count": 12,
     "metadata": {},
     "output_type": "execute_result"
    }
   ],
   "source": [
    "def square(number):\n",
    "    output = number ** 2\n",
    "    return(output)\n",
    "\n",
    "number = int(input(\"input number: \")) \n",
    "square(number) # calling function"
   ]
  },
  {
   "cell_type": "code",
   "execution_count": 18,
   "id": "219c07c2-cf4d-47cf-9bb0-4ac20f149c1e",
   "metadata": {},
   "outputs": [
    {
     "name": "stdin",
     "output_type": "stream",
     "text": [
      "input a number:  3\n"
     ]
    },
    {
     "data": {
      "text/plain": [
       "3"
      ]
     },
     "execution_count": 18,
     "metadata": {},
     "output_type": "execute_result"
    }
   ],
   "source": [
    "def table(number):\n",
    "    one = number * 1\n",
    "    two = number * 2\n",
    "    three = number * 3\n",
    "    four = number * 4\n",
    "    five = number * 5\n",
    "    six = number * 6\n",
    "    seven = number * 7\n",
    "    eight = number * 8\n",
    "    return(one)\n",
    "    return(two)\n",
    "\n",
    "number = int(input(\"input a number: \")) \n",
    "table(number)\n"
   ]
  },
  {
   "cell_type": "code",
   "execution_count": null,
   "id": "84957709-05e9-4bd7-96c9-0b4f82885bf8",
   "metadata": {},
   "outputs": [],
   "source": [
    "def multiply(number):\n",
    "    string = \"\"\n",
    "    while mult <=15:\n",
    "        new_mult = number * muktiply\n",
    "        multiply = multiply + 1\n",
    "        string = string + new_mult\n",
    "        "
   ]
  },
  {
   "cell_type": "markdown",
   "id": "72955f01-2ead-4018-8a65-36b7b32a99b7",
   "metadata": {},
   "source": [
    "# Practice"
   ]
  },
  {
   "cell_type": "code",
   "execution_count": 37,
   "id": "c121df7f-5ae8-4826-acd4-ee6e7928057d",
   "metadata": {},
   "outputs": [
    {
     "name": "stdin",
     "output_type": "stream",
     "text": [
      "Enter hours:  3\n",
      "Enter pay:  3\n"
     ]
    },
    {
     "name": "stdout",
     "output_type": "stream",
     "text": [
      "Wage: 9.0\n"
     ]
    }
   ],
   "source": [
    "# Calculate wage\n",
    "hours = input(\"Enter hours: \")\n",
    "pay = input(\"Enter pay: \")\n",
    "try:\n",
    "    hours = float(hours)\n",
    "    pay = float(pay)\n",
    "    wage = hours * pay\n",
    "except: \n",
    "    wage = -1\n",
    "    \n",
    "if wage < 0 :\n",
    "    print(\"Error, please enter numeric input\")\n",
    "else:\n",
    "    print(\"Wage: \"+ str(wage))"
   ]
  },
  {
   "cell_type": "code",
   "execution_count": 51,
   "id": "34ce4535-5e6f-47b3-a2ee-f29c1ba515fa",
   "metadata": {},
   "outputs": [
    {
     "name": "stdin",
     "output_type": "stream",
     "text": [
      "Enter hours:  3\n",
      "Enter rate:  3\n"
     ]
    },
    {
     "data": {
      "text/plain": [
       "75.0"
      ]
     },
     "execution_count": 51,
     "metadata": {},
     "output_type": "execute_result"
    }
   ],
   "source": [
    "def computePay(hours, rate):\n",
    "    wage = float(hours) * 10 + float(rate) * 15\n",
    "    return(wage)\n",
    "\n",
    "hours = input(\"Enter hours: \")\n",
    "rate = input(\"Enter rate: \")\n",
    "\n",
    "try: \n",
    "    float(hours)\n",
    "    float(rate)\n",
    "except:\n",
    "    print(\"Error, please try a numerical input\")\n",
    "    \n",
    "computePay(hours, rate)"
   ]
  },
  {
   "cell_type": "code",
   "execution_count": 52,
   "id": "cbc5e8d2-b4e0-4c5c-8d0a-4efd4438592c",
   "metadata": {},
   "outputs": [
    {
     "name": "stdout",
     "output_type": "stream",
     "text": [
      "1\n",
      "3\n"
     ]
    }
   ],
   "source": [
    "#message = \"INFORMATION_AGE\"\n",
    "#len_message = len(message)\n",
    "len_message = 15\n",
    "shift = 4\n",
    "\n",
    "amount = shift - (len_message - ((len_message // shift) * shift))\n",
    "print(amount)\n",
    "\n",
    "amount2 = len_message - (len_message // shift)*shift\n",
    "print(amount2)"
   ]
  },
  {
   "cell_type": "code",
   "execution_count": 54,
   "id": "374125ed-7c92-4771-8ebf-88283af1fea0",
   "metadata": {},
   "outputs": [
    {
     "data": {
      "text/plain": [
       "3"
      ]
     },
     "execution_count": 54,
     "metadata": {},
     "output_type": "execute_result"
    }
   ],
   "source": [
    "15//4"
   ]
  },
  {
   "cell_type": "code",
   "execution_count": null,
   "id": "87cd936d-88d5-4ea3-a127-306834089f5c",
   "metadata": {},
   "outputs": [],
   "source": []
  }
 ],
 "metadata": {
  "kernelspec": {
   "display_name": "Python 3 (ipykernel)",
   "language": "python",
   "name": "python3"
  },
  "language_info": {
   "codemirror_mode": {
    "name": "ipython",
    "version": 3
   },
   "file_extension": ".py",
   "mimetype": "text/x-python",
   "name": "python",
   "nbconvert_exporter": "python",
   "pygments_lexer": "ipython3",
   "version": "3.10.9"
  }
 },
 "nbformat": 4,
 "nbformat_minor": 5
}
