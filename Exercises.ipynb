{
 "cells": [
  {
   "cell_type": "code",
   "execution_count": 11,
   "id": "c0ad9b5f",
   "metadata": {},
   "outputs": [
    {
     "name": "stdout",
     "output_type": "stream",
     "text": [
      "String: hey\n",
      "YEH\n"
     ]
    }
   ],
   "source": [
    "question = input(\"String: \")\n",
    "reverse = question[::-1]\n",
    "print(reverse.upper())"
   ]
  },
  {
   "cell_type": "code",
   "execution_count": null,
   "id": "1f866082",
   "metadata": {},
   "outputs": [],
   "source": [
    "question = input(\"Number: \")\n",
    "new = float(question)\n",
    "\n",
    "if new % 2 = 0\n",
    "    print(\"even\")\n",
    "    else (\"odd\")\n"
   ]
  },
  {
   "cell_type": "code",
   "execution_count": null,
   "id": "89b6a316",
   "metadata": {},
   "outputs": [],
   "source": [
    "new = 2\n",
    "float(new)\n",
    "\n",
    "if new % 2 = 0:\n",
    "    print(\"even\")\n",
    "    else print(\"odd\")\n"
   ]
  },
  {
   "cell_type": "code",
   "execution_count": null,
   "id": "4029a5eb",
   "metadata": {},
   "outputs": [],
   "source": [
    "new = 2\n",
    "float(new)\n",
    "type = new"
   ]
  },
  {
   "cell_type": "code",
   "execution_count": null,
   "id": "5339b344",
   "metadata": {},
   "outputs": [],
   "source": [
    "number = float(input(\"enter number: \"))\n",
    "integer = int(number)\n",
    "if integer % 2 == 0:\n",
    "    result = \"even\"\n",
    "else:\n",
    "    result = \"odd\"\n",
    "    \n",
    "print(result)\n",
    "    "
   ]
  },
  {
   "cell_type": "code",
   "execution_count": null,
   "id": "5d4c6c27",
   "metadata": {},
   "outputs": [],
   "source": [
    "number = float(input(\"enter number: \"))\n",
    "integer = int(number)\n",
    "if integer % 2 == 0:\n",
    "    result = \"even\"\n",
    "else:\n",
    "    result = \"odd\"\n",
    "    \n",
    "print(result)\n",
    "    "
   ]
  },
  {
   "cell_type": "code",
   "execution_count": 14,
   "id": "7767d92d-aec7-42bb-9dcb-6baa6182d6ee",
   "metadata": {},
   "outputs": [
    {
     "name": "stdout",
     "output_type": "stream",
     "text": [
      "enter number:  3\n"
     ]
    },
    {
     "name": "stdout",
     "output_type": "stream",
     "text": [
      "odd\n"
     ]
    }
   ],
   "source": [
    "number = float(input(\"enter number: \"))\n",
    "integer = int(number)\n",
    "if integer % 2 == 0:\n",
    "    result = \"even\"\n",
    "else:\n",
    "    if integer == 0:\n",
    "        result = \"special\"\n",
    "    else:\n",
    "        result = \"odd\"\n",
    "print(result)\n",
    "    "
   ]
  },
  {
   "attachments": {},
   "cell_type": "markdown",
   "id": "dc5ffe05-2635-4f37-bd19-0de2cc3928b5",
   "metadata": {
    "jp-MarkdownHeadingCollapsed": true,
    "tags": []
   },
   "source": [
    "# Assignment 1"
   ]
  },
  {
   "cell_type": "code",
   "execution_count": 1,
   "id": "1f34dbc7-6b8d-4eb6-bb6c-194956490a3b",
   "metadata": {},
   "outputs": [],
   "source": [
    "def savings(gross_pay, tax_rate, expenses):\n",
    "    '''Savings.\n",
    "    5 points.\n",
    "\n",
    "    This function calculates the money remaining\n",
    "        for an employee after taxes and expenses.\n",
    "\n",
    "    To get the take-home pay of an employee, we will\n",
    "        follow the following process:\n",
    "        1. Apply the tax rate to the gross pay of the employee; round down\n",
    "        2. Subtract the expenses from the after-tax pay of the employee\n",
    "\n",
    "    Parameters\n",
    "    ----------\n",
    "    gross_pay: int\n",
    "        the gross pay of an employee for a certain time period, expressed in centavos\n",
    "    tax_rate: float\n",
    "        the tax rate for a certain time period, expressed as a number between 0 and 1 (e.g., 0.12)\n",
    "    expenses: int\n",
    "        the expenses of an employee for a certain time period, expressed in centavos\n",
    "\n",
    "    Returns\n",
    "    -------\n",
    "    int\n",
    "        the number of centavos remaining from an employee's pay after taxes and expenses\n",
    "    '''\n",
    "    # Replace `pass` with your code.\n",
    "    # Stay within the function. Only use the parameters as input. The function should return your answer.\n",
    "    import math\n",
    "    tax = gross_pay - (gross_pay * tax_rate)\n",
    "    remaining = math.floor(tax) - expenses\n",
    "\n",
    "    return(remaining)"
   ]
  },
  {
   "cell_type": "code",
   "execution_count": 3,
   "id": "cacfa1a9-972a-4c09-a38b-2c3e879b8a0b",
   "metadata": {},
   "outputs": [
    {
     "data": {
      "text/plain": [
       "2070"
      ]
     },
     "execution_count": 3,
     "metadata": {},
     "output_type": "execute_result"
    }
   ],
   "source": [
    "savings(3000,0.3,30)"
   ]
  },
  {
   "cell_type": "code",
   "execution_count": 1,
   "id": "b3b81339-f347-45d1-ae72-5b3ba173e1e9",
   "metadata": {},
   "outputs": [],
   "source": [
    "def savings(gross_pay, tax_rate, expenses):\n",
    "    '''Savings.\n",
    "    5 points.\n",
    "\n",
    "    This function calculates the money remaining\n",
    "        for an employee after taxes and expenses.\n",
    "\n",
    "    To get the take-home pay of an employee, we will\n",
    "        follow the following process:\n",
    "        1. Apply the tax rate to the gross pay of the employee; round down\n",
    "        2. Subtract the expenses from the after-tax pay of the employee\n",
    "\n",
    "    Parameters\n",
    "    ----------\n",
    "    gross_pay: int\n",
    "        the gross pay of an employee for a certain time period, expressed in centavos\n",
    "    tax_rate: float\n",
    "        the tax rate for a certain time period, expressed as a number between 0 and 1 (e.g., 0.12)\n",
    "    expenses: int\n",
    "        the expenses of an employee for a certain time period, expressed in centavos\n",
    "\n",
    "    Returns\n",
    "    -------\n",
    "    int\n",
    "        the number of centavos remaining from an employee's pay after taxes and expenses\n",
    "    '''\n",
    "    # Replace `pass` with your code.\n",
    "    # Stay within the function. Only use the parameters as input. The function should return your answer.\n",
    "    import math\n",
    "    gross_pay = int(gross_pay)\n",
    "    tax_rate = float(tax_rate)\n",
    "    expenses = int(expenses)\n",
    "    tax = gross_pay - (gross_pay * tax_rate)\n",
    "    remaining = math.floor(tax) - expenses\n",
    "\n",
    "    return(remaining)"
   ]
  },
  {
   "cell_type": "code",
   "execution_count": 5,
   "id": "df2463b4-e0b1-4b87-8879-26404b28b5a5",
   "metadata": {},
   "outputs": [
    {
     "data": {
      "text/plain": [
       "800"
      ]
     },
     "execution_count": 5,
     "metadata": {},
     "output_type": "execute_result"
    }
   ],
   "source": [
    "savings(1000,.1,100)"
   ]
  },
  {
   "cell_type": "code",
   "execution_count": 10,
   "id": "2478f836-90cb-4f6d-8b35-780ada54e219",
   "metadata": {},
   "outputs": [
    {
     "name": "stdout",
     "output_type": "stream",
     "text": [
      "<class 'str'>\n"
     ]
    }
   ],
   "source": [
    "material_units = \"hey\"\n",
    "print(type(material_units))"
   ]
  },
  {
   "cell_type": "code",
   "execution_count": 12,
   "id": "df2d8185-0202-429c-a20d-21a70b9f17a3",
   "metadata": {},
   "outputs": [],
   "source": [
    "def area(width,length) :\n",
    "    total_area = width * length\n",
    "    return(total_area)"
   ]
  },
  {
   "cell_type": "code",
   "execution_count": 13,
   "id": "618477c4-66d2-4394-bcff-75e35e9751aa",
   "metadata": {},
   "outputs": [
    {
     "data": {
      "text/plain": [
       "100"
      ]
     },
     "execution_count": 13,
     "metadata": {},
     "output_type": "execute_result"
    }
   ],
   "source": [
    "area(10,10)"
   ]
  },
  {
   "cell_type": "code",
   "execution_count": 19,
   "id": "3070d778-ae3b-4e75-8006-0fc5c37f27d4",
   "metadata": {},
   "outputs": [],
   "source": [
    "def material_waste(total_material, material_units, num_jobs, job_consumption):\n",
    "    # Replace `pass` with your code.\n",
    "    # Stay within the function. Only use the parameters as input. The function should return your answer.\n",
    "    total_material = int(total_material)\n",
    "    material_units = str(material_units)\n",
    "    num_jobs = int(num_jobs)\n",
    "    job_consumption = int(job_consumption)\n",
    "\n",
    "    used_material = job_consumption * num_jobs\n",
    "    rem_material = total_material - used_material\n",
    "    rem_material= str(rem_material) + material_units\n",
    "    return(rem_material)"
   ]
  },
  {
   "cell_type": "code",
   "execution_count": 21,
   "id": "1bc762f7-b509-4972-819f-fd096c50d359",
   "metadata": {},
   "outputs": [
    {
     "data": {
      "text/plain": [
       "'280kg'"
      ]
     },
     "execution_count": 21,
     "metadata": {},
     "output_type": "execute_result"
    }
   ],
   "source": [
    "material_waste(300,\"kg\",2,10)"
   ]
  },
  {
   "cell_type": "code",
   "execution_count": 22,
   "id": "8cedacdc-b57e-4b95-a090-d858d44e5fd5",
   "metadata": {},
   "outputs": [],
   "source": [
    "def interest(principal, rate, periods):\n",
    "    \n",
    "    principal = int(principal)\n",
    "    rate = float(rate)\n",
    "    periods = int(periods)\n",
    "\n",
    "    interest = principal * (rate * periods)\n",
    "    final = principal + interest\n",
    "    return(final)"
   ]
  },
  {
   "cell_type": "code",
   "execution_count": 24,
   "id": "f7f5f61c-624a-47f7-a2fe-12851da6a40b",
   "metadata": {},
   "outputs": [
    {
     "data": {
      "text/plain": [
       "1300.0"
      ]
     },
     "execution_count": 24,
     "metadata": {},
     "output_type": "execute_result"
    }
   ],
   "source": [
    "interest(1000,.1,3)"
   ]
  },
  {
   "cell_type": "code",
   "execution_count": 33,
   "id": "b6c8e543-57a9-4faa-9adc-68efe8d309d8",
   "metadata": {},
   "outputs": [
    {
     "name": "stdout",
     "output_type": "stream",
     "text": [
      "21.56767486085343\n"
     ]
    }
   ],
   "source": [
    "weight = 150\n",
    "height = [5,10]\n",
    "\n",
    "lbs = float(weight)\n",
    "inches = height[0]*12 + height[1]\n",
    "\n",
    "meters = inches / 39.37\n",
    "kg = lbs / 2.2\n",
    "\n",
    "bmi = kg / (meters ** 2)\n",
    "\n",
    "\n",
    "print(bmi)"
   ]
  },
  {
   "attachments": {},
   "cell_type": "markdown",
   "id": "fa3501df-922e-4220-aab8-75f506f69088",
   "metadata": {
    "tags": []
   },
   "source": [
    "# Assignment 2"
   ]
  },
  {
   "cell_type": "code",
   "execution_count": 54,
   "id": "dd4b7bfd-4729-4ea3-8b45-15000cb06576",
   "metadata": {},
   "outputs": [],
   "source": [
    "def shift_letter(letter, shift):\n",
    "    '''Shift Letter.\n",
    "    5 points.\n",
    "\n",
    "    Shift a letter right by the given number.\n",
    "    Wrap the letter around if it reaches the end of the alphabet.\n",
    "\n",
    "    Examples:\n",
    "    shift_letter(\"A\", 0) -> \"A\"\n",
    "    shift_letter(\"A\", 2) -> \"C\"\n",
    "    shift_letter(\"Z\", 1) -> \"A\"\n",
    "    shift_letter(\"X\", 5) -> \"C\"\n",
    "    shift_letter(\" \", _) -> \" \"\n",
    "\n",
    "    *Note: the single underscore `_` is used to acknowledge the presence\n",
    "        of a value without caring about its contents.\n",
    "\n",
    "    Parameters\n",
    "    ----------\n",
    "    letter: str\n",
    "        a single uppercase English letter, or a space.\n",
    "    shift: int\n",
    "        the number by which to shift the letter.\n",
    "\n",
    "    Returns\n",
    "    -------\n",
    "    str\n",
    "        the letter, shifted appropriately, if a letter.\n",
    "        a single space if the original letter was a space.\n",
    "    '''\n",
    "    # Replace `pass` with your code.\n",
    "    # Stay within the function. Only use the parameters as input. The function should return your answer.\n",
    "    letter = letter.upper()\n",
    "    if letter == \" \" :\n",
    "        print(\" \")\n",
    "    elif shift == \"_\" :\n",
    "        print(\"\\'\"+letter+\"\\'\")\n",
    "    else :\n",
    "        pos = ord(letter) + shift\n",
    "        if pos > 90 :\n",
    "            pos = pos - 90 + 64\n",
    "            shifted = chr(pos)\n",
    "        else :\n",
    "            shifted = chr(pos)\n",
    "    \n",
    "        return(shifted)"
   ]
  },
  {
   "cell_type": "code",
   "execution_count": 40,
   "id": "7dea6822-7584-412b-bac8-07ccb63a9505",
   "metadata": {},
   "outputs": [
    {
     "name": "stdout",
     "output_type": "stream",
     "text": [
      "'B'\n"
     ]
    }
   ],
   "source": [
    "shift_letter(\"B\",\"_\")"
   ]
  },
  {
   "cell_type": "code",
   "execution_count": 56,
   "id": "696835e0-c551-4c13-b16e-a05a58a9a1b5",
   "metadata": {},
   "outputs": [
    {
     "name": "stdout",
     "output_type": "stream",
     "text": [
      "B CDE\n"
     ]
    }
   ],
   "source": [
    "def caesar_cipher(message, shift):\n",
    "    '''Caesar Cipher.\n",
    "    10 points.\n",
    "\n",
    "    Apply a shift number to a string of uppercase English letters and spaces.\n",
    "\n",
    "    Parameters\n",
    "    ----------\n",
    "    message: str\n",
    "        a string of uppercase English letters and spaces.\n",
    "    shift: int\n",
    "        the number by which to shift the letters.\n",
    "\n",
    "    Returns\n",
    "    -------\n",
    "    str\n",
    "        the message, shifted appropriately.\n",
    "    '''\n",
    "    # Replace `pass` with your code.\n",
    "    # Stay within the function. Only use the parameters as input. The function should return your answer.\n",
    "    message = message.upper()\n",
    "    caesar = []\n",
    "    for letter in message :\n",
    "        if letter == \" \" :\n",
    "            caesar.append(\" \")\n",
    "        else :\n",
    "            pos = ord(letter) + shift\n",
    "            \n",
    "            if pos > 90 :\n",
    "                pos = pos - 90 + 64\n",
    "                shifted = chr(pos)\n",
    "            else :\n",
    "                shifted = chr(pos)\n",
    "            \n",
    "            caesar.append(shifted)\n",
    "    print(''.join(caesar))\n",
    "    \n",
    "caesar_cipher(\"z ABC\", 2)"
   ]
  },
  {
   "cell_type": "code",
   "execution_count": 57,
   "id": "abe3a3d3-2ba1-47c5-a0da-f143b1144866",
   "metadata": {},
   "outputs": [
    {
     "data": {
      "text/plain": [
       "'A'"
      ]
     },
     "execution_count": 57,
     "metadata": {},
     "output_type": "execute_result"
    }
   ],
   "source": [
    "def shift_by_letter(letter, letter_shift):\n",
    "    '''Shift By Letter.\n",
    "    10 points.\n",
    "\n",
    "    Shift a letter to the right using the number equivalent of another letter.\n",
    "    The shift letter is any letter from A to Z, where A represents 0, B represents 1,\n",
    "        ..., Z represents 25.\n",
    "\n",
    "    Examples:\n",
    "    shift_by_letter(\"A\", \"A\") -> \"A\"\n",
    "    shift_by_letter(\"A\", \"C\") -> \"C\"\n",
    "    shift_by_letter(\"B\", \"K\") -> \"L\"\n",
    "    shift_by_letter(\" \", _) -> \" \"\n",
    "\n",
    "    Parameters\n",
    "    ----------\n",
    "    letter: str\n",
    "        a single uppercase English letter, or a space.\n",
    "    letter_shift: str\n",
    "        a single uppercase English letter.\n",
    "\n",
    "    Returns\n",
    "    -------\n",
    "    str\n",
    "        the letter, shifted appropriately.\n",
    "    '''\n",
    "    # Replace `pass` with your code.\n",
    "    # Stay within the function. Only use the parameters as input. The function should return your answer.\n",
    "    \n",
    "    letter = letter.upper()\n",
    "    letter_shift = letter_shift.upper()\n",
    "    if letter == \" \" :\n",
    "        print(\" \")\n",
    "    elif letter_shift == \"_\" :\n",
    "        print(\"\\'\"+letter+\"\\'\")\n",
    "    else :\n",
    "\n",
    "        pos = ord(letter) + (ord(letter_shift) - 65)\n",
    "        \n",
    "        if pos > 90 :\n",
    "            pos = pos - 90 + 64\n",
    "            shifted = chr(pos)\n",
    "        else :\n",
    "            shifted = chr(pos)\n",
    "    \n",
    "        return(shifted)\n",
    "    \n",
    "\n",
    "shift_by_letter(\"C\", \"Y\") "
   ]
  },
  {
   "cell_type": "code",
   "execution_count": 59,
   "id": "049ebd4b-f57c-4ac6-816a-23a8b7de61b0",
   "metadata": {},
   "outputs": [
    {
     "name": "stdout",
     "output_type": "stream",
     "text": [
      "NGMNI\n"
     ]
    }
   ],
   "source": [
    "def vigenere_cipher(message, key):\n",
    "    '''Vigenere Cipher.\n",
    "    15 points.\n",
    "\n",
    "    Encrypts a message using a keyphrase instead of a static number.\n",
    "    Every letter in the message is shifted by the number represented by the\n",
    "        respective letter in the key.\n",
    "    Spaces should be ignored.\n",
    "\n",
    "    Example:\n",
    "    vigenere_cipher(\"A C\", \"KEY\") -> \"K A\"\n",
    "\n",
    "    If needed, the keyphrase is extended to match the length of the key.\n",
    "        If the key is \"KEY\" and the message is \"LONGTEXT\",\n",
    "        the key will be extended to be \"KEYKEYKE\".\n",
    "\n",
    "    Parameters\n",
    "    ----------\n",
    "    message: str\n",
    "        a string of uppercase English letters and spaces.\n",
    "    key: str\n",
    "        a string of uppercase English letters. Will never be longer than the message.\n",
    "        Will never contain spaces.\n",
    "\n",
    "    Returns\n",
    "    -------\n",
    "    str\n",
    "        the message, shifted appropriately.\n",
    "    '''\n",
    "    # Replace `pass` with your code.\n",
    "    # Stay within the function. Only use the parameters as input. The function should return your answer.\n",
    "    message = message.upper()\n",
    "    key = key.upper()\n",
    "    from itertools import cycle\n",
    "    key = cycle(key)\n",
    "    vigenere = []\n",
    "\n",
    "    def cycle_key():\n",
    "        return next(key)\n",
    "    \n",
    "    for letter in message :\n",
    "        if letter == \" \" :\n",
    "            vigenere.append(\" \")\n",
    "        else :\n",
    "            letter_shift = cycle_key()\n",
    "            pos = ord(letter) + (ord(letter_shift) - 65)\n",
    "        \n",
    "            if pos > 90 :\n",
    "                pos = pos - 90 + 64\n",
    "                shifted = chr(pos)\n",
    "            else :\n",
    "                shifted = chr(pos)\n",
    "            vigenere.append(shifted)\n",
    "    print(''.join(vigenere))\n",
    "\n",
    "vigenere_cipher(\"DCODE\", \"kEy\")  "
   ]
  },
  {
   "cell_type": "code",
   "execution_count": 145,
   "id": "8e978c69-90b0-4679-83ca-a65ee0414b54",
   "metadata": {},
   "outputs": [
    {
     "data": {
      "text/plain": [
       "'AOTSRIOALRH_EMRNGIMA_PTT'"
      ]
     },
     "execution_count": 145,
     "metadata": {},
     "output_type": "execute_result"
    }
   ],
   "source": [
    "def scytale_cipher(message, shift):\n",
    "    '''Scytale Cipher.\n",
    "    15 points.\n",
    "\n",
    "    Encrypts a message by simulating a scytale cipher.\n",
    "\n",
    "    A scytale is a cylinder around which you can wrap a long strip of\n",
    "        parchment that contained a string of apparent gibberish. The parchment,\n",
    "        when read using the scytale, would reveal a message due to every nth\n",
    "        letter now appearing next to each other, revealing a proper message.\n",
    "    This encryption method is obsolete and should never be used to encrypt\n",
    "        data in production settings.\n",
    "\n",
    "    You may read more about the method here:\n",
    "        https://en.wikipedia.org/wiki/Scytale\n",
    "\n",
    "    You may follow this algorithm to implement a scytale-style cipher:\n",
    "    1. Take a message to be encoded and a \"shift\" number.\n",
    "        For this example, we will use \"INFORMATION_AGE\" as\n",
    "        the message and 3 as the shift.\n",
    "    2. Check if the length of the message is a multiple of\n",
    "        the shift. If it is not, add additional underscores\n",
    "        to the end of the message until it is.\n",
    "        In this example, \"INFORMATION_AGE\" is already a multiple of 3,\n",
    "        so we will leave it alone.\n",
    "    3. This is the tricky part. Construct the encoded message.\n",
    "        For each index i in the encoded message, use the character at the index\n",
    "        (i // shift) + (len(message) // shift) * (i % shift) of the raw message.\n",
    "        If this number doesn't make sense, you can play around with the cipher at\n",
    "         https://dencode.com/en/cipher/scytale to try to understand it.\n",
    "    4. Return the encoded message. In this case,\n",
    "        the output should be \"IMNNA_FTAOIGROE\".\n",
    "\n",
    "    Example:\n",
    "    scytale_cipher(\"INFORMATION_AGE\", 3) -> \"IMNNA_FTAOIGROE\"\n",
    "    scytale_cipher(\"INFORMATION_AGE\", 4) -> \"IRIANMOGFANEOT__\"\n",
    "    scytale_cipher(\"ALGORITHMS_ARE_IMPORTANT\", 8) -> \"AOTSRIOALRH_EMRNGIMA_PTT\"\n",
    "\n",
    "    Parameters\n",
    "    ----------\n",
    "    message: str\n",
    "        a string of uppercase English letters and underscores (underscores represent spaces)\n",
    "    shift: int\n",
    "        a positive int that does not exceed the length of message\n",
    "\n",
    "    Returns\n",
    "    -------\n",
    "    str\n",
    "        the encoded message\n",
    "    '''\n",
    "    # Replace `pass` with your code.\n",
    "    # Stay within the function. Only use the parameters as input. The function should return your answer.\n",
    "    message = str(message.upper())\n",
    "    len_message = len(message)\n",
    "    shift = int(shift)\n",
    "    order = []\n",
    "    \n",
    "    if len_message % shift != 0 :\n",
    "        amt = shift - (len_message % shift)\n",
    "        hyphen = (\"_\"*amt)\n",
    "        message = message+hyphen\n",
    "        #return(message)\n",
    "    \n",
    "    for i in range(len(message)) :\n",
    "        \n",
    "        order_per_char = (i // shift) + (len(message)// shift)*(i%shift) # pos in row + num of rows * pos in column\n",
    "        order.append(order_per_char)\n",
    "        #print(order)\n",
    "    \n",
    "    for char in message :\n",
    "        encoded = [message[i] for i in order]\n",
    "        return ''.join(encoded)\n",
    "        \n",
    "    \n",
    "scytale_cipher(\"ALGORITHMS_ARE_IMPORTANT\",8)"
   ]
  },
  {
   "cell_type": "code",
   "execution_count": 188,
   "id": "d04502e9-7566-4954-a276-9d653c137913",
   "metadata": {},
   "outputs": [
    {
     "name": "stdout",
     "output_type": "stream",
     "text": [
      "[0, 6, 12, 18, 1, 7, 13, 19, 2, 8, 14, 20, 3, 9, 15, 21, 4, 10, 16, 22, 5, 11, 17, 23]\n"
     ]
    }
   ],
   "source": [
    "trial = []\n",
    "shift = 4\n",
    "msg = \"THIS_IS_A_SECRET_MESSAGE\"\n",
    "for i in range(len(msg)):\n",
    "    order_per_char = (i // shift) + (len(msg)// shift)*(i%shift) # pos in column + num of columns * pos in row\n",
    "    trial.append(order_per_char)\n",
    "\n",
    "print(trial)"
   ]
  },
  {
   "cell_type": "code",
   "execution_count": 3,
   "id": "f9422907-a6db-4854-ae99-791f165b4ef6",
   "metadata": {},
   "outputs": [
    {
     "data": {
      "text/plain": [
       "'INFORMATION_AGE'"
      ]
     },
     "execution_count": 4,
     "metadata": {},
     "output_type": "execute_result"
    }
   ],
   "source": [
    "def scytale_decipher(message, shift):\n",
    "    '''Scytale De-cipher.\n",
    "    15 points.\n",
    "\n",
    "    Decrypts a message that was originally encrypted with the `scytale_cipher` function above.\n",
    "\n",
    "    Example:\n",
    "    scytale_decipher(\"IMNNA_FTAOIGROE\", 3) -> \"INFORMATION_AGE\"\n",
    "    scytale_decipher(\"AOTSRIOALRH_EMRNGIMA_PTT\", 8) -> \"ALGORITHMS_ARE_IMPORTANT\"\n",
    "    scytale_decipher(\"IRIANMOGFANEOT__\", 4) -> \"INFORMATION_AGE_\"\n",
    "\n",
    "    There is no further brief for this number.\n",
    "\n",
    "    Parameters\n",
    "    ----------\n",
    "    message: str\n",
    "        a string of uppercase English letters and underscores (underscores represent spaces)\n",
    "    shift: int\n",
    "        a positive int that does not exceed the length of message\n",
    "\n",
    "    Returns\n",
    "    -------\n",
    "    str\n",
    "        the decoded message\n",
    "    '''\n",
    "    # Replace `pass` with your code.\n",
    "    # Stay within the function. Only use the parameters as input. The function should return your answer.\n",
    "    message = str(message.upper())\n",
    "    order = []\n",
    "    for i in range(len(message)) :\n",
    "        order_per_char = (i % (len(message) // shift)) * shift + (i // (len(message) // shift))\n",
    "        order.append(order_per_char)\n",
    "    # print(order)\n",
    "    \n",
    "    for char in message :\n",
    "        encoded = [message[i] for i in order]\n",
    "        return ''.join(encoded)\n",
    "scytale_decipher(\"IMNNA_FTAOIGROE\", 3)"
   ]
  },
  {
   "attachments": {},
   "cell_type": "markdown",
   "id": "09349c4e-89c5-443e-ba18-effe279674d1",
   "metadata": {},
   "source": [
    "# Exercise 1"
   ]
  },
  {
   "cell_type": "code",
   "execution_count": 8,
   "id": "5f8df012-8a8e-4225-9fe3-7c69468750f5",
   "metadata": {},
   "outputs": [
    {
     "name": "stdout",
     "output_type": "stream",
     "text": [
      "Enter grade:  9\n"
     ]
    },
    {
     "name": "stdout",
     "output_type": "stream",
     "text": [
      "F\n"
     ]
    }
   ],
   "source": [
    "'''2. Medium Exercise: Grade Evaluation\n",
    "Write a program that prompts the user to enter a numeric grade and converts it to a letter\n",
    "grade using the following scale:\n",
    "* 92 and above: A\n",
    "* 80-91: B\n",
    "* 70-79: C\n",
    "* 60-69: D\n",
    "* Below 60: F\n",
    "* Display the corresponding letter grade.'''\n",
    "\n",
    "grade = float(input(\"Enter grade: \"))\n",
    "if grade >= 92 :\n",
    "    print(\"A\")\n",
    "elif grade >= 80 :\n",
    "    print(\"B\")\n",
    "elif grade >= 70 :\n",
    "    print(\"C\")\n",
    "elif grade >= 60 :\n",
    "    print(\"D\")\n",
    "else :\n",
    "    print(\"F\")"
   ]
  },
  {
   "cell_type": "code",
   "execution_count": 5,
   "id": "384726ac-a6dc-43b1-820e-e06f1f19b9ac",
   "metadata": {},
   "outputs": [
    {
     "name": "stdout",
     "output_type": "stream",
     "text": [
      "Enter a year:  2100\n"
     ]
    },
    {
     "name": "stdout",
     "output_type": "stream",
     "text": [
      "Not leap year\n"
     ]
    }
   ],
   "source": [
    "'''\n",
    "If Statements: Hard/Complex Exercise: Leap Year Check\n",
    "\n",
    "Write a program that prompts the user to enter a year and determines whether it is a\n",
    "leap year or not. A leap year is divisible by 4 but not divisible by 100 unless it is also divisible by\n",
    "400. Display an appropriate message based on the input.'''\n",
    "\n",
    "year = int(input(\"Enter a year: \"))\n",
    "if year % 4 == 0 and year % 100 != 0 :\n",
    "    print(\"Leap year\")\n",
    "\n",
    "elif year % 4 == 0 and year % 100 == 0 and year % 400 == 0 :\n",
    "    print(\"Leap year\")\n",
    "    \n",
    "else :\n",
    "    print(\"Not leap year\")\n",
    "\n"
   ]
  },
  {
   "cell_type": "code",
   "execution_count": 31,
   "id": "98f111b7-9961-40b5-bbb6-3e9e5566f082",
   "metadata": {},
   "outputs": [
    {
     "name": "stdout",
     "output_type": "stream",
     "text": [
      "Input start: 1\n",
      "Input end: 20\n"
     ]
    },
    {
     "name": "stdout",
     "output_type": "stream",
     "text": [
      "2\n",
      "2\n",
      "2\n",
      "2\n",
      "2\n",
      "2\n",
      "2\n",
      "2\n",
      "2\n",
      "2\n",
      "2\n",
      "2\n",
      "2\n",
      "2\n",
      "2\n",
      "2\n",
      "2\n",
      "2\n",
      "2\n"
     ]
    }
   ],
   "source": [
    "''' For Loops\n",
    "3. Hard/Complex Exercise: Prime Numbers\n",
    "Write a program that prompts the user to enter a range (start and end numbers) and\n",
    "prints all prime numbers within that range. Prime numbers are numbers that are only divisible by\n",
    "1 and themselves.'''\n",
    "\n",
    "start = int(input(\"Input start:\"))\n",
    "end = int(input(\"Input end:\"))\n",
    "p_range = range(start, end+1)\n",
    "\n",
    "\n",
    "for number in p_range :\n",
    "    if number > 1 :\n",
    "        prime = True\n",
    "        \n",
    "        #for number in range (2, int(number**0.5+1)) : #range for dividing\n",
    "        for number in range (2, int(number)) :\n",
    "            if number % i == 0:\n",
    "                prime == False\n",
    "                break\n",
    "        \n",
    "        if prime == True:\n",
    "            print(number)\n",
    "\n"
   ]
  },
  {
   "cell_type": "code",
   "execution_count": 34,
   "id": "8845cdb5-4724-4ae8-ba3f-e7b2e7a47108",
   "metadata": {},
   "outputs": [
    {
     "name": "stdout",
     "output_type": "stream",
     "text": [
      "start: 1\n",
      "end: 20\n"
     ]
    },
    {
     "name": "stdout",
     "output_type": "stream",
     "text": [
      "2\n",
      "3\n",
      "5\n",
      "7\n",
      "11\n",
      "13\n",
      "17\n",
      "19\n"
     ]
    }
   ],
   "source": [
    "start = int(input(\"start:\"))\n",
    "end = int(input(\"end:\"))\n",
    "\n",
    "for number in range(start, end+1):\n",
    "    if number > 1 :\n",
    "        prime = True\n",
    "        \n",
    "        for i in range (2, int(number)):\n",
    "            if number % i == 0: # divide by numbers i  in loop\n",
    "                prime = False\n",
    "                break\n",
    "                \n",
    "        if prime == True:\n",
    "            print(number)"
   ]
  },
  {
   "cell_type": "code",
   "execution_count": 13,
   "id": "cfb34b8e-0cc1-4342-b83d-df8a21cf07f9",
   "metadata": {},
   "outputs": [
    {
     "name": "stdout",
     "output_type": "stream",
     "text": [
      "Input number of terms: 3\n"
     ]
    },
    {
     "name": "stdout",
     "output_type": "stream",
     "text": [
      "0\n",
      "1\n",
      "1\n"
     ]
    }
   ],
   "source": [
    "''' While Loops\n",
    "3. Hard/Complex Exercise: Fibonacci Sequence\n",
    "Write a program that generates the Fibonacci sequence up to a specified number of\n",
    "terms. Prompt the user to enter the number of terms they want in the sequence and display the\n",
    "sequence accordingly. '''\n",
    "\n",
    "end = int(input(\"Input number of terms:\"))\n",
    "\n",
    "counter = 0\n",
    "next_number = 0\n",
    "i, j = 1, 0\n",
    "\n",
    "print(counter)\n",
    "\n",
    "while counter < end-1 :\n",
    "    next_number = i + j\n",
    "    print(next_number)\n",
    "    i = j\n",
    "    j = next_number\n",
    "    counter+= 1\n"
   ]
  },
  {
   "cell_type": "code",
   "execution_count": 53,
   "id": "a2862473-170d-4251-ac7d-077b054ff317",
   "metadata": {},
   "outputs": [
    {
     "name": "stdout",
     "output_type": "stream",
     "text": [
      "Enter word:  Taco cat\n"
     ]
    },
    {
     "name": "stdout",
     "output_type": "stream",
     "text": [
      "palindrome\n"
     ]
    }
   ],
   "source": [
    "'''3. Hard/Complex Exercise: Palindrome Check\n",
    "Write a program that prompts the user to enter a word or phrase and checks if it is a\n",
    "palindrome. A palindrome is a word, phrase, number, or other sequence of characters that\n",
    "reads the same forward and backward. Use a mix of loops and if statements to perform the\n",
    "check.'''\n",
    "\n",
    "word = input(\"Enter word: \")\n",
    "word = word.lower()\n",
    "new_word = []\n",
    "\n",
    "for char in word :\n",
    "    if char != \" \":\n",
    "        new_word.append(char)\n",
    "        \n",
    "reverse = new_word[::-1]\n",
    "\n",
    "if new_word == reverse :\n",
    "    print(\"palindrome\")\n",
    "else :\n",
    "    print(\"not a palindrome\")\n"
   ]
  },
  {
   "cell_type": "code",
   "execution_count": 51,
   "id": "c0aac72f-465e-4afb-b8e3-a21d79e15c1f",
   "metadata": {},
   "outputs": [
    {
     "name": "stdout",
     "output_type": "stream",
     "text": [
      "hy thr\n"
     ]
    }
   ],
   "source": [
    "s = \"hey there\"\n",
    "print(s.replace(\"e\", \"\"))\n"
   ]
  },
  {
   "cell_type": "code",
   "execution_count": 71,
   "id": "50f72a13-c0a3-48ca-a0ff-ec7ee564f52d",
   "metadata": {},
   "outputs": [
    {
     "name": "stdout",
     "output_type": "stream",
     "text": [
      "Enter number:  4775\n"
     ]
    },
    {
     "name": "stdout",
     "output_type": "stream",
     "text": [
      "59\n"
     ]
    }
   ],
   "source": [
    "''' Collatz Conjecture:\n",
    "a. If the number is even, divide it by two.\n",
    "b. If odd, multiply by 3 and add 1.\n",
    "The Collatz conjecture states that when you use the new value as x and repeat the\n",
    "function in this new value, this process will eventually reach 1, regardless of the\n",
    "positive integer chosen. Create a script that given a positive integer as user input, the\n",
    "output returns the total number of steps taken solving for the Collatz conjecture.\n",
    "e.g. input = 4775 | output = 59'''\n",
    "\n",
    "count = 0\n",
    "\n",
    "n = int(input(\"Enter number: \"))\n",
    "\n",
    "if n<=0 :\n",
    "    print(\"Enter a positive number.\")\n",
    "\n",
    "while n != 1 :\n",
    "    if n % 2 == 0 :\n",
    "        n = n/2\n",
    "        count += 1\n",
    "    else :\n",
    "        n = n*3 + 1\n",
    "        count += 1\n",
    "print(count)"
   ]
  },
  {
   "attachments": {},
   "cell_type": "markdown",
   "id": "a9b51c5b-54ac-48d8-891b-29750b2255a8",
   "metadata": {
    "tags": []
   },
   "source": [
    "# Additional Exercises"
   ]
  },
  {
   "cell_type": "code",
   "execution_count": 26,
   "id": "275cbdca-a708-4518-9963-80de3eb0a86d",
   "metadata": {},
   "outputs": [
    {
     "name": "stdout",
     "output_type": "stream",
     "text": [
      "Number A:  3\n",
      "Number B:  5\n"
     ]
    },
    {
     "name": "stdout",
     "output_type": "stream",
     "text": [
      "5 is greater than 3 by 2\n"
     ]
    }
   ],
   "source": [
    "'''1. Create a code that asks the user for two numbers and returns which number is greater\n",
    "and by how much it is greater than the other'''\n",
    "\n",
    "def addl_exercise1(num1, num2) :\n",
    "    if num1 > num2:\n",
    "        difference = str(num1-num2)\n",
    "        #return(\"Number A is greater than B by \"+difference)\n",
    "        print(f\"{num1} is greater than {num2} by {difference}\")\n",
    "\n",
    "    elif num2 > num1: \n",
    "        difference = str(num2-num1)\n",
    "        #return(\"Number B is greater than A by \"+difference)\n",
    "        print(f\"{num2} is greater than {num1} by {difference}\") #f string - uses variables\n",
    "        \n",
    "    else:\n",
    "        return(\"Both numbers are equal\") # dont forget third condition\n",
    "    \n",
    "num1 = int(input(\"Number A: \"))\n",
    "num2 = int(input(\"Number B: \"))\n",
    "addl_exercise1(num1, num2)\n"
   ]
  },
  {
   "cell_type": "code",
   "execution_count": 27,
   "id": "478d3a25-3791-4d7b-9389-92cdaca3aad1",
   "metadata": {},
   "outputs": [
    {
     "name": "stdout",
     "output_type": "stream",
     "text": [
      "153 is not well-ordered.\n"
     ]
    }
   ],
   "source": [
    "'''2. A well-ordered number is an integer whose digits increase from left to right. Create a\n",
    "code that will ask the user for a THREE-DIGIT integer and display whether or not the\n",
    "number is well-ordered.\n",
    "a. (You can do this with a for loop as well, but try to do it using arithmetic\n",
    "operators and if statements)'''\n",
    "\n",
    "def well_ordered(num) :\n",
    "    num= str(num)\n",
    "    if int(num[0]) < int(num[1]) < int(num[2]) :\n",
    "        print(str(num)+\" is well-ordered.\")\n",
    "    else :\n",
    "        print(str(num)+\" is not well-ordered.\")\n",
    "\n",
    "well_ordered(153)"
   ]
  },
  {
   "cell_type": "code",
   "execution_count": 29,
   "id": "476484a9-8732-4b51-90c3-29d9c448d368",
   "metadata": {},
   "outputs": [
    {
     "name": "stdout",
     "output_type": "stream",
     "text": [
      "1 2 3\n"
     ]
    }
   ],
   "source": [
    "# alternative\n",
    "num = 321\n",
    "third_digit = num % 10\n",
    "second_digit = (num//10) % 10\n",
    "first_digit = num // 100"
   ]
  },
  {
   "cell_type": "code",
   "execution_count": null,
   "id": "5ed2f6d2-8823-4d72-ba9e-5208678aae72",
   "metadata": {},
   "outputs": [],
   "source": []
  },
  {
   "cell_type": "code",
   "execution_count": 33,
   "id": "df65cb32-df8d-4c55-a2bc-c049c9673580",
   "metadata": {},
   "outputs": [
    {
     "name": "stdout",
     "output_type": "stream",
     "text": [
      "Number A:  3\n",
      "Number B:  4\n"
     ]
    },
    {
     "name": "stdout",
     "output_type": "stream",
     "text": [
      "4 is not divisible by 3\n"
     ]
    }
   ],
   "source": [
    "'''3. Ask the user to input two integers, and check whether the bigger number is divisible\n",
    "by the smaller one'''\n",
    "\n",
    "num1 = int(input(\"Number A: \"))\n",
    "num2 = int(input(\"Number B: \"))\n",
    "\n",
    "def isDivisible(num1,num2) :\n",
    "    if num1 >= num2 : # no need, if num1 % num2 doesnt work then it will move to num2 % num1\n",
    "        if num1 % num2 == 0:\n",
    "            print(str(num1)+\" is divisible by \"+str(num2))\n",
    "        else :\n",
    "            print(str(num1)+\" is not divisible by \"+str(num2))\n",
    "    else :\n",
    "        if num2 % num1 == 0:\n",
    "            print(str(num2)+\" is divisible by \"+str(num1))\n",
    "        else :\n",
    "            print(str(num2)+\" is not divisible by \"+str(num1))\n",
    "\n",
    "isDivisible(num1,num2)"
   ]
  },
  {
   "cell_type": "code",
   "execution_count": null,
   "id": "59016ee8-4bc5-4267-b088-6654306350ea",
   "metadata": {},
   "outputs": [
    {
     "name": "stdout",
     "output_type": "stream",
     "text": [
      "Enter a number:  36\n"
     ]
    },
    {
     "data": {
      "text/plain": [
       "'36 is a VBA number.'"
      ]
     },
     "execution_count": 38,
     "metadata": {},
     "output_type": "execute_result"
    }
   ],
   "source": [
    "'''A VBA Number is a number that meets the following conditions:\n",
    "a. It is divisible by 3.\n",
    "b. It is an even number.\n",
    "c. It is a perfect square.\n",
    "Ask the user to input a number and output whether or not it is a VBA Number.'''\n",
    "\n",
    "def isVBA(vba):\n",
    "    if vba % 3 == 0 and vba % 2 == 0 and (vba**0.5) ** 2 == vba : ## u can use square root from import math\n",
    "        # math.isqrt(num) ** 2 == num\n",
    "        return(str(vba)+\" is a VBA number.\")\n",
    "    else :\n",
    "        return(str(vba)+\" is not a VBA number.\")\n",
    "        \n",
    "vba = int(input(\"Enter a number: \"))\n",
    "isVBA(vba) \n"
   ]
  },
  {
   "attachments": {},
   "cell_type": "markdown",
   "id": "215d8103-11fe-4cb6-9dad-a3664e0972d1",
   "metadata": {},
   "source": [
    "## Loops"
   ]
  },
  {
   "cell_type": "code",
   "execution_count": 45,
   "id": "f5931a12-b082-40cf-a8db-a48c787b2a6e",
   "metadata": {},
   "outputs": [
    {
     "name": "stdout",
     "output_type": "stream",
     "text": [
      "1\n",
      "2\n",
      "Fizz\n",
      "4\n",
      "Buzz\n",
      "Fizz\n",
      "7\n",
      "8\n",
      "Fizz\n",
      "Buzz\n",
      "11\n",
      "Fizz\n",
      "13\n",
      "14\n",
      "FizzBuzz\n",
      "16\n",
      "17\n",
      "Fizz\n",
      "19\n",
      "Buzz\n",
      "Fizz\n",
      "22\n",
      "23\n",
      "Fizz\n",
      "Buzz\n",
      "26\n",
      "Fizz\n",
      "28\n",
      "29\n",
      "FizzBuzz\n",
      "31\n",
      "32\n",
      "Fizz\n",
      "34\n",
      "Buzz\n",
      "Fizz\n",
      "37\n",
      "38\n",
      "Fizz\n",
      "Buzz\n",
      "41\n",
      "Fizz\n",
      "43\n",
      "44\n",
      "FizzBuzz\n",
      "46\n",
      "47\n",
      "Fizz\n",
      "49\n",
      "Buzz\n",
      "Fizz\n",
      "52\n",
      "53\n",
      "Fizz\n",
      "Buzz\n",
      "56\n",
      "Fizz\n",
      "58\n",
      "59\n",
      "FizzBuzz\n",
      "61\n",
      "62\n",
      "Fizz\n",
      "64\n",
      "Buzz\n",
      "Fizz\n",
      "67\n",
      "68\n",
      "Fizz\n",
      "Buzz\n",
      "71\n",
      "Fizz\n",
      "73\n",
      "74\n",
      "FizzBuzz\n",
      "76\n",
      "77\n",
      "Fizz\n",
      "79\n",
      "Buzz\n",
      "Fizz\n",
      "82\n",
      "83\n",
      "Fizz\n",
      "Buzz\n",
      "86\n",
      "Fizz\n",
      "88\n",
      "89\n",
      "FizzBuzz\n",
      "91\n",
      "92\n",
      "Fizz\n",
      "94\n",
      "Buzz\n",
      "Fizz\n",
      "97\n",
      "98\n",
      "Fizz\n",
      "Buzz\n"
     ]
    }
   ],
   "source": [
    "'''Loops\n",
    "1. Classic Looping Problem: Write a function that iterates through each number from 1 to\n",
    "100. Print each number.\n",
    "a. If the number is divisible by 3, instead of the number, print \"Fizz\"\n",
    "b. If the number is divisible by 5, instead of the number, print \"Buzz\"\n",
    "c. If the number is divisible by both 3 and 5, instead of the number, print\n",
    "\"FizzBuzz\"'''\n",
    "\n",
    "for i in range(1,101) :\n",
    "    if i % 3 == 0 and i % 5 == 0 :\n",
    "        print(\"FizzBuzz\")\n",
    "    elif i % 3 == 0 :\n",
    "        print(\"Fizz\")\n",
    "    elif i % 5 == 0 :\n",
    "        print(\"Buzz\")\n",
    "    else :\n",
    "        print(i)"
   ]
  },
  {
   "cell_type": "code",
   "execution_count": 22,
   "id": "485d4517-8f5b-4df0-b50c-6f6bd565ee7b",
   "metadata": {},
   "outputs": [
    {
     "name": "stdout",
     "output_type": "stream",
     "text": [
      "Enter number A:  3\n",
      "Enter number B:  5\n"
     ]
    },
    {
     "name": "stdout",
     "output_type": "stream",
     "text": [
      "LCM: 15\n",
      "GCD: 1\n"
     ]
    }
   ],
   "source": [
    "'''2. Find the Greatest Common Factor (GCF) and Least Common Multiple (LCM) of two\n",
    "numbers.'''\n",
    "\n",
    "i = int(input(\"Enter number A: \"))\n",
    "j = int(input(\"Enter number B: \"))\n",
    "\n",
    "def gcdlcm(i,j) :\n",
    "    lcm = 0\n",
    "    gcd = 0\n",
    "\n",
    "    if j > i :\n",
    "        i, j = j, i\n",
    "\n",
    "    for x in range(2,j+1):\n",
    "        if i % x == 0 and j % x == 0 :\n",
    "            lcm = x\n",
    "\n",
    "        else :\n",
    "            lcm = j * i\n",
    "\n",
    "        if lcm != 0 :\n",
    "            break\n",
    "\n",
    "\n",
    "    gcd = int((i*j) / lcm)\n",
    "\n",
    "    print(\"LCM: \"+str(lcm))\n",
    "    print(\"GCD: \"+str(gcd))\n",
    "\n",
    "gcdlcm(i,j)\n",
    "\n",
    "        "
   ]
  },
  {
   "cell_type": "code",
   "execution_count": 57,
   "id": "32e8f258-94fa-4448-8367-12a2b5f60676",
   "metadata": {},
   "outputs": [
    {
     "name": "stdout",
     "output_type": "stream",
     "text": [
      "Please enter your number (1 - 500) :  20\n"
     ]
    },
    {
     "name": "stdout",
     "output_type": "stream",
     "text": [
      "1\n",
      "2\n",
      "4\n",
      "5\n",
      "10\n",
      "20\n"
     ]
    }
   ],
   "source": [
    "'''3. Ask the user to input an integer from 1 to 500. Print the multiples of that number less\n",
    "than or equal to 500.'''\n",
    "\n",
    "n = 0\n",
    "multiple = False\n",
    "\n",
    "while not int(n) in range(1,501):\n",
    "    n = int(input(\"Please enter your number (1 - 500) : \"))\n",
    "    \n",
    "def multiples(n):\n",
    "    for i in range(1,n+1):\n",
    "        if n%i == 0 :\n",
    "            print(i)\n",
    "multiples(n)\n",
    "        "
   ]
  },
  {
   "cell_type": "code",
   "execution_count": 72,
   "id": "47bdbce8-471a-47f5-8835-04210f5e8b4b",
   "metadata": {},
   "outputs": [
    {
     "name": "stdout",
     "output_type": "stream",
     "text": [
      "Input a number:  4\n"
     ]
    },
    {
     "name": "stdout",
     "output_type": "stream",
     "text": [
      "0\n",
      "1\n",
      "4\n",
      "9\n"
     ]
    }
   ],
   "source": [
    "'''4. Input a number “n”. Print the first n perfect squares.'''\n",
    "n = int(input(\"Input a number: \"))\n",
    "\n",
    "def perf_squares(n):\n",
    "    for i in range(n):\n",
    "        if i == 0 :\n",
    "            print(0)\n",
    "        else :\n",
    "            square = i ** 2\n",
    "            print(square)\n",
    "perf_squares(n)"
   ]
  },
  {
   "cell_type": "code",
   "execution_count": 94,
   "id": "09030264-4b49-4299-8f31-30c24d1b5487",
   "metadata": {},
   "outputs": [
    {
     "name": "stdout",
     "output_type": "stream",
     "text": [
      "Input a number: 12\n"
     ]
    },
    {
     "name": "stdout",
     "output_type": "stream",
     "text": [
      "12 has 6 factors.\n"
     ]
    }
   ],
   "source": [
    "'''5. Print the number of factors a number n has.'''\n",
    "\n",
    "n = int(input(\"Input a number:\"))\n",
    "\n",
    "def numfactors(n):\n",
    "    count = 0\n",
    "    for i in range(1,n+1):\n",
    "        if n % i == 0 :\n",
    "            count +=1\n",
    "            #print(i)\n",
    "    print(str(n)+ \" has \" + str(count) + \" factors.\")\n",
    "\n",
    "numfactors(n)\n",
    "\n"
   ]
  },
  {
   "cell_type": "code",
   "execution_count": 68,
   "id": "6004b0e6-6810-4247-bea6-be12451278f8",
   "metadata": {},
   "outputs": [
    {
     "name": "stdout",
     "output_type": "stream",
     "text": [
      "Input a number: 10\n"
     ]
    },
    {
     "name": "stdout",
     "output_type": "stream",
     "text": [
      "2\n",
      "3\n",
      "5\n",
      "7\n",
      "From 1 to 10, there are 4 prime numbers.\n"
     ]
    }
   ],
   "source": [
    "'''6. Create a code that prints how many prime numbers there are from 1 to a user-inputted\n",
    "number.'''\n",
    "\n",
    "n = int(input(\"Input a number:\"))\n",
    "\n",
    "def howmanyprime(n):\n",
    "    count = 0\n",
    "    prime = \"\"\n",
    "    for number in range(1,n+1):\n",
    "        if number > 1:\n",
    "            prime = True\n",
    "\n",
    "        for i in range(2, int(number)):\n",
    "            if number % i == 0 :\n",
    "                prime = False\n",
    "                break\n",
    "\n",
    "        if prime == True:\n",
    "            count += 1\n",
    "            print(number)\n",
    "\n",
    "    print(\"From 1 to \" + str(n) + \", there are \" + str(count) + \" prime numbers.\")\n",
    "\n",
    "howmanyprime(n)\n",
    "    \n",
    "        "
   ]
  },
  {
   "cell_type": "code",
   "execution_count": 80,
   "id": "3a0385ed-6220-48de-9711-e0c6bd679876",
   "metadata": {},
   "outputs": [
    {
     "name": "stdout",
     "output_type": "stream",
     "text": [
      "Enter a number:  3\n",
      "Enter a number:  4\n",
      "Enter a number:  5\n",
      "Enter a number:  6\n",
      "Enter a number:  8\n",
      "Enter a number:  -1\n"
     ]
    },
    {
     "name": "stdout",
     "output_type": "stream",
     "text": [
      "Max:  8\n",
      "Min:  -1\n"
     ]
    }
   ],
   "source": [
    "'''7. Create a while loop that asks for the user to input integers until they input a negative\n",
    "integer. Afterwards, print the maximum and minimum among the numbers inputted.'''\n",
    "\n",
    "n = 0\n",
    "numbers = []\n",
    "\n",
    "def maxmin(n) :\n",
    "    while n >= 0 :\n",
    "        n = int(input(\"Enter a number: \"))\n",
    "        numbers.append(n)\n",
    "\n",
    "    print(\"Max: \", str(max(numbers)))\n",
    "    print(\"Min: \", str(min(numbers)))\n",
    "maxmin(n)\n",
    "    \n",
    "    # turn into function?"
   ]
  },
  {
   "cell_type": "code",
   "execution_count": 226,
   "id": "f0d3e1b5-d3e0-4b36-84db-b315cb0f1efa",
   "metadata": {},
   "outputs": [
    {
     "name": "stdout",
     "output_type": "stream",
     "text": [
      "Enter a number:  180\n"
     ]
    },
    {
     "name": "stdout",
     "output_type": "stream",
     "text": [
      "[2, 3, 5]\n"
     ]
    }
   ],
   "source": [
    "'''8. Print the prime factorization of a user-inputted number.\n",
    "a. Input = 180\n",
    "b. Output:\n",
    "2\n",
    "2\n",
    "3\n",
    "3\n",
    "5'''\n",
    "\n",
    "import numpy\n",
    "n = int(input(\"Enter a number: \"))\n",
    "\n",
    "\n",
    "factor = \"\"\n",
    "factors = []\n",
    "\n",
    "for i in range(2,n) :\n",
    "    if n % i == 0 :\n",
    "        factor = i\n",
    "\n",
    "        for j in range(2, int(number)):\n",
    "\n",
    "            if i % j == 0 and i != j:\n",
    "                prime = False\n",
    "                break\n",
    "            else :\n",
    "                prime = True\n",
    "\n",
    "        if prime == True : factors.append(factor)\n",
    "\n",
    "print(factors)\n",
    "\n",
    "        "
   ]
  },
  {
   "attachments": {},
   "cell_type": "markdown",
   "id": "0423f95a-1332-4663-9e60-9aa8956fb848",
   "metadata": {},
   "source": [
    "### working one"
   ]
  },
  {
   "cell_type": "code",
   "execution_count": 90,
   "id": "785bbe09-eebf-4574-9521-c794e3338d8a",
   "metadata": {},
   "outputs": [
    {
     "name": "stdout",
     "output_type": "stream",
     "text": [
      "Enter a number:  180\n"
     ]
    },
    {
     "name": "stdout",
     "output_type": "stream",
     "text": [
      "2\n",
      "3\n",
      "5\n",
      "2\n",
      "3\n"
     ]
    }
   ],
   "source": [
    "n = int(input(\"Enter a number: \"))\n",
    "def prime_factors(n) :\n",
    "\n",
    "    n_prime = False\n",
    "\n",
    "    while n_prime == False :\n",
    "        for i in range(2,n) :\n",
    "            if n % i == 0 :\n",
    "                factor = i\n",
    "\n",
    "                for j in range(2, int(number)):\n",
    "\n",
    "                    if factor % j == 0 and factor != j:\n",
    "                        prime = False\n",
    "                        break\n",
    "                    else :\n",
    "                        prime = True\n",
    "\n",
    "                if prime == True :\n",
    "                    print(factor)\n",
    "                    n = n // factor\n",
    "\n",
    "                for m in range(2, int(number)):\n",
    "\n",
    "                    if n % m  == 0 and n != m:\n",
    "                        n_prime = False\n",
    "                        break\n",
    "                    else :\n",
    "                        n_prime = True\n",
    "prime_factors(n)\n",
    "\n",
    "                    \n",
    "#do this with functions :D and calculate if inputted num is prime or nt\n",
    "            "
   ]
  },
  {
   "cell_type": "code",
   "execution_count": 93,
   "id": "32968c46-3745-43dc-838b-2641c6308cd0",
   "metadata": {},
   "outputs": [
    {
     "name": "stdout",
     "output_type": "stream",
     "text": [
      "Enter a number:  180\n"
     ]
    },
    {
     "name": "stdout",
     "output_type": "stream",
     "text": [
      "2\n",
      "2\n",
      "3\n",
      "3\n",
      "5\n"
     ]
    }
   ],
   "source": [
    "n = int(input(\"Enter a number: \"))\n",
    "def prime_factors(n) :\n",
    "\n",
    "    n_prime = False\n",
    "    prime_nums = []\n",
    "\n",
    "    while n_prime == False :\n",
    "        for i in range(2,n) :\n",
    "            if n % i == 0 :\n",
    "                factor = i\n",
    "\n",
    "                for j in range(2, int(number)):\n",
    "\n",
    "                    if factor % j == 0 and factor != j:\n",
    "                        prime = False\n",
    "                        break\n",
    "                    else :\n",
    "                        prime = True\n",
    "\n",
    "                if prime == True :\n",
    "                    prime_nums.append(factor)\n",
    "                    # print(factor)\n",
    "                    n = n // factor\n",
    "\n",
    "                for m in range(2, int(number)):\n",
    "\n",
    "                    if n % m  == 0 and n != m:\n",
    "                        n_prime = False\n",
    "                        break\n",
    "                    else :\n",
    "                        n_prime = True\n",
    "    \n",
    "    prime_nums = sorted(prime_nums)\n",
    "    for n in prime_nums :\n",
    "        print(n)\n",
    "prime_factors(n)\n",
    "\n",
    "                    \n",
    "#do this with functions :D and calculate if inputted num is prime or nt\n",
    "            "
   ]
  },
  {
   "cell_type": "code",
   "execution_count": 262,
   "id": "dedeb2e0-b9a4-47de-8598-cbf1742e4fe3",
   "metadata": {},
   "outputs": [
    {
     "data": {
      "text/plain": [
       "False"
      ]
     },
     "execution_count": 262,
     "metadata": {},
     "output_type": "execute_result"
    }
   ],
   "source": [
    "def isPrime(n):\n",
    "    prime = \"\"\n",
    "    \n",
    "    for i in (1,n) :\n",
    "        if i >= 1 : \n",
    "            prime = False\n",
    "    \n",
    "        for i in range(2,int(n)) :\n",
    "            if n % i == 0:\n",
    "                prime = False\n",
    "                break\n",
    "            \n",
    "            else :\n",
    "                prime == True\n",
    "    return(prime)\n",
    "        \n",
    "isPrime(1)"
   ]
  },
  {
   "cell_type": "code",
   "execution_count": 89,
   "id": "df0c4ba5-de52-4fa5-914c-203dea240d58",
   "metadata": {},
   "outputs": [
    {
     "name": "stdout",
     "output_type": "stream",
     "text": [
      "Enter a number:  180\n"
     ]
    },
    {
     "name": "stdout",
     "output_type": "stream",
     "text": [
      "2\n",
      "2\n",
      "3\n",
      "3\n"
     ]
    },
    {
     "ename": "KeyboardInterrupt",
     "evalue": "",
     "output_type": "error",
     "traceback": [
      "\u001b[0;31m---------------------------------------------------------------------------\u001b[0m",
      "\u001b[0;31mKeyboardInterrupt\u001b[0m                         Traceback (most recent call last)",
      "Cell \u001b[0;32mIn[89], line 40\u001b[0m\n\u001b[1;32m     37\u001b[0m                         n_prime \u001b[38;5;241m==\u001b[39m \u001b[38;5;28;01mTrue\u001b[39;00m\n\u001b[1;32m     38\u001b[0m                         \u001b[38;5;28;01mbreak\u001b[39;00m\n\u001b[0;32m---> 40\u001b[0m \u001b[43mprime_factors\u001b[49m\u001b[43m(\u001b[49m\u001b[43mn\u001b[49m\u001b[43m)\u001b[49m\n",
      "Cell \u001b[0;32mIn[89], line 25\u001b[0m, in \u001b[0;36mprime_factors\u001b[0;34m(n)\u001b[0m\n\u001b[1;32m     23\u001b[0m \u001b[38;5;28;01mwhile\u001b[39;00m n_prime \u001b[38;5;241m==\u001b[39m \u001b[38;5;28;01mFalse\u001b[39;00m :\n\u001b[1;32m     24\u001b[0m     \u001b[38;5;28;01mfor\u001b[39;00m i \u001b[38;5;129;01min\u001b[39;00m \u001b[38;5;28mrange\u001b[39m(\u001b[38;5;241m2\u001b[39m,n) :\n\u001b[0;32m---> 25\u001b[0m         \u001b[38;5;28;01mif\u001b[39;00m n \u001b[38;5;241m%\u001b[39m i \u001b[38;5;241m==\u001b[39m \u001b[38;5;241m0\u001b[39m :\n\u001b[1;32m     26\u001b[0m             factor \u001b[38;5;241m=\u001b[39m i\n\u001b[1;32m     27\u001b[0m             isPrime(factor)\n",
      "\u001b[0;31mKeyboardInterrupt\u001b[0m: "
     ]
    }
   ],
   "source": [
    "n = int(input(\"Enter a number: \"))\n",
    "\n",
    "def isPrime(n):\n",
    "    prime = \"\"\n",
    "    \n",
    "    for i in (1,n) :\n",
    "        if i >= 1 : \n",
    "            prime = False\n",
    "    \n",
    "        for i in range(2,int(n)) :\n",
    "            if n % i == 0:\n",
    "                prime = False\n",
    "                break\n",
    "            \n",
    "            else :\n",
    "                prime == True\n",
    "    return(prime)\n",
    "        \n",
    "def prime_factors(n) :\n",
    "\n",
    "    n_prime = False\n",
    "\n",
    "    while n_prime == False :\n",
    "        for i in range(2,n) :\n",
    "            if n % i == 0 :\n",
    "                factor = i\n",
    "                isPrime(factor)\n",
    "\n",
    "                if prime == True :\n",
    "                    print(factor)\n",
    "                    n = n // factor\n",
    "                    isPrime(n)\n",
    "                    \n",
    "                    if prime == False :\n",
    "                        print(n)\n",
    "                    else :\n",
    "                        n_prime == True\n",
    "\n",
    "prime_factors(n)\n",
    "\n",
    "                \n",
    "            "
   ]
  },
  {
   "cell_type": "code",
   "execution_count": 78,
   "id": "c17ae507-44d9-4d2b-8cb4-3a01f320553e",
   "metadata": {},
   "outputs": [
    {
     "name": "stdout",
     "output_type": "stream",
     "text": [
      "Enter a binary number:  10010101\n"
     ]
    },
    {
     "data": {
      "text/plain": [
       "149"
      ]
     },
     "execution_count": 78,
     "metadata": {},
     "output_type": "execute_result"
    }
   ],
   "source": [
    "'''10. Create a function that converts a number in binary (base-2) to decimal (base-10).\n",
    "Create also a decimal to binary converter.'''\n",
    "\n",
    "# Number to Decimal\n",
    "binary = str(input(\"Enter a binary number: \"))\n",
    "\n",
    "if len(binary) != 8 :\n",
    "    print(\"enter 8 digits pls\")\n",
    "    \n",
    "def num_to_binary(binary) :\n",
    "    digit = 0\n",
    "    count = 7\n",
    "    \n",
    "    for i in binary :\n",
    "        if i == \"1\" :\n",
    "            digit += 2 ** count\n",
    "        count -= 1\n",
    "\n",
    "    return(digit)\n",
    "\n",
    "num_to_binary(binary)\n"
   ]
  },
  {
   "cell_type": "code",
   "execution_count": 79,
   "id": "cb743fb0-fbbf-47ca-b343-a9acd0893e70",
   "metadata": {},
   "outputs": [
    {
     "name": "stdout",
     "output_type": "stream",
     "text": [
      "Enter a number: 13\n"
     ]
    },
    {
     "name": "stdout",
     "output_type": "stream",
     "text": [
      "1101"
     ]
    }
   ],
   "source": [
    "# Decimal to Binary\n",
    "\n",
    "n = int(input(\"Enter a number:\"))\n",
    "\n",
    "def dec_to_binary(n) :\n",
    "    binary = []\n",
    "\n",
    "    while n != 0 :\n",
    "        rem = n % 2\n",
    "        binary.append(rem)\n",
    "        n = n // 2\n",
    "\n",
    "    binary = binary[::-1]\n",
    "    for i in binary:  \n",
    "      print(i, end=\"\")  \n",
    "\n",
    "dec_to_binary(n)"
   ]
  },
  {
   "attachments": {},
   "cell_type": "markdown",
   "id": "095c1bd7-053d-4ced-b0a2-64eff59aff20",
   "metadata": {},
   "source": [
    "# Exercises 2"
   ]
  },
  {
   "cell_type": "code",
   "execution_count": 1,
   "id": "8c9ea4c2",
   "metadata": {},
   "outputs": [
    {
     "data": {
      "text/plain": [
       "12"
      ]
     },
     "execution_count": 1,
     "metadata": {},
     "output_type": "execute_result"
    }
   ],
   "source": [
    "# 1. Write a program to find the sum of all elements in a given list.\n",
    "\n",
    "set = {3,4,5}\n",
    "def sumof(set):\n",
    "    output = sum(set)\n",
    "    return output\n",
    "\n",
    "sumof(set)\n"
   ]
  },
  {
   "cell_type": "code",
   "execution_count": 3,
   "id": "7381a0ae",
   "metadata": {},
   "outputs": [
    {
     "name": "stdout",
     "output_type": "stream",
     "text": [
      "({'name': 'John', 'age': 25},)\n"
     ]
    }
   ],
   "source": [
    "# 2. Create a dictionary to store the names and ages of five people. Print the names in alphabetical order. sorted()\n",
    "\n",
    "people = {\n",
    "    \"name\": \"John\",\n",
    "    \"age\": 25\n",
    "    },\n",
    "    \n",
    "{\n",
    "    \"name\": \"Alice\",\n",
    "    \"age\": 30\n",
    "},\n",
    "\n",
    "{\n",
    "    \"name\": \"Bpb\",\n",
    "    \"age\": 20\n",
    "},\n",
    "\n",
    "{\n",
    "    \"name\": \"Charlie\",\n",
    "    \"age\": 35\n",
    "},\n",
    "\n",
    "{\n",
    "    \"name\": \"Eve\",\n",
    "    \"age\": 28\n",
    "    }\n",
    "\n",
    "print(people)"
   ]
  },
  {
   "cell_type": "code",
   "execution_count": 6,
   "id": "9f1afbdc",
   "metadata": {},
   "outputs": [
    {
     "name": "stdout",
     "output_type": "stream",
     "text": [
      "['Alice', 'Bob', 'Charlie', 'Eve', 'John']\n"
     ]
    }
   ],
   "source": [
    "# 2. Create a dictionary to store the names and ages of five people. Print the names in alphabetical order. sorted()\n",
    "people = {\n",
    "    \"John\": 25,\n",
    "    \"Alice\": 30,\n",
    "    \"Bob\": 20,\n",
    "    \"Charlie\": 35,\n",
    "    \"Eve\": 28 }\n",
    "\n",
    "sorted_ppl = sorted(people.keys())\n",
    "\n",
    "print(sorted_ppl)"
   ]
  },
  {
   "cell_type": "code",
   "execution_count": 8,
   "id": "696b04fe",
   "metadata": {},
   "outputs": [
    {
     "name": "stdout",
     "output_type": "stream",
     "text": [
      "Maximum is 15, minimum is 3.\n"
     ]
    }
   ],
   "source": [
    "# 3. Given a tuple of numbers, find the maximum and minimum values.\n",
    "\n",
    "numbers_tuple = (10, 5, 8, 3, 15, 7)\n",
    "\n",
    "max = max(numbers_tuple)\n",
    "min = min(numbers_tuple)\n",
    "\n",
    "print(f\"Maximum is {max}, minimum is {min}.\")"
   ]
  },
  {
   "cell_type": "code",
   "execution_count": 15,
   "id": "a5b897dc",
   "metadata": {},
   "outputs": [
    {
     "data": {
      "text/plain": [
       "[12, 4, 6, 10]"
      ]
     },
     "execution_count": 15,
     "metadata": {},
     "output_type": "execute_result"
    }
   ],
   "source": [
    "# 4. Write a function that takes a list of numbers and returns a new list with only the even numbers.\n",
    "\n",
    "numbers_list = [12, 7, 9, 4, 6, 10]\n",
    "def even_nums(listt):\n",
    "    even = list(filter(lambda e: e % 2 == 0, listt))\n",
    "    return even\n",
    "\n",
    "even_nums(numbers_list)"
   ]
  },
  {
   "cell_type": "code",
   "execution_count": 2,
   "id": "b2cc835e",
   "metadata": {},
   "outputs": [
    {
     "data": {
      "text/plain": [
       "'123-456-7890'"
      ]
     },
     "execution_count": 2,
     "metadata": {},
     "output_type": "execute_result"
    }
   ],
   "source": [
    "# 5. Create a dictionary that represents a phone book. Allow the user to search for a name and retrieve the corresponding phone number.\n",
    "\n",
    "phone_book = {\n",
    "\"John Doe\": \"123-456-7890\",\n",
    "\"Jane Smith\": \"987-654-3210\",\n",
    "\"Bob Johnson\": \"555-123-4567\"\n",
    "}\n",
    "\n",
    "def find_num(name):\n",
    "    num = phone_book.get(name)\n",
    "    return num\n",
    "        \n",
    "find_num(\"John Doe\")"
   ]
  },
  {
   "cell_type": "code",
   "execution_count": 13,
   "id": "cf49c126",
   "metadata": {},
   "outputs": [
    {
     "name": "stdout",
     "output_type": "stream",
     "text": [
      "[(7, 'awesome'), (6, 'python'), (5, 'world'), (5, 'hello'), (2, 'is')]\n",
      "awesome\n",
      "python\n",
      "world\n",
      "hello\n",
      "is\n"
     ]
    }
   ],
   "source": [
    "# 6. Given a list of strings, sort them in descending order of their lengths.\n",
    "strings_list = [\"hello\", \"world\", \"python\", \"is\", \"awesome\"]\n",
    "len_list = []\n",
    "def desc_order(string):\n",
    "    for word in string :\n",
    "        length = len(word)\n",
    "        len_list.append(length)\n",
    "    # return len_list\n",
    "\n",
    "    zipped = sorted(zip(len_list,strings_list),reverse=True)\n",
    "\n",
    "    for values in zipped :\n",
    "        print(values[1])\n",
    "\n",
    "desc_order(strings_list)"
   ]
  },
  {
   "cell_type": "code",
   "execution_count": 14,
   "id": "1a7bd2d7",
   "metadata": {},
   "outputs": [
    {
     "name": "stdout",
     "output_type": "stream",
     "text": [
      "['awesome', 'python', 'hello', 'world', 'is']\n"
     ]
    }
   ],
   "source": [
    "strings_list = [\"hello\", \"world\", \"python\", \"is\", \"awesome\"]\n",
    "\n",
    "sortedlist = sorted(strings_list,key=len,reverse=True)\n",
    "print(sortedlist)"
   ]
  },
  {
   "cell_type": "code",
   "execution_count": 16,
   "id": "725f6e55",
   "metadata": {},
   "outputs": [
    {
     "name": "stdout",
     "output_type": "stream",
     "text": [
      "{'a': 1, 'b': 2, 'c': 3, 'd': 4, 'e': 5, 'f': 6}\n"
     ]
    }
   ],
   "source": [
    "#1. Write a program that merges two dictionaries and sorts them by key.\n",
    "dict1 = {\"a\": 1, \"b\": 2, \"c\": 3}\n",
    "dict2 = {\"d\": 4, \"e\": 5, \"f\": 6}\n",
    "\n",
    "new_dict = dict1 | dict2\n",
    "\n",
    "new_dict = dict(sorted(new_dict.items()))\n",
    "\n",
    "print(new_dict)\n"
   ]
  },
  {
   "cell_type": "code",
   "execution_count": 18,
   "id": "8abb7e1a",
   "metadata": {},
   "outputs": [
    {
     "name": "stdout",
     "output_type": "stream",
     "text": [
      "[('Charlie', 20), ('Alice', 25), ('Bob', 30)]\n"
     ]
    }
   ],
   "source": [
    "# 2. Given a list of tuples, each containing a name and age, sort the list based on the ages in ascending order.\n",
    "people_list = [(\"Alice\", 25), (\"Bob\", 30), (\"Charlie\", 20)]\n",
    "\n",
    "people_list = sorted(people_list,key=lambda x: x[1])\n",
    "print(people_list)"
   ]
  },
  {
   "cell_type": "code",
   "execution_count": 7,
   "id": "5befaee5",
   "metadata": {},
   "outputs": [
    {
     "name": "stdout",
     "output_type": "stream",
     "text": [
      "[2, 3, 5, 7, 11, 13, 17]\n"
     ]
    }
   ],
   "source": [
    "# 3. Create a function that takes a list of numbers and returns a new list with only the prime numbers.\n",
    "\n",
    "numbers_list = [2, 3, 5, 7, 8, 11, 13, 17, 20]\n",
    "\n",
    "def isPrime(n):\n",
    "    if n < 2:\n",
    "        return False\n",
    "    for i in range(2, int(n)):\n",
    "        if n % i == 0:\n",
    "            return False\n",
    "    return True\n",
    "    \n",
    "def primeFilter(l):\n",
    "    prime_numbers = list((filter(isPrime,l)))\n",
    "    print(prime_numbers)\n",
    "    \n",
    "primeFilter(numbers_list)"
   ]
  },
  {
   "cell_type": "code",
   "execution_count": 14,
   "id": "57ae9052",
   "metadata": {},
   "outputs": [
    {
     "name": "stdout",
     "output_type": "stream",
     "text": [
      "2\n"
     ]
    },
    {
     "data": {
      "text/plain": [
       "' make dictionary with number : count, sort by descending order, output first one'"
      ]
     },
     "execution_count": 14,
     "metadata": {},
     "output_type": "execute_result"
    }
   ],
   "source": [
    "# 4 Write a program to find the most common element in a list.\n",
    "elements_list = [1, 2, 3, 2, 4, 3, 5, 6, 2, 3]\n",
    "element_count = {}\n",
    "\n",
    "elements_set = set(elements_list)\n",
    "\n",
    "for x in elements_set :\n",
    "    count = elements_list.count(x)\n",
    "    element_count[x] = count\n",
    "\n",
    "#element_count = list(sorted(element_count,key=element_count[1]))\n",
    "\n",
    "element_count = list(sorted(element_count.items(),key=lambda n: n[1],reverse=True))\n",
    "print(element_count[0][0])\n",
    "\n",
    "''' make dictionary with number : count, sort by descending order, output first one'''\n"
   ]
  },
  {
   "cell_type": "code",
   "execution_count": 17,
   "id": "a65764a2",
   "metadata": {},
   "outputs": [
    {
     "name": "stdout",
     "output_type": "stream",
     "text": [
      "[{'name': 'Alice', 'age': 25, 'grade': 'A'}, {'name': 'Bob', 'age': 30, 'grade': 'B'}, {'name': 'Charlie', 'age': 20, 'grade': 'C'}]\n"
     ]
    }
   ],
   "source": [
    "# $. Given a list of dictionaries representing students' information (name, age, and grade),\n",
    "#sort the list based on the grades in descending order. \n",
    "\n",
    "students_list = [ {\"name\": \"Alice\", \"age\": 25, \"grade\": \"A\"},\n",
    "{\"name\": \"Bob\", \"age\": 30, \"grade\": \"B\"},\n",
    "{\"name\": \"Charlie\", \"age\": 20, \"grade\": \"C\"}\n",
    "]\n",
    "\n",
    "sorted_students = sorted(students_list,key=lambda n: n['grade'])\n",
    "print(sorted_students)"
   ]
  },
  {
   "cell_type": "code",
   "execution_count": 19,
   "id": "bc9dbc52",
   "metadata": {},
   "outputs": [
    {
     "name": "stdout",
     "output_type": "stream",
     "text": [
      "{'hello': 5, 'world': 5, 'python': 6, 'programming': 11}\n"
     ]
    }
   ],
   "source": [
    "#6. Write a function that takes a list of words and returns a dictionary where the keys are the\n",
    "# words and the values are the lengths of the words.\n",
    "words_list = [\"hello\", \"world\", \"python\", \"programming\"]\n",
    "word_dict = {}\n",
    "\n",
    "for words in words_list :\n",
    "    word_dict[words] = len(words)\n",
    "\n",
    "print(word_dict)"
   ]
  },
  {
   "cell_type": "code",
   "execution_count": 34,
   "id": "cbef92d6",
   "metadata": {},
   "outputs": [
    {
     "name": "stdout",
     "output_type": "stream",
     "text": [
      "[None, None, None, None, None]\n"
     ]
    }
   ],
   "source": [
    "# Harder Medium Problems\n",
    "\n",
    "'''1. Write a function that takes a list of names and returns a dictionary where the keys are\n",
    "the names and the values are the lengths of the names. Filter out the names that have a\n",
    "length greater than 5 and convert them to uppercase.'''\n",
    "\n",
    "names_list = [\"John\", \"Jane\", \"Alexandra\", \"Mark\", \"Robert\"]\n",
    "name_dict = {}\n",
    "\n",
    "for names in names_list :\n",
    "    name_dict[names] = len(names)\n",
    "\n",
    "def length(name) :\n",
    "    if len(name) > 5 :\n",
    "        name = name[0].upper()\n",
    "        print(name)\n",
    "\n",
    "#name_dict = list(map(length, name_dict.items()))\n",
    "print(name_dict)\n"
   ]
  },
  {
   "attachments": {},
   "cell_type": "markdown",
   "id": "1af61f9b",
   "metadata": {},
   "source": [
    "# Assignment 3"
   ]
  },
  {
   "cell_type": "code",
   "execution_count": 4,
   "id": "1cfa450f",
   "metadata": {},
   "outputs": [
    {
     "name": "stdout",
     "output_type": "stream",
     "text": [
      "no relationship\n"
     ]
    }
   ],
   "source": [
    "social_graph = {\n",
    "    \"@bongolpoc\":{\"first_name\":\"Joselito\",\n",
    "                  \"last_name\":\"Olpoc\",\n",
    "                  \"following\":[\n",
    "                  ]\n",
    "    },\n",
    "    \"@joaquin\":  {\"first_name\":\"Joaquin\",\n",
    "                  \"last_name\":\"Gonzales\",\n",
    "                  \"following\":[\n",
    "                      \"@chums\",\"@jobenilagan\"\n",
    "                  ]\n",
    "    },\n",
    "    \"@chums\" : {\"first_name\":\"Matthew\",\n",
    "                \"last_name\":\"Uy\",\n",
    "                \"following\":[\n",
    "                    \"@bongolpoc\",\"@miketan\",\"@rudyang\",\"@joeilagan\"\n",
    "                ]\n",
    "    },\n",
    "    \"@jobenilagan\":{\"first_name\":\"Joben\",\n",
    "                   \"last_name\":\"Ilagan\",\n",
    "                   \"following\":[\n",
    "                    \"@eeebeee\",\"@joeilagan\",\"@chums\",\"@joaquin\"\n",
    "                   ]\n",
    "    },\n",
    "    \"@joeilagan\":{\"first_name\":\"Joe\",\n",
    "                  \"last_name\":\"Ilagan\",\n",
    "                  \"following\":[\n",
    "                    \"@eeebeee\",\"@jobenilagan\",\"@chums\"\n",
    "                  ]\n",
    "    },\n",
    "    \"@eeebeee\":  {\"first_name\":\"Elizabeth\",\n",
    "                  \"last_name\":\"Ilagan\",\n",
    "                  \"following\":[\n",
    "                    \"@jobenilagan\",\"@joeilagan\"\n",
    "                  ]\n",
    "    },\n",
    "}\n",
    "\n",
    "'''Individual Programming Assignment 3\n",
    "\n",
    "70 points\n",
    "\n",
    "This assignment will develop your ability to manipulate data.\n",
    "'''\n",
    "\n",
    "def relationship_status(from_member, to_member, social_graph):\n",
    "    '''Relationship Status.\n",
    "    20 points.\n",
    "\n",
    "    Let us pretend that you are building a new app.\n",
    "    Your app supports social media functionality, which means that users can have\n",
    "    relationships with other users.\n",
    "\n",
    "    There are two guidelines for describing relationships on this social media app:\n",
    "    1. Any user can follow any other user.\n",
    "    2. If two users follow each other, they are considered friends.\n",
    "\n",
    "    This function describes the relationship that two users have with each other.\n",
    "\n",
    "    Please see \"assignment-4-sample-data.py\" for sample data. The social graph\n",
    "    will adhere to the same pattern.\n",
    "\n",
    "    Parameters\n",
    "    ----------\n",
    "    from_member: str\n",
    "        the subject member\n",
    "    to_member: str\n",
    "        the object member\n",
    "    social_graph: dict\n",
    "        the relationship data\n",
    "\n",
    "    Returns\n",
    "    -------\n",
    "    str\n",
    "        \"follower\" if fromMember follows toMember,\n",
    "        \"followed by\" if fromMember is followed by toMember,\n",
    "        \"friends\" if fromMember and toMember follow each other,\n",
    "        \"no relationship\" if neither fromMember nor toMember follow each other.\n",
    "    '''\n",
    "    # Replace `pass` with your code.\n",
    "    # Stay within the function. Only use the parameters as input. The function should return your answer.\n",
    "\n",
    "    follows = False\n",
    "    followed_by = False\n",
    "\n",
    "    # print(social_graph[from_member]['following'])\n",
    "\n",
    "    for member in (social_graph[from_member]['following']) :\n",
    "        if member == to_member :\n",
    "            follows = True\n",
    "            break\n",
    "        else :\n",
    "            follows = False\n",
    "    \n",
    "    for member in (social_graph[to_member]['following']) :\n",
    "        if member == from_member :\n",
    "            followed_by = True\n",
    "            break\n",
    "        else :\n",
    "            followed_by = False\n",
    "        \n",
    "    \n",
    "    if follows and followed_by :\n",
    "        print(\"friends\")\n",
    "    \n",
    "    elif follows :\n",
    "        print(\"follower\")\n",
    "\n",
    "    elif followed_by :\n",
    "        print(\"followed by\")\n",
    "\n",
    "    else :\n",
    "        print(\"no relationship\")\n",
    "    \n",
    "                \n",
    "relationship_status(\"@bongolpoc\",\"@eeebeee\",social_graph)"
   ]
  },
  {
   "cell_type": "code",
   "execution_count": 6,
   "id": "516dde25",
   "metadata": {},
   "outputs": [
    {
     "name": "stdout",
     "output_type": "stream",
     "text": [
      "X\n"
     ]
    }
   ],
   "source": [
    "'''\n",
    "Sample data for Tic Tac Toe below:\n",
    "'''\n",
    "\n",
    "board1 = [\n",
    "['X','X','O'],\n",
    "['O','X','O'],\n",
    "['O','','X'],\n",
    "]\n",
    "\n",
    "board2 = [\n",
    "['X','X','O'],\n",
    "['O','X','O'],\n",
    "['','O','X'],\n",
    "]\n",
    "\n",
    "board3 = [\n",
    "['O','X','O'],\n",
    "['','O','X'],\n",
    "['X','X','O'],\n",
    "]\n",
    "\n",
    "board4 = [\n",
    "['X','X','X'],\n",
    "['O','X','O'],\n",
    "['O','','O'],\n",
    "]\n",
    "\n",
    "board5 = [\n",
    "['X','X','O'],\n",
    "['O','X','O'],\n",
    "['X','','O'],\n",
    "]\n",
    "\n",
    "board6 = [\n",
    "['X','X','O'],\n",
    "['O','X','O'],\n",
    "['X','',''],\n",
    "]\n",
    "\n",
    "board7 = [\n",
    "['X','X','O',''],\n",
    "['O','X','O','O'],\n",
    "['X','','','O'],\n",
    "['O','X','','']\n",
    "]\n",
    "\n",
    "board7 = [\n",
    "['X','X','O','X'],\n",
    "['O','','X','O'],\n",
    "['X','X','X','O'],\n",
    "['X','X','','X']\n",
    "]\n",
    "\n",
    "board8 = [\n",
    "['X','','O'],\n",
    "['O','X','O'],\n",
    "['X','X','X'],\n",
    "]\n",
    "\n",
    "\n",
    "def tic_tac_toe(board):\n",
    "    '''Tic Tac Toe.\n",
    "    25 points.\n",
    "\n",
    "    Tic Tac Toe is a common paper-and-pencil game.\n",
    "    Players must attempt to successfully draw a straight line of their symbol across a grid.\n",
    "    The player that does this first is considered the winner.\n",
    "\n",
    "    This function evaluates a tic tac toe board and returns the winner.\n",
    "\n",
    "    Please see \"assignment-4-sample-data.py\" for sample data. The board will adhere\n",
    "    to the same pattern. The board may by 3x3, 4x4, 5x5, or 6x6. The board will never\n",
    "    have more than one winner. The board will only ever have 2 unique symbols at the same time.\n",
    "\n",
    "    Parameters\n",
    "    ----------\n",
    "    board: list\n",
    "        the representation of the tic-tac-toe board as a square list of lists\n",
    "\n",
    "    Returns\n",
    "    -------\n",
    "    str\n",
    "        the symbol of the winner or \"NO WINNER\" if there is no winner\n",
    "    '''\n",
    "    # Replace `pass` with your code.\n",
    "    # Stay within the function. Only use the parameters as input. The function should return your answer.\n",
    "\n",
    "    size = (len(board))\n",
    "    characters = []\n",
    "    winner = None\n",
    "\n",
    "    for i in board:\n",
    "        for j in i:\n",
    "            characters.append(j)\n",
    "    unique_characters = list(set(characters))\n",
    "    #return(unique_characters)\n",
    "\n",
    "    # check row\n",
    "    for i in board :\n",
    "        if len(set(i)) == 1 :\n",
    "            winner = i[0]\n",
    "            break\n",
    "\n",
    "    # check column\n",
    "    column_count = 0\n",
    "    columns = []\n",
    "    while column_count <= size - 1 :\n",
    "        for i in board:\n",
    "            columns.append(i[column_count])\n",
    "        column_count += 1\n",
    "    #return(columns)\n",
    "\n",
    "    # dividing column into columns\n",
    "    column_list = []\n",
    "    for i in range(0,len(columns),size):\n",
    "        column_list.append(columns[i:i+size])\n",
    "    \n",
    "    for i in column_list :\n",
    "            if len(set(i)) == 1 :\n",
    "                winner = i[0]\n",
    "                break\n",
    "\n",
    "\n",
    "    # check diagonal\n",
    "    diagonals = []\n",
    "    left_diagonal = []\n",
    "    right_diagonal = []\n",
    "    \n",
    "    ld_count = 0\n",
    "    for i in board:\n",
    "        left_diagonal.append(i[ld_count])\n",
    "        ld_count += 1\n",
    "    diagonals.append(left_diagonal)\n",
    "\n",
    "    rd_count = size - 1\n",
    "    for i in board:\n",
    "        right_diagonal.append(i[rd_count])\n",
    "        rd_count -= 1\n",
    "    diagonals.append(right_diagonal)\n",
    "\n",
    "    for i in diagonals :\n",
    "            if len(set(i)) == 1 :\n",
    "                winner = i[0]\n",
    "                break\n",
    "\n",
    "    if winner == None or winner == '' :\n",
    "        print(\"NO WINNER\")\n",
    "    else :\n",
    "        print(winner)   \n",
    "\n",
    "tic_tac_toe(board8)"
   ]
  },
  {
   "cell_type": "code",
   "execution_count": null,
   "id": "ccdbfdeb",
   "metadata": {},
   "outputs": [],
   "source": [
    "board1 = [\n",
    "['X','X','O'],\n",
    "['O','X','O'],\n",
    "['O','','X'],\n",
    "]\n",
    "\n",
    "board5 = [\n",
    "['X','X','O'],\n",
    "['O','X','O'],\n",
    "['X','','O'],\n",
    "]\n",
    "\n",
    "1 1\n",
    "2 2\n",
    "3 3\n",
    "\n"
   ]
  },
  {
   "attachments": {},
   "cell_type": "markdown",
   "id": "d07c0f87",
   "metadata": {},
   "source": [
    "assignment 3.2\n",
    "row winner\n",
    "column winner\n",
    "diagonal winner\n",
    "\n",
    "no winner\n",
    "\n",
    "append until len reached \n",
    "+1 index"
   ]
  },
  {
   "cell_type": "code",
   "execution_count": 6,
   "id": "18ca22c0",
   "metadata": {},
   "outputs": [
    {
     "data": {
      "text/plain": [
       "0"
      ]
     },
     "execution_count": 6,
     "metadata": {},
     "output_type": "execute_result"
    }
   ],
   "source": [
    "legs = {\n",
    "     (\"upd\",\"admu\"):{\n",
    "         \"travel_time_mins\":10\n",
    "     },\n",
    "     (\"admu\",\"dlsu\"):{\n",
    "         \"travel_time_mins\":35\n",
    "     },\n",
    "     (\"dlsu\",\"upd\"):{\n",
    "         \"travel_time_mins\":55\n",
    "     }\n",
    "}\n",
    "\n",
    "legs2 = {\n",
    "    ('a1', 'a2'): {\n",
    "        'travel_time_mins': 10\n",
    "    },\n",
    "    ('a2', 'b1'): {\n",
    "        'travel_time_mins': 10230\n",
    "    },\n",
    "    ('b1', 'a1'): {\n",
    "        'travel_time_mins': 1\n",
    "    }\n",
    "}\n",
    "\n",
    "legs3 = {\n",
    "    ('c1', 'a1'): {\n",
    "        'travel_time_mins': 3\n",
    "    },\n",
    "    ('a1', 'a2'): {\n",
    "        'travel_time_mins': 10\n",
    "    },\n",
    "    ('a2', 'b1'): {\n",
    "        'travel_time_mins': 10230\n",
    "    },\n",
    "    ('b1', 'a1'): {\n",
    "        'travel_time_mins': 5\n",
    "    },\n",
    "    ('a1', 'c1'): {\n",
    "        'travel_time_mins': 7\n",
    "    }\n",
    "}\n",
    "\n",
    "def eta(first_stop, second_stop, route_map):\n",
    "    '''ETA.\n",
    "    25 points.\n",
    "\n",
    "    A shuttle van service is tasked to travel along a predefined circlar route.\n",
    "    This route is divided into several legs between stops.\n",
    "    The route is one-way only, and it is fully connected to itself.\n",
    "\n",
    "    This function returns how long it will take the shuttle to arrive at a stop\n",
    "    after leaving another stop.\n",
    "\n",
    "    Please see \"mod-4-ipa-1-sample-data.py\" for sample data. The route map will\n",
    "    adhere to the same pattern. The route map may contain more legs and more stops,\n",
    "    but it will always be one-way and fully enclosed.\n",
    "\n",
    "    Parameters\n",
    "    ----------\n",
    "    first_stop: str\n",
    "        the stop that the shuttle will leave\n",
    "    second_stop: str\n",
    "        the stop that the shuttle will arrive at\n",
    "    route_map: dict\n",
    "        the data describing the routes\n",
    "\n",
    "    Returns\n",
    "    -------\n",
    "    int\n",
    "        the time it will take the shuttle to travel from first_stop to second_stop\n",
    "    '''\n",
    "    # Replace `pass` with your code.\n",
    "    # Stay within the function. Only use the parameters as input. The function should return your answer.\n",
    "    import itertools\n",
    "    try:\n",
    "        return(route_map[first_stop, second_stop][\"travel_time_mins\"])\n",
    "    except:\n",
    "        routes = {}\n",
    "        travel_time = []\n",
    "        #return(dict)\n",
    "\n",
    "        for route in route_map :\n",
    "            if route[0] == first_stop :\n",
    "                first_index = list(route_map).index(route)\n",
    "                #return first_index\n",
    "\n",
    "        for route in route_map :\n",
    "            if route[1] == second_stop :\n",
    "                second_index = list(route_map).index(route)\n",
    "                return second_index\n",
    "        \n",
    "        routes = dict(itertools.islice(route_map.items(), first_index ,second_index+1))\n",
    "\n",
    "        for route in routes.values() :\n",
    "            travel_time.append((route['travel_time_mins']))\n",
    "            \n",
    "        return(sum(travel_time))\n",
    "\n",
    "\n",
    "eta(\"dlsu\",\"admu\",legs)"
   ]
  },
  {
   "cell_type": "code",
   "execution_count": 15,
   "id": "71e786fb",
   "metadata": {},
   "outputs": [
    {
     "name": "stdout",
     "output_type": "stream",
     "text": [
      "[('c1', 'a1'), ('a1', 'a2'), ('a2', 'b1'), ('b1', 'a1'), ('a1', 'c1')]\n"
     ]
    }
   ],
   "source": [
    "legs = {\n",
    "    ('c1', 'a1'): {\n",
    "        'travel_time_mins': 3\n",
    "    },\n",
    "    ('a1', 'a2'): {\n",
    "        'travel_time_mins': 10\n",
    "    },\n",
    "    ('a2', 'b1'): {\n",
    "        'travel_time_mins': 10230\n",
    "    },\n",
    "    ('b1', 'a1'): {\n",
    "        'travel_time_mins': 5\n",
    "    },\n",
    "    ('a1', 'c1'): {\n",
    "        'travel_time_mins': 7\n",
    "    }\n",
    "}\n",
    "\n",
    "print(list(legs))"
   ]
  },
  {
   "cell_type": "code",
   "execution_count": 5,
   "id": "60a60561",
   "metadata": {},
   "outputs": [
    {
     "name": "stdout",
     "output_type": "stream",
     "text": [
      "{('a1', 'a2'): {'travel_time_mins': 10}, ('a2', 'b1'): {'travel_time_mins': 10230}}\n"
     ]
    }
   ],
   "source": [
    "import itertools\n",
    "# Create a new dictionary variable\n",
    "myDictionary = {\n",
    "    ('c1', 'a1'): {\n",
    "        'travel_time_mins': 3\n",
    "    },\n",
    "    ('a1', 'a2'): {\n",
    "        'travel_time_mins': 10\n",
    "    },\n",
    "    ('a2', 'b1'): {\n",
    "        'travel_time_mins': 10230\n",
    "    },\n",
    "    ('b1', 'a1'): {\n",
    "        'travel_time_mins': 5\n",
    "    },\n",
    "    ('a1', 'c1'): {\n",
    "        'travel_time_mins': 7\n",
    "    }\n",
    "}\n",
    "# Create a sliced dictionary\n",
    "# dict() is used to convert the iterable result of itertools.islice() to a new dictionary\n",
    "slicedDict = dict(itertools.islice(myDictionary.items(), 1 ,3))\n",
    "print(slicedDict)"
   ]
  },
  {
   "attachments": {},
   "cell_type": "markdown",
   "id": "aae02d5d",
   "metadata": {},
   "source": [
    "assignment 3.3\n",
    "direct match - find"
   ]
  },
  {
   "cell_type": "markdown",
   "id": "49728aed",
   "metadata": {},
   "source": [
    "# Assignment 2 Redo"
   ]
  },
  {
   "cell_type": "code",
   "execution_count": 18,
   "id": "cfd8565e",
   "metadata": {},
   "outputs": [
    {
     "data": {
      "text/plain": [
       "'Y'"
      ]
     },
     "execution_count": 18,
     "metadata": {},
     "output_type": "execute_result"
    }
   ],
   "source": [
    "def shift_letter(letter, shift):\n",
    "    '''Shift Letter.\n",
    "    5 points.\n",
    "\n",
    "    Shift a letter right by the given number.\n",
    "    Wrap the letter around if it reaches the end of the alphabet.\n",
    "\n",
    "    Examples:\n",
    "    shift_letter(\"A\", 0) -> \"A\"\n",
    "    shift_letter(\"A\", 2) -> \"C\"\n",
    "    shift_letter(\"Z\", 1) -> \"A\"\n",
    "    shift_letter(\"X\", 5) -> \"C\"\n",
    "    shift_letter(\" \", _) -> \" \"\n",
    "\n",
    "    *Note: the single underscore `_` is used to acknowledge the presence\n",
    "        of a value without caring about its contents.\n",
    "\n",
    "    Parameters\n",
    "    ----------\n",
    "    letter: str\n",
    "        a single uppercase English letter, or a space.\n",
    "    shift: int\n",
    "        the number by which to shift the letter.\n",
    "\n",
    "    Returns\n",
    "    -------\n",
    "    str\n",
    "        the letter, shifted appropriately, if a letter.\n",
    "        a single space if the original letter was a space.\n",
    "    '''\n",
    "    if letter == \" \":\n",
    "        return \" \"\n",
    "    else :\n",
    "        letter = letter.upper()\n",
    "\n",
    "    ascii_offset = ord(\"A\")\n",
    "    num_letters = 26\n",
    "    letter_value = ord(letter) - ascii_offset\n",
    "    shifted_value = (letter_value + shift) % num_letters\n",
    "    shifted_letter = chr(shifted_value + ascii_offset)\n",
    "    return shifted_letter\n",
    "\n",
    "shift_letter(\"x\",27)"
   ]
  },
  {
   "cell_type": "code",
   "execution_count": 9,
   "id": "81fdbdc9",
   "metadata": {},
   "outputs": [
    {
     "data": {
      "text/plain": [
       "'KHB'"
      ]
     },
     "execution_count": 9,
     "metadata": {},
     "output_type": "execute_result"
    }
   ],
   "source": [
    "def caesar_cipher(message, shift):\n",
    "    '''Caesar Cipher.\n",
    "    10 points.\n",
    "\n",
    "    Apply a shift number to a string of uppercase English letters and spaces.\n",
    "\n",
    "    Parameters\n",
    "    ----------\n",
    "    message: str\n",
    "        a string of uppercase English letters and spaces.\n",
    "    shift: int\n",
    "        the number by which to shift the letters.\n",
    "\n",
    "    Returns\n",
    "    -------\n",
    "    str\n",
    "        the message, shifted appropriately.\n",
    "    '''\n",
    "    shifted_message = \"\"\n",
    "    for letter in message:\n",
    "        shifted_letter = shift_letter(letter, shift)\n",
    "        shifted_message += shifted_letter\n",
    "    return shifted_message\n",
    "\n",
    "caesar_cipher(\"HEY\",3)"
   ]
  },
  {
   "cell_type": "code",
   "execution_count": 12,
   "id": "f1495c2b",
   "metadata": {},
   "outputs": [
    {
     "data": {
      "text/plain": [
       "'K'"
      ]
     },
     "execution_count": 12,
     "metadata": {},
     "output_type": "execute_result"
    }
   ],
   "source": [
    "def shift_by_letter(letter, letter_shift):\n",
    "    '''Shift By Letter.\n",
    "    10 points.\n",
    "\n",
    "    Shift a letter to the right using the number equivalent of another letter.\n",
    "    The shift letter is any letter from A to Z, where A represents 0, B represents 1,\n",
    "        ..., Z represents 25.\n",
    "\n",
    "    Examples:\n",
    "    shift_by_letter(\"A\", \"A\") -> \"A\"\n",
    "    shift_by_letter(\"A\", \"C\") -> \"C\"\n",
    "    shift_by_letter(\"B\", \"K\") -> \"L\"\n",
    "    shift_by_letter(\" \", _) -> \" \"\n",
    "\n",
    "    Parameters\n",
    "    ----------\n",
    "    letter: str\n",
    "        a single uppercase English letter, or a space.\n",
    "    letter_shift: str\n",
    "        a single uppercase English letter.\n",
    "\n",
    "    Returns\n",
    "    -------\n",
    "    str\n",
    "        the letter, shifted appropriately.\n",
    "    '''\n",
    "    if letter == \" \":\n",
    "        return \" \"\n",
    "\n",
    "    ascii_offset = ord(\"A\")\n",
    "    num_letters = 26\n",
    "    letter_value = ord(letter) - ascii_offset\n",
    "    shift_value = ord(letter_shift) - ascii_offset\n",
    "    shifted_value = (letter_value + shift_value) % num_letters\n",
    "    shifted_letter = chr(shifted_value + ascii_offset)\n",
    "    return shifted_letter\n",
    "\n",
    "shift_by_letter(\"A\",\"K\")"
   ]
  },
  {
   "cell_type": "code",
   "execution_count": 2,
   "id": "bb6a99c2",
   "metadata": {},
   "outputs": [
    {
     "ename": "NameError",
     "evalue": "name 'shift_by_letter' is not defined",
     "output_type": "error",
     "traceback": [
      "\u001b[0;31m---------------------------------------------------------------------------\u001b[0m",
      "\u001b[0;31mNameError\u001b[0m                                 Traceback (most recent call last)",
      "Cell \u001b[0;32mIn[2], line 41\u001b[0m\n\u001b[1;32m     38\u001b[0m             shifted_message \u001b[39m+\u001b[39m\u001b[39m=\u001b[39m shifted_letter\n\u001b[1;32m     39\u001b[0m     \u001b[39mreturn\u001b[39;00m shifted_message\n\u001b[0;32m---> 41\u001b[0m vigenere_cipher(\u001b[39m'\u001b[39;49m\u001b[39mMWAH\u001b[39;49m\u001b[39m'\u001b[39;49m, \u001b[39m'\u001b[39;49m\u001b[39mHEYY\u001b[39;49m\u001b[39m'\u001b[39;49m)\n",
      "Cell \u001b[0;32mIn[2], line 37\u001b[0m, in \u001b[0;36mvigenere_cipher\u001b[0;34m(message, key)\u001b[0m\n\u001b[1;32m     35\u001b[0m     \u001b[39melse\u001b[39;00m:\n\u001b[1;32m     36\u001b[0m         shift \u001b[39m=\u001b[39m \u001b[39mord\u001b[39m(key[i]) \u001b[39m-\u001b[39m \u001b[39mord\u001b[39m(\u001b[39m\"\u001b[39m\u001b[39mA\u001b[39m\u001b[39m\"\u001b[39m)\n\u001b[0;32m---> 37\u001b[0m         shifted_letter \u001b[39m=\u001b[39m shift_by_letter(message[i], \u001b[39mchr\u001b[39m(shift \u001b[39m+\u001b[39m \u001b[39mord\u001b[39m(\u001b[39m\"\u001b[39m\u001b[39mA\u001b[39m\u001b[39m\"\u001b[39m)))\n\u001b[1;32m     38\u001b[0m         shifted_message \u001b[39m+\u001b[39m\u001b[39m=\u001b[39m shifted_letter\n\u001b[1;32m     39\u001b[0m \u001b[39mreturn\u001b[39;00m shifted_message\n",
      "\u001b[0;31mNameError\u001b[0m: name 'shift_by_letter' is not defined"
     ]
    }
   ],
   "source": [
    "def vigenere_cipher(message, key):\n",
    "    '''Vigenere Cipher.\n",
    "    15 points.\n",
    "\n",
    "    Encrypts a message using a keyphrase instead of a static number.\n",
    "    Every letter in the message is shifted by the number represented by the\n",
    "        respective letter in the key.\n",
    "    Spaces should be ignored.\n",
    "\n",
    "    Example:\n",
    "    vigenere_cipher(\"A C\", \"KEY\") -> \"K A\"\n",
    "\n",
    "    If needed, the keyphrase is extended to match the length of the key.\n",
    "        If the key is \"KEY\" and the message is \"LONGTEXT\",\n",
    "        the key will be extended to be \"KEYKEYKE\".\n",
    "\n",
    "    Parameters\n",
    "    ----------\n",
    "    message: str\n",
    "        a string of uppercase English letters and spaces.\n",
    "    key: str\n",
    "        a string of uppercase English letters. Will never be longer than the message.\n",
    "        Will never contain spaces.\n",
    "\n",
    "    Returns\n",
    "    -------\n",
    "    str\n",
    "        the message, shifted appropriately.\n",
    "    '''\n",
    "    key = key * (len(message) // len(key)) + key[:len(message) % len(key)]\n",
    "    shifted_message = \"\"\n",
    "    for i in range(len(message)):\n",
    "        if message[i] == \" \":\n",
    "            shifted_message += \" \"\n",
    "        else:\n",
    "            shift = ord(key[i]) - ord(\"A\")\n",
    "            shifted_letter = shift_by_letter(message[i], chr(shift + ord(\"A\")))\n",
    "            shifted_message += shifted_letter\n",
    "    return shifted_message\n",
    "\n",
    "vigenere_cipher('MWAH', 'HEYY')"
   ]
  },
  {
   "cell_type": "code",
   "execution_count": 6,
   "id": "f778c65b",
   "metadata": {},
   "outputs": [
    {
     "ename": "ValueError",
     "evalue": "'upd' is not in list",
     "output_type": "error",
     "traceback": [
      "\u001b[0;31m---------------------------------------------------------------------------\u001b[0m",
      "\u001b[0;31mValueError\u001b[0m                                Traceback (most recent call last)",
      "Cell \u001b[0;32mIn[6], line 70\u001b[0m\n\u001b[1;32m     66\u001b[0m             total_travel_time \u001b[39m+\u001b[39m\u001b[39m=\u001b[39m route_map[leg][\u001b[39m\"\u001b[39m\u001b[39mtravel_time_mins\u001b[39m\u001b[39m\"\u001b[39m]\n\u001b[1;32m     68\u001b[0m     \u001b[39mreturn\u001b[39;00m total_travel_time\n\u001b[0;32m---> 70\u001b[0m eta(\u001b[39m\"\u001b[39;49m\u001b[39mupd\u001b[39;49m\u001b[39m\"\u001b[39;49m,\u001b[39m\"\u001b[39;49m\u001b[39madmu\u001b[39;49m\u001b[39m\"\u001b[39;49m,legs)\n",
      "Cell \u001b[0;32mIn[6], line 49\u001b[0m, in \u001b[0;36meta\u001b[0;34m(first_stop, second_stop, route_map)\u001b[0m\n\u001b[1;32m     46\u001b[0m stops \u001b[39m=\u001b[39m \u001b[39mlist\u001b[39m(route_map\u001b[39m.\u001b[39mkeys())\n\u001b[1;32m     48\u001b[0m \u001b[39m# Find the index of the first_stop and second_stop in the circular route\u001b[39;00m\n\u001b[0;32m---> 49\u001b[0m first_index \u001b[39m=\u001b[39m stops\u001b[39m.\u001b[39;49mindex(first_stop)\n\u001b[1;32m     50\u001b[0m second_index \u001b[39m=\u001b[39m stops\u001b[39m.\u001b[39mindex(second_stop)\n\u001b[1;32m     52\u001b[0m \u001b[39m# Calculate the total travel time between the first_stop and second_stop\u001b[39;00m\n",
      "\u001b[0;31mValueError\u001b[0m: 'upd' is not in list"
     ]
    }
   ],
   "source": [
    "legs = {\n",
    "     (\"upd\",\"admu\"):{\n",
    "         \"travel_time_mins\":10\n",
    "     },\n",
    "     (\"admu\",\"dlsu\"):{\n",
    "         \"travel_time_mins\":35\n",
    "     },\n",
    "     (\"dlsu\",\"upd\"):{\n",
    "         \"travel_time_mins\":55\n",
    "     }\n",
    "}\n",
    "\n",
    "legs2 = {\n",
    "    ('a1', 'a2'): {\n",
    "        'travel_time_mins': 10\n",
    "    },\n",
    "    ('a2', 'b1'): {\n",
    "        'travel_time_mins': 10230\n",
    "    },\n",
    "    ('b1', 'a1'): {\n",
    "        'travel_time_mins': 1\n",
    "    }\n",
    "}\n",
    "\n",
    "legs3 = {\n",
    "    ('c1', 'a1'): {\n",
    "        'travel_time_mins': 3\n",
    "    },\n",
    "    ('a1', 'a2'): {\n",
    "        'travel_time_mins': 10\n",
    "    },\n",
    "    ('a2', 'b1'): {\n",
    "        'travel_time_mins': 10230\n",
    "    },\n",
    "    ('b1', 'a1'): {\n",
    "        'travel_time_mins': 5\n",
    "    },\n",
    "    ('a1', 'c1'): {\n",
    "        'travel_time_mins': 7\n",
    "    }\n",
    "}\n",
    "\n",
    "def eta(first_stop, second_stop, route_map):\n",
    "\n",
    "    # Get the stops in the circular route\n",
    "    stops = list(route_map.keys())\n",
    "\n",
    "    # Find the index of the first_stop and second_stop in the circular route\n",
    "    first_index = stops.index(first_stop)\n",
    "    second_index = stops.index(second_stop)\n",
    "\n",
    "    # Calculate the total travel time between the first_stop and second_stop\n",
    "    total_travel_time = 0\n",
    "    num_stops = len(stops)\n",
    "\n",
    "    if first_index <= second_index:\n",
    "        for i in range(first_index, second_index):\n",
    "            leg = stops[i]\n",
    "            total_travel_time += route_map[leg][\"travel_time_mins\"]\n",
    "    else:\n",
    "        for i in range(first_index, num_stops):\n",
    "            leg = stops[i]\n",
    "            total_travel_time += route_map[leg][\"travel_time_mins\"]\n",
    "        for i in range(second_index):\n",
    "            leg = stops[i]\n",
    "            total_travel_time += route_map[leg][\"travel_time_mins\"]\n",
    "\n",
    "    return total_travel_time\n",
    "\n",
    "eta(\"upd\",\"admu\",legs)"
   ]
  },
  {
   "cell_type": "code",
   "execution_count": 13,
   "id": "c61affda",
   "metadata": {},
   "outputs": [
    {
     "ename": "ValueError",
     "evalue": "'admu' is not in list",
     "output_type": "error",
     "traceback": [
      "\u001b[0;31m---------------------------------------------------------------------------\u001b[0m",
      "\u001b[0;31mKeyError\u001b[0m                                  Traceback (most recent call last)",
      "Cell \u001b[0;32mIn[13], line 69\u001b[0m, in \u001b[0;36meta\u001b[0;34m(first_stop, second_stop, route_map)\u001b[0m\n\u001b[1;32m     68\u001b[0m \u001b[39mtry\u001b[39;00m:\n\u001b[0;32m---> 69\u001b[0m     \u001b[39mreturn\u001b[39;00m route_map[first_stop, second_stop][\u001b[39m\"\u001b[39m\u001b[39mtravel_time_mins\u001b[39m\u001b[39m\"\u001b[39m]\n\u001b[1;32m     70\u001b[0m \u001b[39mexcept\u001b[39;00m \u001b[39mKeyError\u001b[39;00m:\n",
      "\u001b[0;31mKeyError\u001b[0m: ('admu', 'upd')",
      "\nDuring handling of the above exception, another exception occurred:\n",
      "\u001b[0;31mValueError\u001b[0m                                Traceback (most recent call last)",
      "Cell \u001b[0;32mIn[13], line 89\u001b[0m\n\u001b[1;32m     85\u001b[0m             travel_time \u001b[39m+\u001b[39m\u001b[39m=\u001b[39m route_map[leg][\u001b[39m\"\u001b[39m\u001b[39mtravel_time_mins\u001b[39m\u001b[39m\"\u001b[39m]\n\u001b[1;32m     87\u001b[0m         \u001b[39mreturn\u001b[39;00m travel_time\n\u001b[0;32m---> 89\u001b[0m eta(\u001b[39m\"\u001b[39;49m\u001b[39madmu\u001b[39;49m\u001b[39m\"\u001b[39;49m,\u001b[39m\"\u001b[39;49m\u001b[39mupd\u001b[39;49m\u001b[39m\"\u001b[39;49m,legs)\n",
      "Cell \u001b[0;32mIn[13], line 75\u001b[0m, in \u001b[0;36meta\u001b[0;34m(first_stop, second_stop, route_map)\u001b[0m\n\u001b[1;32m     72\u001b[0m num_stops \u001b[39m=\u001b[39m \u001b[39mlen\u001b[39m(stops)\n\u001b[1;32m     74\u001b[0m \u001b[39m# Find the indices of the first_stop and second_stop in the circular route\u001b[39;00m\n\u001b[0;32m---> 75\u001b[0m first_index \u001b[39m=\u001b[39m stops\u001b[39m.\u001b[39;49mindex(first_stop)\n\u001b[1;32m     76\u001b[0m second_index \u001b[39m=\u001b[39m stops\u001b[39m.\u001b[39mindex(second_stop)\n\u001b[1;32m     78\u001b[0m travel_time \u001b[39m=\u001b[39m \u001b[39m0\u001b[39m\n",
      "\u001b[0;31mValueError\u001b[0m: 'admu' is not in list"
     ]
    }
   ],
   "source": []
  },
  {
   "cell_type": "code",
   "execution_count": 8,
   "id": "84de64ef",
   "metadata": {},
   "outputs": [
    {
     "data": {
      "text/plain": [
       "10"
      ]
     },
     "execution_count": 8,
     "metadata": {},
     "output_type": "execute_result"
    }
   ],
   "source": [
    "legs = {\n",
    "     (\"upd\",\"admu\"):{\n",
    "         \"travel_time_mins\":10\n",
    "     },\n",
    "     (\"admu\",\"dlsu\"):{\n",
    "         \"travel_time_mins\":35\n",
    "     },\n",
    "     (\"dlsu\",\"upd\"):{\n",
    "         \"travel_time_mins\":55\n",
    "     }\n",
    "}\n",
    "\n",
    "legs = {\n",
    "     (\"upd\",\"admu\"):{\n",
    "         \"travel_time_mins\":10\n",
    "     },\n",
    "     (\"admu\",\"dlsu\"):{\n",
    "         \"travel_time_mins\":35\n",
    "     },\n",
    "     (\"dlsu\",\"upd\"):{\n",
    "         \"travel_time_mins\":55\n",
    "     }\n",
    "}\n",
    "\n",
    "legs2 = {\n",
    "    ('a1', 'a2'): {\n",
    "        'travel_time_mins': 10\n",
    "    },\n",
    "    ('a2', 'b1'): {\n",
    "        'travel_time_mins': 10230\n",
    "    },\n",
    "    ('b1', 'a1'): {\n",
    "        'travel_time_mins': 1\n",
    "    }\n",
    "}\n",
    "\n",
    "legs3 = {\n",
    "    ('c1', 'a1'): {\n",
    "        'travel_time_mins': 3\n",
    "    },\n",
    "    ('a1', 'a2'): {\n",
    "        'travel_time_mins': 10\n",
    "    },\n",
    "    ('a2', 'b1'): {\n",
    "        'travel_time_mins': 10230\n",
    "    },\n",
    "    ('b1', 'a1'): {\n",
    "        'travel_time_mins': 5\n",
    "    },\n",
    "    ('a1', 'c1'): {\n",
    "        'travel_time_mins': 7\n",
    "    }\n",
    "}\n",
    "\n",
    "def eta(first_stop, second_stop, route_map):\n",
    "\n",
    "\n",
    "    '''ETA.\n",
    "    25 points.\n",
    "\n",
    "    A shuttle van service is tasked to travel along a predefined circlar route.\n",
    "    This route is divided into several legs between stops.\n",
    "    The route is one-way only, and it is fully connected to itself.\n",
    "\n",
    "    This function returns how long it will take the shuttle to arrive at a stop\n",
    "    after leaving another stop.\n",
    "\n",
    "    Please see \"mod-4-ipa-1-sample-data.py\" for sample data. The route map will\n",
    "    adhere to the same pattern. The route map may contain more legs and more stops,\n",
    "    but it will always be one-way and fully enclosed.\n",
    "\n",
    "    Parameters\n",
    "    ----------\n",
    "    first_stop: str\n",
    "        the stop that the shuttle will leave\n",
    "    second_stop: str\n",
    "        the stop that the shuttle will arrive at\n",
    "    route_map: dict\n",
    "        the data describing the routes\n",
    "\n",
    "    Returns\n",
    "    -------\n",
    "    int\n",
    "        the time it will take the shuttle to travel from first_stop to second_stop\n",
    "    '''\n",
    "    # Replace `pass` with your code.\n",
    "    # Stay within the function. Only use the parameters as input. The function should return your answer.\n",
    "    try:\n",
    "        return(route_map[first_stop, second_stop][\"travel_time_mins\"])\n",
    "    except:\n",
    "        \n",
    "        routes = {}\n",
    "        travel_time = []\n",
    "\n",
    "        #return(dict)\n",
    "\n",
    "        for route in route_map :\n",
    "            if route[0] == first_stop :\n",
    "                first_index = list(route_map).index(route)\n",
    "                #return first_index\n",
    "\n",
    "        for route in route_map :\n",
    "            if route[1] == second_stop :\n",
    "                second_index = list(route_map).index(route)\n",
    "                #return second_index\n",
    "        \n",
    "\n",
    "\n",
    "        tempList = list(dict.keys(route_map))\n",
    "        #print(tempList)\n",
    "        \n",
    "        #endKey = tempList[second_index]\n",
    "\n",
    "        sumTime = 0\n",
    "        while (first_index % len(tempList) != second_index):\n",
    "            startKey = tempList[first_index % len(tempList)]\n",
    "            sumTime += route_map[startKey][\"travel_time_mins\"]\n",
    "            first_index += 1\n",
    "\n",
    "        if(first_index >= len(tempList)):\n",
    "            sumTime += route_map[tempList[first_index % len(tempList)]][\"travel_time_mins\"]\n",
    "        else:\n",
    "            sumTime += route_map[tempList[first_index]][\"travel_time_mins\"]\n",
    "        \n",
    "\n",
    "    return(sumTime)\n",
    "\n",
    "eta(\"a1\", \"a2\",legs2)\n"
   ]
  },
  {
   "cell_type": "code",
   "execution_count": 1,
   "id": "c8f43dcb",
   "metadata": {},
   "outputs": [
    {
     "name": "stdout",
     "output_type": "stream",
     "text": [
      "INFORMATION_AGE\n",
      "ALGORITHMS_ARE_IMPORTANT\n",
      "INFORMATION_AGE_\n"
     ]
    }
   ],
   "source": [
    "def scytale_decipher(message, shift):\n",
    "    '''Scytale De-cipher.\n",
    "    15 points.\n",
    "\n",
    "    Decrypts a message that was originally encrypted with the `scytale_cipher` function above.\n",
    "\n",
    "    Example:\n",
    "    scytale_decipher(\"IMNNA_FTAOIGROE\", 3) -> \"INFORMATION_AGE\"\n",
    "    scytale_decipher(\"AOTSRIOALRH_EMRNGIMA_PTT\", 8) -> \"ALGORITHMS_ARE_IMPORTANT\"\n",
    "    scytale_decipher(\"IRIANMOGFANEOT__\", 4) -> \"INFORMATION_AGE_\"\n",
    "\n",
    "    There is no further brief for this number.\n",
    "\n",
    "    Parameters\n",
    "    ----------\n",
    "    message: str\n",
    "        a string of uppercase English letters and underscores (underscores represent spaces)\n",
    "    shift: int\n",
    "        a positive int that does not exceed the length of message\n",
    "\n",
    "    Returns\n",
    "    -------\n",
    "    str\n",
    "        the decoded message\n",
    "    '''\n",
    "    # Replace `pass` with your code.\n",
    "    # Stay within the function. Only use the parameters as input. The function should return your answer.\n",
    "    new_message = list(message)\n",
    "    decoded_message = \"\"\n",
    "    len_message = len(message)\n",
    "    num_rows = len_message // shift\n",
    "\n",
    "    for row in range(shift):\n",
    "        for col in range(num_rows):\n",
    "            index = col * shift + row\n",
    "            \n",
    "            if index < len_message:\n",
    "                decoded_message += (message[index])\n",
    "    \n",
    "    Final_Message = \"\".join(decoded_message)\n",
    "\n",
    "    return(Final_Message)\n",
    "\n",
    "print(scytale_decipher(\"IMNNA_FTAOIGROE\", 3)) \n",
    "print(scytale_decipher(\"AOTSRIOALRH_EMRNGIMA_PTT\", 8))\n",
    "print(scytale_decipher(\"IRIANMOGFANEOT__\", 4))"
   ]
  },
  {
   "cell_type": "code",
   "execution_count": null,
   "id": "24d4313f",
   "metadata": {},
   "outputs": [],
   "source": []
  }
 ],
 "metadata": {
  "kernelspec": {
   "display_name": "Python 3 (ipykernel)",
   "language": "python",
   "name": "python3"
  },
  "language_info": {
   "codemirror_mode": {
    "name": "ipython",
    "version": 3
   },
   "file_extension": ".py",
   "mimetype": "text/x-python",
   "name": "python",
   "nbconvert_exporter": "python",
   "pygments_lexer": "ipython3",
   "version": "3.9.2"
  }
 },
 "nbformat": 4,
 "nbformat_minor": 5
}
