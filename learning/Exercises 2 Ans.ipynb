{
 "cells": [
  {
   "cell_type": "code",
   "execution_count": 1,
   "metadata": {},
   "outputs": [
    {
     "data": {
      "text/plain": [
       "15"
      ]
     },
     "execution_count": 1,
     "metadata": {},
     "output_type": "execute_result"
    }
   ],
   "source": [
    "# Easy Problems\n",
    "# Problem 1\n",
    "list_mine=[1,2,3,4,5]\n",
    "def sum_of_elements(lst):\n",
    "    return sum(lst)\n",
    "sum_of_elements(list_mine)\n"
   ]
  },
  {
   "cell_type": "code",
   "execution_count": 4,
   "metadata": {},
   "outputs": [
    {
     "name": "stdout",
     "output_type": "stream",
     "text": [
      "15\n"
     ]
    }
   ],
   "source": [
    "list_mine=[1,2,3,4,5]\n",
    "total=0\n",
    "def sum_of_elements(lst):\n",
    "    total=0\n",
    "    for i in lst:\n",
    "        total+=i\n",
    "    return total\n",
    "print(sum_of_elements(list_mine))"
   ]
  },
  {
   "cell_type": "code",
   "execution_count": 2,
   "metadata": {},
   "outputs": [
    {
     "name": "stdout",
     "output_type": "stream",
     "text": [
      "[20, 25, 28, 30, 35]\n"
     ]
    }
   ],
   "source": [
    "# Problem 2\n",
    "people_dict = {\n",
    "    \"John\": 25,\n",
    "    \"Alice\": 30,\n",
    "    \"Bob\": 20,\n",
    "    \"Charlie\": 35,\n",
    "    \"Eve\": 28\n",
    "}\n",
    "sorted_names = sorted(people_dict.keys())\n",
    "\n",
    "print(sorted_names)\n"
   ]
  },
  {
   "cell_type": "code",
   "execution_count": null,
   "metadata": {},
   "outputs": [],
   "source": [
    "# Problem 3\n",
    "numbers_tuple = (10, 5, 8, 3, 15, 7)\n",
    "max_value = max(numbers_tuple)\n",
    "min_value = min(numbers_tuple)\n",
    "\n"
   ]
  },
  {
   "cell_type": "code",
   "execution_count": null,
   "metadata": {},
   "outputs": [],
   "source": [
    "# Problem 4\n",
    "numbers_list = [12, 7, 9, 4, 6, 10]\n",
    "even_numbers = [num for num in numbers_list if num % 2 == 0]\n",
    "\n"
   ]
  },
  {
   "cell_type": "code",
   "execution_count": null,
   "metadata": {},
   "outputs": [],
   "source": [
    "# Problem 5\n",
    "phone_book = {\n",
    "    \"John Doe\": \"123-456-7890\",\n",
    "    \"Jane Smith\": \"987-654-3210\",\n",
    "    \"Bob Johnson\": \"555-123-4567\"\n",
    "}\n",
    "def search_phone_number(name):\n",
    "    return phone_book.get(name)\n",
    "\n"
   ]
  },
  {
   "cell_type": "code",
   "execution_count": 5,
   "metadata": {},
   "outputs": [
    {
     "name": "stdout",
     "output_type": "stream",
     "text": [
      "['awesome', 'python', 'hello', 'world', 'is']\n"
     ]
    }
   ],
   "source": [
    "# Problem 6\n",
    "strings_list = [\"hello\", \"world\", \"python\", \"is\", \"awesome\"]\n",
    "sorted_strings = sorted(strings_list, key=len, reverse=True)\n",
    "\n",
    "print(sorted_strings)"
   ]
  },
  {
   "cell_type": "code",
   "execution_count": 8,
   "metadata": {},
   "outputs": [
    {
     "name": "stdout",
     "output_type": "stream",
     "text": [
      "{'a': 1, 'b': 2, 'c': 3, 'd': 4, 'e': 5, 'f': 6}\n"
     ]
    }
   ],
   "source": [
    "# Medium Problems\n",
    "# Problem 1\n",
    "dict1 = {\"a\": 1, \"b\": 2, \"c\": 3}\n",
    "dict2 = {\"d\": 4, \"e\": 5, \"f\": 6}\n",
    "merged_dict = {**dict1, **dict2}\n",
    "sorted_merged_dict = dict(sorted(merged_dict.items()))\n",
    "print(sorted_merged_dict)\n",
    "\n"
   ]
  },
  {
   "cell_type": "code",
   "execution_count": null,
   "metadata": {},
   "outputs": [],
   "source": [
    "# Problem 2\n",
    "people_list = [(\"Alice\", 25), (\"Bob\", 30), (\"Charlie\", 20)]\n",
    "sorted_people_list = sorted(people_list, key=lambda x: x[1])\n",
    "\n"
   ]
  },
  {
   "cell_type": "code",
   "execution_count": null,
   "metadata": {},
   "outputs": [],
   "source": [
    "# Problem 3\n",
    "def is_prime(num):\n",
    "    if num < 2:\n",
    "        return False\n",
    "    for i in range(2, int(num**0.5) + 1):\n",
    "        if num % i == 0:\n",
    "            return False\n",
    "    return True\n",
    "\n",
    "numbers_list = [2, 3, 5, 7, 8, 11, 13, 17, 20]\n",
    "prime_numbers = [num for num in numbers_list if is_prime(num)]\n",
    "\n"
   ]
  },
  {
   "cell_type": "code",
   "execution_count": null,
   "metadata": {},
   "outputs": [],
   "source": [
    "# Problem 4\n",
    "from collections import Counter\n",
    "\n",
    "elements_list = [1, 2, 3, 2, 4, 3, 5, 6, 2, 3]\n",
    "most_common_element = Counter(elements_list).most_common(1)[0][0]\n",
    "\n"
   ]
  },
  {
   "cell_type": "code",
   "execution_count": null,
   "metadata": {},
   "outputs": [],
   "source": [
    "# Problem 5\n",
    "students_list = [\n",
    "    {\"name\": \"Alice\", \"age\": 25, \"grade\": \"A\"},\n",
    "    {\"name\": \"Bob\", \"age\": 30, \"grade\": \"B\"},\n",
    "    {\"name\": \"Charlie\", \"age\": 20, \"grade\": \"C\"}\n",
    "]\n",
    "sorted_students_list = sorted(students_list, key=lambda x: x[\"grade\"], reverse=True)\n",
    "\n"
   ]
  },
  {
   "cell_type": "code",
   "execution_count": null,
   "metadata": {},
   "outputs": [],
   "source": [
    "# Problem 6\n",
    "words_list = [\"hello\", \"world\", \"python\", \"programming\"]\n",
    "words_dict = {word: len(word) for word in words_list}\n",
    "\n"
   ]
  },
  {
   "cell_type": "code",
   "execution_count": null,
   "metadata": {},
   "outputs": [],
   "source": [
    "# Harder Medium Problems\n",
    "# Problem 1\n",
    "names_list = [\"John\", \"Jane\", \"Alexandra\", \"Mark\", \"Robert\"]\n",
    "filtered_names_dict = {name: len(name.upper()) for name in names_list if len(name) <= 5}\n",
    "\n"
   ]
  },
  {
   "cell_type": "code",
   "execution_count": null,
   "metadata": {},
   "outputs": [],
   "source": [
    "# Problem 2\n",
    "import re\n",
    "\n",
    "word_counts = Counter(re.findall(r'\\b\\w{4,}\\b', text.lower()))\n",
    "sorted_word_counts = dict(sorted(word_counts.items(), key=lambda x: x[1], reverse=True))\n",
    "\n"
   ]
  },
  {
   "cell_type": "code",
   "execution_count": null,
   "metadata": {},
   "outputs": [],
   "source": [
    "#Problem 2\n",
    "def count_words(text):\n",
    "    # Define common words to ignore\n",
    "    common_words = set(['the', 'and', 'but', 'you', 'can', 'for', 'are', 'not', 'one', 'day', 'say'])\n",
    "\n",
    "    # Remove punctuation and convert text to lowercase\n",
    "    text = text.lower()\n",
    "    text = text.replace(',', '').replace('.', '').replace(\"'\", '')\n",
    "\n",
    "    # Split the text into words\n",
    "    words = text.split()\n",
    "\n",
    "    # Filter out common words and words with length <= 3\n",
    "    words = [word for word in words if word not in common_words and len(word) > 3]\n",
    "\n",
    "    # Count the occurrences of each word\n",
    "    word_counts = {}\n",
    "    for word in words:\n",
    "        if word in word_counts:\n",
    "            word_counts[word] += 1\n",
    "        else:\n",
    "            word_counts[word] = 1\n",
    "\n",
    "    # Sort the dictionary by word counts in descending order\n",
    "    sorted_counts = sorted(word_counts.items(), key=lambda x: x[1], reverse=True)\n",
    "\n",
    "    return sorted_counts\n",
    "\n",
    "# The input text\n",
    "text = \"\"\"\n",
    "Atticus said to Jem one day, 'I’d rather you shot at tin cans in the backyard, but I know you’ll go after birds. Shoot all the blue jays you want, if you can hit 'em, but remember it’s a sin to kill a mockingbird.' That was the only time I ever heard Atticus say it was a sin to do something, and I asked Miss Maudie about it. 'Your father’s right,' she said. 'Mockingbirds don’t do one thing but make music for us to enjoy. They don’t eat up people’s gardens, don’t nest in corncribs, they don’t do one thing but sing their hearts out for us. That’s why it’s a sin to kill a mockingbird.'\n",
    "\"\"\"\n",
    "\n",
    "# Count the words and print the result\n",
    "word_counts = count_words(text)\n",
    "for word, count in word_counts:\n",
    "    print(f\"{word}: {count}\")\n"
   ]
  },
  {
   "cell_type": "code",
   "execution_count": null,
   "metadata": {},
   "outputs": [],
   "source": [
    "# Problem 3\n",
    "numbers_list = [2, 3, 5, 7, 8, 11, 13, 17, 20]\n",
    "squared_numbers = list(map(lambda x: x**2, numbers_list))\n",
    "\n",
    "\n",
    "\n"
   ]
  },
  {
   "cell_type": "code",
   "execution_count": null,
   "metadata": {},
   "outputs": [],
   "source": [
    "# Problem 5\n",
    "sentences_list = [\"Hello world!\", \"Python is fun.\", \"OpenAI is awesome!\"]\n",
    "reversed_sentences = [sentence[::-1].upper() for sentence in sentences_list if not sentence.startswith(('a', 'e', 'i', 'o', 'u'))]\n",
    "\n"
   ]
  },
  {
   "cell_type": "code",
   "execution_count": null,
   "metadata": {},
   "outputs": [],
   "source": [
    "# Problem 6\n",
    "people = [\n",
    "    {\"name\": \"Alice\", \"age\": 25},\n",
    "    {\"name\": \"Bob\", \"age\": 30},\n",
    "    {\"name\": \"Charlie\", \"age\": 20}\n",
    "]\n",
    "oldest_age = max(people, key=lambda x: x[\"age\"])[\"age\"]\n",
    "oldest_people = [person[\"name\"] for person in people if person[\"age\"] == oldest_age]\n",
    "\n"
   ]
  },
  {
   "cell_type": "code",
   "execution_count": null,
   "metadata": {},
   "outputs": [],
   "source": [
    "# Problem 7\n",
    "temperature_records = [25.6, 28.9, 26.4, None, 27.2, 23.8, 24.6]\n",
    "average_temperatures = []\n",
    "for day in range(7):\n",
    "    daily_temperatures = [temp for temp in temperature_records if temp is not None and 0 <= day < 7]\n",
    "    if daily_temperatures:\n",
    "        average_temp = round(sum(daily_temperatures) / len(daily_temperatures), 2)\n",
    "        average_temperatures.append(average_temp)\n",
    "    else:\n",
    "        average_temperatures.append(None)\n",
    "\n"
   ]
  },
  {
   "cell_type": "code",
   "execution_count": null,
   "metadata": {},
   "outputs": [],
   "source": [
    "# Problem 8\n",
    "from string import punctuation\n",
    "\n",
    "def count_words(sentences):\n",
    "    word_counts = {}\n",
    "    for sentence in sentences:\n",
    "        words = sentence.lower().split()\n",
    "        for word in words:\n",
    "            word = word.strip(punctuation)\n",
    "            if len(word) >= 4:\n",
    "                word_counts[word] = word_counts.get(word, 0) + 1\n",
    "    sorted_word_counts = dict(sorted(word_counts.items(), key=lambda x: x[1], reverse=True))\n",
    "    return sorted_word_counts\n",
    "\n"
   ]
  },
  {
   "cell_type": "code",
   "execution_count": null,
   "metadata": {},
   "outputs": [],
   "source": [
    "#Problem 8\n",
    "sentences_list = [\n",
    "    \"To be, or not to be: that is the question.\",\n",
    "    \"All the world's a stage, and all the men and women merely players.\",\n",
    "    \"Now is the winter of our discontent.\",\n",
    "    \"To thine own self be true.\",\n",
    "    \"Friends, Romans, countrymen, lend me your ears.\",\n",
    "    \"What's in a name? That which we call a rose by any other name would smell as sweet.\",\n",
    "    \"Beware the Ides of March.\",\n",
    "    \"The course of true love never did run smooth.\",\n",
    "    \"Cowards die many times before their deaths; the valiant never taste of death but once.\",\n",
    "    \"How sharper than a serpent's tooth it is to have a thankless child!\",\n",
    "    \"We are such stuff as dreams are made on, and our little life is rounded with a sleep.\",\n",
    "    \"I am not throwing away my shot!\",\n",
    "    \"I'm past patiently waitin'. I'm passionately smashin' every expectation.\",\n",
    "    \"I am the one thing in life I can control. I am inimitable. I am an original.\",\n",
    "    \"Legacy. What is a legacy? It's planting seeds in a garden you never get to see.\",\n",
    "    \"Raise a glass to freedom, something they can never take away.\"\n",
    "]\n",
    "\n",
    "word_counts = {}\n",
    "\n",
    "# Process each sentence\n",
    "for sentence in sentences_list:\n",
    "    # Remove punctuation and convert to lowercase\n",
    "    sentence = sentence.replace(\",\", \"\").replace(\".\", \"\").replace(\":\", \"\").replace(\"?\", \"\").replace(\"!\", \"\").lower()\n",
    "    words = sentence.split()\n",
    "\n",
    "    # Update word counts\n",
    "    for word in words:\n",
    "        if len(word) >= 4:\n",
    "            word_counts[word] = word_counts.get(word, 0) + 1\n",
    "\n",
    "# Sort the dictionary by word counts\n",
    "sorted_word_counts = sorted(word_counts.items(), key=lambda item: item[1], reverse=True)\n",
    "\n",
    "# Print the sorted word counts\n",
    "for word, count in sorted_word_counts:\n",
    "    print(f\"{word}: {count}\")\n"
   ]
  },
  {
   "cell_type": "code",
   "execution_count": null,
   "metadata": {},
   "outputs": [],
   "source": [
    "# Problem 9\n",
    "numbers_list = [3, 8, 5, 2, 9, 12, 18]\n",
    "filtered_numbers = tuple(filter(lambda x: x % 3 == 0, numbers_list))\n",
    "sum_of_filtered_numbers = sum(filtered_numbers)\n"
   ]
  }
 ],
 "metadata": {
  "kernelspec": {
   "display_name": "Python 3",
   "language": "python",
   "name": "python3"
  },
  "language_info": {
   "codemirror_mode": {
    "name": "ipython",
    "version": 3
   },
   "file_extension": ".py",
   "mimetype": "text/x-python",
   "name": "python",
   "nbconvert_exporter": "python",
   "pygments_lexer": "ipython3",
   "version": "3.9.2"
  }
 },
 "nbformat": 4,
 "nbformat_minor": 4
}
