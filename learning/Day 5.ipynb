{
 "cells": [
  {
   "cell_type": "code",
   "execution_count": 1,
   "metadata": {},
   "outputs": [
    {
     "name": "stdout",
     "output_type": "stream",
     "text": [
      "1\n",
      "2\n",
      "[2, 3, 4]\n",
      "[0, 2, 3, 4, 5]\n",
      "5\n"
     ]
    }
   ],
   "source": [
    "# Creating lists\n",
    "my_list = [1, 2, 3, 4, 5]\n",
    "empty_list = []\n",
    "\n",
    "# Accessing elements\n",
    "print(my_list[0])  # Output: 1\n",
    "print(my_list[1])  # Output: 2\n",
    "\n",
    "# Slicing a list\n",
    "print(my_list[1:4])  # Output: [2, 3, 4]\n",
    "\n",
    "# Modifying elements\n",
    "my_list[0] = 0\n",
    "print(my_list)  # Output: [0, 2, 3, 4, 5]\n",
    "\n",
    "# List length\n",
    "print(len(my_list))  # Output: 5"
   ]
  },
  {
   "cell_type": "code",
   "execution_count": null,
   "metadata": {},
   "outputs": [],
   "source": [
    "list_1 = [1, 2, 3]\n",
    "list_2 = [1, 2, 3]"
   ]
  },
  {
   "cell_type": "code",
   "execution_count": null,
   "metadata": {},
   "outputs": [],
   "source": [
    "list_1 = [1, 2, 3]\n",
    "list_2 = list_1"
   ]
  },
  {
   "cell_type": "code",
   "execution_count": null,
   "metadata": {},
   "outputs": [],
   "source": [
    "list_2[0] = 10\n",
    "\n",
    "list_1[0] # What does this evaluate to: 0 or 10? Try it yourself."
   ]
  },
  {
   "cell_type": "code",
   "execution_count": null,
   "metadata": {},
   "outputs": [],
   "source": [
    "some_list = [1, 2, 3]\n",
    "\n",
    "def mutate_list(list_parameter):\n",
    "\tlist_parameter[0] = 10\n",
    "\n",
    "some_list[0] # What does this evaluate to?\n",
    "\n",
    "mutate_list(list_parameter)\n",
    "\n",
    "some_list[0] # What does this evaluate to now? Try it yourself."
   ]
  },
  {
   "cell_type": "code",
   "execution_count": null,
   "metadata": {},
   "outputs": [],
   "source": [
    "# Adding elements to a list\n",
    "my_list = [1, 2, 3]\n",
    "my_list.append(4) # [1, 2, 3, 4]\n",
    "\n",
    "# Changing elements\n",
    "my_list[0] = 0 # [0, 2, 3, 4]\n",
    "\n",
    "# Removing elements\n",
    "my_list.pop() # [0, 2, 3]\n",
    "del my_list[1] # [0, 3]"
   ]
  },
  {
   "cell_type": "code",
   "execution_count": null,
   "metadata": {},
   "outputs": [],
   "source": [
    "# Sorting a list\n",
    "my_list = [3, 1, 4, 1, 5, 9, 2, 6, 5, 3, 5]\n",
    "my_list.sort()\n",
    "print(my_list)  # Output: [1, 1, 2, 3, 3, 4, 5, 5, 5, 6, 9]\n",
    "\n",
    "# Reversing a list\n",
    "my_list.reverse()\n",
    "print(my_list)  # Output: [9, 6, 5, 5, 5, 4, 3, 3, 2, 1, 1]"
   ]
  },
  {
   "cell_type": "code",
   "execution_count": null,
   "metadata": {},
   "outputs": [],
   "source": []
  },
  {
   "cell_type": "code",
   "execution_count": null,
   "metadata": {},
   "outputs": [],
   "source": [
    "# Creating dictionaries\n",
    "my_dict = {\n",
    "    \"name\": \"Bob\",\n",
    "    \"age\": 30,\n",
    "    \"city\": \"San Francisco\"\n",
    "}\n",
    "empty_dict = {}\n",
    "\n",
    "# Accessing values\n",
    "print(my_dict[\"name\"])  # Output: Bob\n",
    "\n",
    "# Modifying values\n",
    "my_dict[\"age\"] = 40\n",
    "print(my_dict)  # Output: {'name': 'Bob', 'age': 40, 'city': 'San Francisco'}\n",
    "\n",
    "# Dictionary length\n",
    "print(len(my_dict))  # Output: 3\n",
    "\n",
    "# Adding key-value pairs\n",
    "my_dict[\"job\"] = \"Developer\"\n",
    "print(my_dict)  # Output: {'name': 'Bob', 'age': 40, 'city': 'San Francisco', 'job': 'Developer'}\n",
    "\n",
    "# Removing key-value pairs\n",
    "del my_dict[\"city\"]\n",
    "print(my_dict)  # Output: {'name': 'Bob', 'age': 40, 'job': 'Developer'}\n",
    "\n",
    "# Checking if a key exists\n",
    "print(\"name\" in my_dict)  # Output: True\n",
    "\n",
    "# Looping through a dictionary\n",
    "for key, value in my_dict.items():\n",
    "    print(key, value)\n"
   ]
  },
  {
   "cell_type": "code",
   "execution_count": null,
   "metadata": {},
   "outputs": [],
   "source": [
    "languages_dict = {\n",
    "    \"English\": {\n",
    "        \"speakers\": 1132,\n",
    "        \"countries\": [\"USA\", \"UK\", \"Australia\", \"Canada\", \"India\", \"South Africa\"]\n",
    "    },\n",
    "    \"Mandarin\": {\n",
    "        \"speakers\": 1090,\n",
    "        \"countries\": [\"China\", \"Taiwan\", \"Singapore\"]\n",
    "    },\n",
    "    \"Spanish\": {\n",
    "        \"speakers\": 460,\n",
    "        \"countries\": [\"Spain\", \"Mexico\", \"Colombia\", \"Argentina\", \"Peru\"]\n",
    "    },\n",
    "    \"Arabic\": {\n",
    "        \"speakers\": 255,\n",
    "        \"countries\": [\"Egypt\", \"Algeria\", \"Saudi Arabia\", \"Iraq\", \"Morocco\"]\n",
    "    }\n",
    "}"
   ]
  },
  {
   "cell_type": "code",
   "execution_count": null,
   "metadata": {},
   "outputs": [],
   "source": []
  },
  {
   "cell_type": "code",
   "execution_count": null,
   "metadata": {},
   "outputs": [],
   "source": [
    "# A tuple is an immutable, ordered collection of elements\n",
    "# You can create a tuple using parentheses or the `tuple()` function\n",
    "my_tuple = (1, 2, 3)\n",
    "another_tuple = tuple([\"apple\", \"banana\", \"cherry\"])\n",
    "\n",
    "# You can access elements of a tuple using indexing\n",
    "print(my_tuple[0])  # output: 1\n",
    "\n",
    "# Tuples are immutable, meaning you cannot add, remove, or modify elements\n",
    "try:\n",
    "    my_tuple[0] = 4\n",
    "except TypeError: #TypeError just simply means the operation you were trying on the object was \n",
    "                    #inappropriate\n",
    "    print(\"Tuples are immutable!\")  # output: Tuples are immutable!"
   ]
  },
  {
   "cell_type": "code",
   "execution_count": null,
   "metadata": {},
   "outputs": [],
   "source": [
    "my_tuple[0]=4"
   ]
  },
  {
   "cell_type": "code",
   "execution_count": null,
   "metadata": {},
   "outputs": [],
   "source": []
  },
  {
   "cell_type": "code",
   "execution_count": null,
   "metadata": {},
   "outputs": [],
   "source": [
    "# A set is an unordered collection of unique elements\n",
    "# You can create a set using curly braces or the `set()` function\n",
    "my_set = {1, 2, 3}\n",
    "another_set = set([\"apple\", \"banana\", \"cherry\"])\n",
    "\n",
    "# You can add elements to a set using the `add()` method\n",
    "my_set.add(4)\n",
    "print(my_set)  # output: {1, 2, 3, 4}\n",
    "\n",
    "# You can remove elements from a set using the `remove()` method\n",
    "my_set.remove(4)\n",
    "print(my_set)  # output: {1, 2, 3}\n",
    "\n",
    "# Sets are useful for performing mathematical operations like union, intersection, and difference\n",
    "set1 = {1, 2, 3, 4}\n",
    "set2 = {3, 4, 5, 6}\n",
    "\n",
    "# Union: returns a set containing all elements from both sets (no duplicates)\n",
    "print(set1.union(set2))  # output: {1, 2, 3, 4, 5, 6}\n",
    "\n",
    "# Intersection: returns a set containing all elements that are in both sets\n",
    "print(set1.intersection(set2))  # output: {3, 4}\n",
    "\n",
    "# Difference: returns a set containing all elements that are in set1 but not set2\n",
    "print(set1.difference(set2))  # output: {1, 2}"
   ]
  },
  {
   "cell_type": "code",
   "execution_count": null,
   "metadata": {},
   "outputs": [],
   "source": [
    "my_list = [1, 2, 3, 3, 4, 4, 5]\n",
    "my_set = set(my_list)\n",
    "print(my_set)  # output: {1, 2, 3, 4, 5}"
   ]
  },
  {
   "cell_type": "code",
   "execution_count": null,
   "metadata": {},
   "outputs": [],
   "source": []
  },
  {
   "cell_type": "code",
   "execution_count": null,
   "metadata": {},
   "outputs": [],
   "source": [
    "numbers = [1, 2, 3, 4, 5]\n",
    "\n",
    "# Define your transformation\n",
    "# You can use a function for this\n",
    "def square(x):\n",
    "\treturn x ** 2\n",
    "\n",
    "squared_numbers = []\n",
    "for number in numbers:\n",
    "\tsquared_numbers.append(square(numbers))\n",
    "\n",
    "squared_numbers # [1, 4, 9, 16, 25]"
   ]
  },
  {
   "cell_type": "code",
   "execution_count": null,
   "metadata": {},
   "outputs": [],
   "source": [
    "numbers = [1, 2, 3, 4, 5]\n",
    "\n",
    "# Define your transformation\n",
    "# You can use a function for this\n",
    "def square(x):\n",
    "\treturn x ** 2\n",
    "\n",
    "# Need an extra call to list because map is lazy\n",
    "squared_numbers = list(map(square, numbers)) # Syntax ===> map(function, iterations)\n",
    "\n",
    "squared_numbers # [1, 4, 9, 16, 25]"
   ]
  },
  {
   "cell_type": "code",
   "execution_count": null,
   "metadata": {},
   "outputs": [],
   "source": [
    "numbers = [1, 2, 3, 4, 5]\n",
    "\n",
    "# Need an extra call to list because map is lazy\n",
    "squared_numbers = list(map(lambda x: x ** 2, numbers))\n",
    "\n",
    "squared_numbers # [1, 4, 9, 16, 25]"
   ]
  },
  {
   "cell_type": "code",
   "execution_count": 2,
   "metadata": {},
   "outputs": [
    {
     "name": "stdout",
     "output_type": "stream",
     "text": [
      "['JEN', 'SABINA', 'MEG', 'MARGA'] ['jen', 'sabina', 'meg', 'marga']\n"
     ]
    }
   ],
   "source": [
    "List_of_names=[\"Jen\", \"Sabina\", \"Meg\", \"Marga\"]\n",
    "\n",
    "Upper_Names=list(map(lambda u: u.upper(),List_of_names))\n",
    "Lower_Names=list(map(lambda l: l.lower(),List_of_names))\n",
    "\n",
    "print(Upper_Names, Lower_Names)"
   ]
  },
  {
   "cell_type": "code",
   "execution_count": null,
   "metadata": {},
   "outputs": [],
   "source": []
  }
 ],
 "metadata": {
  "kernelspec": {
   "display_name": "Python 3",
   "language": "python",
   "name": "python3"
  },
  "language_info": {
   "codemirror_mode": {
    "name": "ipython",
    "version": 3
   },
   "file_extension": ".py",
   "mimetype": "text/x-python",
   "name": "python",
   "nbconvert_exporter": "python",
   "pygments_lexer": "ipython3",
   "version": "3.9.2"
  }
 },
 "nbformat": 4,
 "nbformat_minor": 4
}
