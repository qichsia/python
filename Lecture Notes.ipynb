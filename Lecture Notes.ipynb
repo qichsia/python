{
 "cells": [
  {
   "attachments": {},
   "cell_type": "markdown",
   "id": "7a037c68",
   "metadata": {
    "jp-MarkdownHeadingCollapsed": true,
    "tags": []
   },
   "source": [
    "# Numbers"
   ]
  },
  {
   "cell_type": "code",
   "execution_count": 13,
   "id": "cff0914a",
   "metadata": {},
   "outputs": [
    {
     "data": {
      "text/plain": [
       "str"
      ]
     },
     "execution_count": 13,
     "metadata": {},
     "output_type": "execute_result"
    }
   ],
   "source": [
    "type(\"14\")"
   ]
  },
  {
   "cell_type": "code",
   "execution_count": 14,
   "id": "d4956eee",
   "metadata": {},
   "outputs": [
    {
     "data": {
      "text/plain": [
       "int"
      ]
     },
     "execution_count": 14,
     "metadata": {},
     "output_type": "execute_result"
    }
   ],
   "source": [
    "type(14)"
   ]
  },
  {
   "cell_type": "code",
   "execution_count": 15,
   "id": "68d71d46",
   "metadata": {},
   "outputs": [
    {
     "data": {
      "text/plain": [
       "float"
      ]
     },
     "execution_count": 15,
     "metadata": {},
     "output_type": "execute_result"
    }
   ],
   "source": [
    "type(14.0)"
   ]
  },
  {
   "cell_type": "code",
   "execution_count": 4,
   "id": "77586219",
   "metadata": {},
   "outputs": [
    {
     "data": {
      "text/plain": [
       "0.30000000000000004"
      ]
     },
     "execution_count": 4,
     "metadata": {},
     "output_type": "execute_result"
    }
   ],
   "source": [
    "0.2+0.1"
   ]
  },
  {
   "attachments": {},
   "cell_type": "markdown",
   "id": "8e9b2a90",
   "metadata": {},
   "source": [
    "Use precise centavos instead of pesos to avoid ^"
   ]
  },
  {
   "attachments": {},
   "cell_type": "markdown",
   "id": "801ef494",
   "metadata": {},
   "source": [
    "## Round Down"
   ]
  },
  {
   "cell_type": "code",
   "execution_count": 6,
   "id": "24bc483c",
   "metadata": {
    "scrolled": true
   },
   "outputs": [
    {
     "data": {
      "text/plain": [
       "3"
      ]
     },
     "execution_count": 6,
     "metadata": {},
     "output_type": "execute_result"
    }
   ],
   "source": [
    "int(3.74)"
   ]
  },
  {
   "cell_type": "code",
   "execution_count": 9,
   "id": "5719dfe2",
   "metadata": {},
   "outputs": [
    {
     "data": {
      "text/plain": [
       "14.0"
      ]
     },
     "execution_count": 9,
     "metadata": {},
     "output_type": "execute_result"
    }
   ],
   "source": [
    "a=\"14.0\"\n",
    "float(a)"
   ]
  },
  {
   "cell_type": "code",
   "execution_count": 1,
   "id": "670d5cad",
   "metadata": {},
   "outputs": [
    {
     "ename": "ValueError",
     "evalue": "invalid literal for int() with base 10: '14.0'",
     "output_type": "error",
     "traceback": [
      "\u001b[0;31m---------------------------------------------------------------------------\u001b[0m",
      "\u001b[0;31mValueError\u001b[0m                                Traceback (most recent call last)",
      "Cell \u001b[0;32mIn[1], line 2\u001b[0m\n\u001b[1;32m      1\u001b[0m a\u001b[38;5;241m=\u001b[39m\u001b[38;5;124m\"\u001b[39m\u001b[38;5;124m14.0\u001b[39m\u001b[38;5;124m\"\u001b[39m\n\u001b[0;32m----> 2\u001b[0m \u001b[38;5;28;43mint\u001b[39;49m\u001b[43m(\u001b[49m\u001b[43ma\u001b[49m\u001b[43m)\u001b[49m\n",
      "\u001b[0;31mValueError\u001b[0m: invalid literal for int() with base 10: '14.0'"
     ]
    }
   ],
   "source": [
    "a=\"14.0\"\n",
    "int(a) # Error bc it converts from string to float to integer"
   ]
  },
  {
   "attachments": {},
   "cell_type": "markdown",
   "id": "43a75f7a",
   "metadata": {
    "jp-MarkdownHeadingCollapsed": true,
    "tags": []
   },
   "source": [
    "# Boolean\n",
    "Only false when 0"
   ]
  },
  {
   "cell_type": "code",
   "execution_count": 11,
   "id": "63573e3d",
   "metadata": {},
   "outputs": [
    {
     "data": {
      "text/plain": [
       "False"
      ]
     },
     "execution_count": 11,
     "metadata": {},
     "output_type": "execute_result"
    }
   ],
   "source": [
    "bool(0)"
   ]
  },
  {
   "cell_type": "code",
   "execution_count": 12,
   "id": "14c678cf",
   "metadata": {},
   "outputs": [
    {
     "data": {
      "text/plain": [
       "True"
      ]
     },
     "execution_count": 12,
     "metadata": {},
     "output_type": "execute_result"
    }
   ],
   "source": [
    "bool(1)"
   ]
  },
  {
   "attachments": {},
   "cell_type": "markdown",
   "id": "b3df53b4",
   "metadata": {
    "tags": []
   },
   "source": [
    "# Computation\n",
    "Addition + <br>\n",
    "Subtraction - <br>\n",
    "Multiplication * <br>\n",
    "Division / (always float)<br>\n",
    "Floor division // (always integer)<br>\n",
    "Modulus % (returns remainder)<br>\n",
    "Exponentiation **"
   ]
  },
  {
   "cell_type": "code",
   "execution_count": 17,
   "id": "07a6ad8b",
   "metadata": {},
   "outputs": [
    {
     "data": {
      "text/plain": [
       "25"
      ]
     },
     "execution_count": 17,
     "metadata": {},
     "output_type": "execute_result"
    }
   ],
   "source": [
    "5**2"
   ]
  },
  {
   "cell_type": "code",
   "execution_count": 18,
   "id": "d890a28e",
   "metadata": {},
   "outputs": [
    {
     "data": {
      "text/plain": [
       "2.0"
      ]
     },
     "execution_count": 18,
     "metadata": {},
     "output_type": "execute_result"
    }
   ],
   "source": [
    "4/2"
   ]
  },
  {
   "cell_type": "code",
   "execution_count": 7,
   "id": "9915b50d",
   "metadata": {},
   "outputs": [
    {
     "data": {
      "text/plain": [
       "3"
      ]
     },
     "execution_count": 7,
     "metadata": {},
     "output_type": "execute_result"
    }
   ],
   "source": [
    "15//4"
   ]
  },
  {
   "cell_type": "code",
   "execution_count": 160,
   "id": "654109eb",
   "metadata": {},
   "outputs": [
    {
     "data": {
      "text/plain": [
       "1"
      ]
     },
     "execution_count": 160,
     "metadata": {},
     "output_type": "execute_result"
    }
   ],
   "source": [
    "4%3"
   ]
  },
  {
   "cell_type": "code",
   "execution_count": 10,
   "id": "97db5f35-af1c-44d1-b24c-97c8dc99610b",
   "metadata": {},
   "outputs": [
    {
     "data": {
      "text/plain": [
       "1"
      ]
     },
     "execution_count": 10,
     "metadata": {},
     "output_type": "execute_result"
    }
   ],
   "source": [
    "5%4"
   ]
  },
  {
   "attachments": {},
   "cell_type": "markdown",
   "id": "1de3a072",
   "metadata": {
    "tags": []
   },
   "source": [
    "# Comparisons\n",
    "== Equal to <br>\n",
    "!= Not equal to <br>\n",
    "< Less than<br>\n",
    "\">\" Greater than<br>\n",
    "<= Less than or equal to<br>\n",
    "\">=\" Greater than or equal to"
   ]
  },
  {
   "attachments": {},
   "cell_type": "markdown",
   "id": "53251d2b",
   "metadata": {
    "tags": []
   },
   "source": [
    "# Logic\n",
    "\"and\" true if both are True<br>\n",
    "\"or\" one value True<br>\n",
    "\"not\" opposite value"
   ]
  },
  {
   "cell_type": "code",
   "execution_count": 33,
   "id": "a2e10bd3",
   "metadata": {},
   "outputs": [
    {
     "name": "stdout",
     "output_type": "stream",
     "text": [
      "True\n",
      "False\n",
      "True\n",
      "False\n",
      "0\n"
     ]
    }
   ],
   "source": [
    "a= True\n",
    "b=False\n",
    "c=False\n",
    "\n",
    "print(a!=b)\n",
    "print(a and b)\n",
    "print(a or b)\n",
    "print(not a)\n",
    "print (3 and 0) # 0 = False"
   ]
  },
  {
   "attachments": {},
   "cell_type": "markdown",
   "id": "81c079bc",
   "metadata": {
    "tags": []
   },
   "source": [
    "# String Operations and Method\n",
    "## Concatenation"
   ]
  },
  {
   "cell_type": "code",
   "execution_count": 20,
   "id": "9e9ca057",
   "metadata": {},
   "outputs": [
    {
     "name": "stdout",
     "output_type": "stream",
     "text": [
      "Hello World\n",
      "Hello WorldHello WorldHello World\n"
     ]
    }
   ],
   "source": [
    "str1 = \"Hello\"\n",
    "str2 = \"World\"\n",
    "result = str1 + \" \" + str2\n",
    "print(result)\n",
    "print(result*3)"
   ]
  },
  {
   "attachments": {},
   "cell_type": "markdown",
   "id": "b9a6925f",
   "metadata": {},
   "source": [
    "## Indexing\n",
    "* Find position within order\n",
    "* Starting position is 0"
   ]
  },
  {
   "cell_type": "code",
   "execution_count": 22,
   "id": "3f18c3e6",
   "metadata": {
    "scrolled": true
   },
   "outputs": [
    {
     "name": "stdout",
     "output_type": "stream",
     "text": [
      "H\n",
      "l\n",
      "o\n"
     ]
    }
   ],
   "source": [
    "print(str1[0])\n",
    "print(str1[3])\n",
    "print(str1[-1]) # Cycles back to the end\n",
    "# print(str1[5]) # Error since no letter after \"O\""
   ]
  },
  {
   "attachments": {},
   "cell_type": "markdown",
   "id": "ef90912d",
   "metadata": {},
   "source": [
    "## Length\n",
    "Can be used for character length or list length"
   ]
  },
  {
   "cell_type": "code",
   "execution_count": 50,
   "id": "d17dc90b",
   "metadata": {},
   "outputs": [
    {
     "name": "stdout",
     "output_type": "stream",
     "text": [
      "5\n"
     ]
    }
   ],
   "source": [
    "print(len(str1))"
   ]
  },
  {
   "attachments": {},
   "cell_type": "markdown",
   "id": "8da15bb2",
   "metadata": {},
   "source": [
    "## Uppercase and Lowercase"
   ]
  },
  {
   "cell_type": "code",
   "execution_count": 52,
   "id": "26851992",
   "metadata": {},
   "outputs": [
    {
     "name": "stdout",
     "output_type": "stream",
     "text": [
      "HELLO\n",
      "hello\n"
     ]
    }
   ],
   "source": [
    "str1 = \"Hello\"\n",
    "upper_case = str1.upper()\n",
    "lower_case = str1.lower()\n",
    "print(upper_case)\n",
    "print(lower_case)"
   ]
  },
  {
   "attachments": {},
   "cell_type": "markdown",
   "id": "402411b4",
   "metadata": {},
   "source": [
    "## Replacement\n",
    "Replaces instance of substring with another substring"
   ]
  },
  {
   "cell_type": "code",
   "execution_count": 93,
   "id": "4edea03b",
   "metadata": {},
   "outputs": [
    {
     "name": "stdout",
     "output_type": "stream",
     "text": [
      "Hello, Python\n"
     ]
    }
   ],
   "source": [
    "string1 = \"Hello, World\"\n",
    "string2 = string1.replace(\"World\", \"Python\")\n",
    "print(string2)\n",
    "str3=\"yas\""
   ]
  },
  {
   "attachments": {},
   "cell_type": "markdown",
   "id": "11fa487f",
   "metadata": {},
   "source": [
    "## Splitting\n",
    "Splits string into list of "
   ]
  },
  {
   "cell_type": "code",
   "execution_count": 66,
   "id": "7b935383",
   "metadata": {},
   "outputs": [
    {
     "data": {
      "text/plain": [
       "['Hello', ' World']"
      ]
     },
     "execution_count": 66,
     "metadata": {},
     "output_type": "execute_result"
    }
   ],
   "source": [
    "string1.split(\",\")"
   ]
  },
  {
   "attachments": {},
   "cell_type": "markdown",
   "id": "89e729ad",
   "metadata": {
    "tags": []
   },
   "source": [
    "# Practice"
   ]
  },
  {
   "cell_type": "code",
   "execution_count": 95,
   "id": "6c4aeb0b",
   "metadata": {},
   "outputs": [
    {
     "name": "stdout",
     "output_type": "stream",
     "text": [
      "yas\n"
     ]
    }
   ],
   "source": [
    "print(str3) # depends on what ran before it"
   ]
  },
  {
   "cell_type": "code",
   "execution_count": 87,
   "id": "0afb5e40",
   "metadata": {},
   "outputs": [
    {
     "data": {
      "text/plain": [
       "[' ', 'y', 'y', 'y', 'y', 'y', 'y']"
      ]
     },
     "execution_count": 87,
     "metadata": {},
     "output_type": "execute_result"
    }
   ],
   "source": [
    "str3 = \" ,y,y,y,y,y,y\"\n",
    "str3.split(\",\")"
   ]
  },
  {
   "cell_type": "code",
   "execution_count": 70,
   "id": "608dccd6",
   "metadata": {},
   "outputs": [
    {
     "data": {
      "text/plain": [
       "['', ',', ',', ',', ',', ',', '']"
      ]
     },
     "execution_count": 70,
     "metadata": {},
     "output_type": "execute_result"
    }
   ],
   "source": [
    "str3.split(\"y\")"
   ]
  },
  {
   "cell_type": "code",
   "execution_count": 75,
   "id": "c1c39b23",
   "metadata": {
    "scrolled": true
   },
   "outputs": [
    {
     "name": "stdout",
     "output_type": "stream",
     "text": [
      "Hellow world\n"
     ]
    }
   ],
   "source": [
    "str4 = \"Hellow world\"\n",
    "str4.split(\"w\")"
   ]
  },
  {
   "cell_type": "code",
   "execution_count": 88,
   "id": "db605ab7",
   "metadata": {},
   "outputs": [
    {
     "name": "stdout",
     "output_type": "stream",
     "text": [
      "HELLOW WORLD\n"
     ]
    }
   ],
   "source": [
    "print(str4.upper())"
   ]
  },
  {
   "cell_type": "code",
   "execution_count": 89,
   "id": "b414ddfa",
   "metadata": {},
   "outputs": [
    {
     "data": {
      "text/plain": [
       "['', 'elloW world']"
      ]
     },
     "execution_count": 89,
     "metadata": {},
     "output_type": "execute_result"
    }
   ],
   "source": [
    "str4 = \"HelloW world\"\n",
    "str4.split(\"H\")"
   ]
  },
  {
   "cell_type": "code",
   "execution_count": 102,
   "id": "735a33bb",
   "metadata": {},
   "outputs": [
    {
     "data": {
      "text/plain": [
       "'hello'"
      ]
     },
     "execution_count": 102,
     "metadata": {},
     "output_type": "execute_result"
    }
   ],
   "source": [
    "\"hey\"\n",
    "\"hello\" # outputs last on jupiter ntbk"
   ]
  },
  {
   "cell_type": "code",
   "execution_count": 101,
   "id": "22fae80c",
   "metadata": {},
   "outputs": [
    {
     "name": "stdout",
     "output_type": "stream",
     "text": [
      "hey\n",
      "hello\n"
     ]
    }
   ],
   "source": [
    "print(\"hey\")\n",
    "print(\"hello\") # output all when printed"
   ]
  },
  {
   "cell_type": "code",
   "execution_count": 5,
   "id": "827e6a72",
   "metadata": {},
   "outputs": [
    {
     "name": "stdout",
     "output_type": "stream",
     "text": [
      "I love ___  me\n"
     ]
    },
    {
     "name": "stdout",
     "output_type": "stream",
     "text": [
      "I love me!\n"
     ]
    }
   ],
   "source": [
    "question = input(\"I love ___ \")\n",
    "print(\"I love \" + question+\"!\")"
   ]
  },
  {
   "cell_type": "code",
   "execution_count": 4,
   "id": "0ec3782d",
   "metadata": {},
   "outputs": [
    {
     "name": "stdout",
     "output_type": "stream",
     "text": [
      "Input: e\n"
     ]
    }
   ],
   "source": [
    "question = input(\"Input:\")"
   ]
  },
  {
   "cell_type": "code",
   "execution_count": 3,
   "id": "dd515622",
   "metadata": {},
   "outputs": [
    {
     "name": "stdout",
     "output_type": "stream",
     "text": [
      "String:  3\n"
     ]
    },
    {
     "name": "stdout",
     "output_type": "stream",
     "text": [
      "3\n"
     ]
    }
   ],
   "source": [
    "question = input(\"String: \")\n",
    "reverse = question[::-1]\n",
    "print(reverse.upper())"
   ]
  },
  {
   "cell_type": "code",
   "execution_count": 159,
   "id": "a008af69",
   "metadata": {},
   "outputs": [
    {
     "name": "stdout",
     "output_type": "stream",
     "text": [
      "ed\n",
      "edward\n",
      "drawde\n"
     ]
    }
   ],
   "source": [
    "a = \"edward\"\n",
    "print(a[0:2])\n",
    "print(a[0:])\n",
    "print(a[::-1]) # double colon \n"
   ]
  },
  {
   "cell_type": "code",
   "execution_count": 2,
   "id": "c9d4f76a",
   "metadata": {
    "scrolled": true
   },
   "outputs": [
    {
     "name": "stdout",
     "output_type": "stream",
     "text": [
      "<class 'int'>\n"
     ]
    }
   ],
   "source": [
    "new = 2\n",
    "float(new)\n",
    "typee = type(new)\n",
    "print(typee)"
   ]
  },
  {
   "cell_type": "code",
   "execution_count": 1,
   "id": "f77f0b85",
   "metadata": {},
   "outputs": [
    {
     "name": "stdout",
     "output_type": "stream",
     "text": [
      "enter number:  3\n"
     ]
    },
    {
     "name": "stdout",
     "output_type": "stream",
     "text": [
      "odd\n"
     ]
    }
   ],
   "source": [
    "number = float(input(\"enter number: \"))\n",
    "integer = int(number)\n",
    "if integer % 2 == 0:\n",
    "    result = \"even\"\n",
    "else:\n",
    "    result = \"odd\"\n",
    "    \n",
    "print(result)\n",
    "    "
   ]
  },
  {
   "attachments": {},
   "cell_type": "markdown",
   "id": "d2743916-62e7-479f-bb8c-4f791a444161",
   "metadata": {},
   "source": [
    "# Day 2 Lecture - Conditional Functions"
   ]
  },
  {
   "cell_type": "code",
   "execution_count": 8,
   "id": "ba96f3fa-0b4b-4444-8fd1-74a56b2552e7",
   "metadata": {},
   "outputs": [],
   "source": [
    "# Multiple conditions\n",
    "num = 0\n",
    "\n",
    "if num > 0 :\n",
    "    print(\"Positive\")\n",
    "elif num < 0 :\n",
    "    print(\"Negative\")"
   ]
  },
  {
   "cell_type": "code",
   "execution_count": 17,
   "id": "dd4758b6-117a-4128-bebd-032ebd00b0ce",
   "metadata": {},
   "outputs": [
    {
     "name": "stdout",
     "output_type": "stream",
     "text": [
      "True\n"
     ]
    }
   ],
   "source": [
    "# Boolean values\n",
    "Yes = 1 # Will output false if not 1\n",
    "\n",
    "if Yes == True:\n",
    "    print(\"True\")\n",
    "else:\n",
    "    print(\"False\")"
   ]
  },
  {
   "cell_type": "code",
   "execution_count": 18,
   "id": "3dae58fd-a652-4009-b9a9-7d9a492fb4b2",
   "metadata": {},
   "outputs": [
    {
     "name": "stdout",
     "output_type": "stream",
     "text": [
      "Positive\n",
      "Even\n"
     ]
    }
   ],
   "source": [
    "# Nested Values\n",
    "num = 12\n",
    "\n",
    "if num > 0:\n",
    "    print(\"Positive\")\n",
    "    if num % 2 == 0:\n",
    "        print(\"Even\")\n",
    "    else :\n",
    "        print(\"Odd\")\n",
    "else:\n",
    "    print(\"Not positive\")"
   ]
  },
  {
   "attachments": {},
   "cell_type": "markdown",
   "id": "cca85dc9-74ae-454a-898f-a6c59b98d497",
   "metadata": {},
   "source": [
    "# For Loop"
   ]
  },
  {
   "cell_type": "code",
   "execution_count": null,
   "id": "6582e617-4c4c-4fc5-aa62-df82e7e4ef44",
   "metadata": {},
   "outputs": [],
   "source": [
    "# template\n",
    "for variable in sequence :"
   ]
  },
  {
   "cell_type": "code",
   "execution_count": 34,
   "id": "dd8eafb9-fc6f-49a2-99d7-113c9c851b66",
   "metadata": {},
   "outputs": [
    {
     "name": "stdout",
     "output_type": "stream",
     "text": [
      "1\n",
      "2\n",
      "3\n",
      "4\n",
      "5\n"
     ]
    }
   ],
   "source": [
    "# Example 1 - Range\n",
    "for num in range (1,6): #last iteration not part\n",
    "    print(num)"
   ]
  },
  {
   "cell_type": "code",
   "execution_count": 42,
   "id": "e928e75d-9844-44c0-a1a9-cb56ca41e7d4",
   "metadata": {},
   "outputs": [
    {
     "name": "stdout",
     "output_type": "stream",
     "text": [
      "15\n",
      "12\n",
      "9\n",
      "6\n",
      "3\n"
     ]
    }
   ],
   "source": [
    "# Example 1.1 - Numbers 1 to 10 in multiples of X, skip counting\n",
    "for num in range (15,2,-3): #range(start,stop,step)\n",
    "    print(num)"
   ]
  },
  {
   "cell_type": "code",
   "execution_count": 41,
   "id": "7df9ced5-6d19-436d-b727-44525478a5fa",
   "metadata": {},
   "outputs": [
    {
     "name": "stdout",
     "output_type": "stream",
     "text": [
      "H\n",
      "e\n",
      "l\n",
      "l\n",
      "o\n",
      " \n",
      "W\n",
      "o\n",
      "r\n",
      "l\n",
      "d\n",
      "!\n"
     ]
    }
   ],
   "source": [
    "# Example 2: Print each character of string\n",
    "message = \"Hello World!\"\n",
    "for char in message : \n",
    "    print(char)"
   ]
  },
  {
   "cell_type": "code",
   "execution_count": 45,
   "id": "65c1361b-67cb-42a7-bdd9-69992849728d",
   "metadata": {},
   "outputs": [
    {
     "name": "stdout",
     "output_type": "stream",
     "text": [
      "H\n",
      "e\n"
     ]
    }
   ],
   "source": [
    "# Example 2.1: Stop at certain character\n",
    "message = \"Hello World!\"\n",
    "for char in message : \n",
    "    if char != \"l\": # not equal to \"l\"\n",
    "        print(char)\n",
    "    else:\n",
    "        break # stops function completely"
   ]
  },
  {
   "cell_type": "code",
   "execution_count": 47,
   "id": "6829ec2d-fd15-41cf-a9b2-e5ba01b85c72",
   "metadata": {},
   "outputs": [
    {
     "name": "stdout",
     "output_type": "stream",
     "text": [
      "H\n",
      "e\n",
      "o\n",
      " \n",
      "W\n",
      "o\n",
      "r\n",
      "d\n",
      "!\n"
     ]
    }
   ],
   "source": [
    "# Example 2.2: Skip certain character\n",
    "message = \"Hello World!\"\n",
    "for char in message : \n",
    "    if char == \"l\": # not equal to \"l\"\n",
    "        continue\n",
    "    else:\n",
    "        print(char)"
   ]
  },
  {
   "attachments": {},
   "cell_type": "markdown",
   "id": "24d73419-3dda-4cfc-9ce1-13cab807a61d",
   "metadata": {},
   "source": [
    "# While Loop"
   ]
  },
  {
   "cell_type": "code",
   "execution_count": null,
   "id": "e577423f-ba34-4a7b-ab87-ee3117ff5de6",
   "metadata": {},
   "outputs": [],
   "source": [
    "while condition :"
   ]
  },
  {
   "cell_type": "code",
   "execution_count": 44,
   "id": "a3bdb1f4-017e-4a08-8c05-a9d858ad6e56",
   "metadata": {},
   "outputs": [
    {
     "name": "stdout",
     "output_type": "stream",
     "text": [
      "1\n",
      "2\n",
      "3\n",
      "4\n",
      "5\n"
     ]
    }
   ],
   "source": [
    "# Example 3: Print 1 to 5\n",
    "num = 1\n",
    "while num <= 5 :\n",
    "    print(num)\n",
    "    num += 1 # same as num = num + 1 (can be used all math operations)"
   ]
  },
  {
   "cell_type": "code",
   "execution_count": 50,
   "id": "222323dd-3e1d-4fa9-9933-a1b7b513b5c1",
   "metadata": {},
   "outputs": [
    {
     "name": "stdout",
     "output_type": "stream",
     "text": [
      "0\n",
      "1\n",
      "2\n",
      "3\n",
      "4\n"
     ]
    }
   ],
   "source": [
    "for i in range(5) : # 0 to 5 range counting\n",
    "   print(i)"
   ]
  },
  {
   "cell_type": "code",
   "execution_count": 58,
   "id": "18f3ac25-146c-430d-8a89-016b65f6c202",
   "metadata": {},
   "outputs": [
    {
     "name": "stdout",
     "output_type": "stream",
     "text": [
      "*\n",
      "**\n",
      "***\n",
      "****\n",
      "*****\n"
     ]
    }
   ],
   "source": [
    "# Example 4: Print pattern\n",
    "for i in range(5) :\n",
    "    for j in range(i+1) :\n",
    "        print(\"*\", end=\"\") # dont move to next line\n",
    "    print()"
   ]
  },
  {
   "cell_type": "code",
   "execution_count": 62,
   "id": "b20f360e-21ed-4f4e-989d-68df5f6f2bd0",
   "metadata": {},
   "outputs": [
    {
     "name": "stdout",
     "output_type": "stream",
     "text": [
      "Guess:  3\n"
     ]
    },
    {
     "name": "stdout",
     "output_type": "stream",
     "text": [
      "Too low\n"
     ]
    },
    {
     "name": "stdout",
     "output_type": "stream",
     "text": [
      "Guess:  42\n"
     ]
    },
    {
     "name": "stdout",
     "output_type": "stream",
     "text": [
      "Correct\n"
     ]
    }
   ],
   "source": [
    "# Example 5 : Guess number, ends loop once target variable is found\n",
    "target_number = 42\n",
    "guess = None # empty variable\n",
    "\n",
    "while guess != target_number:\n",
    "    guess = int(input(\"Guess: \"))\n",
    "    \n",
    "    if guess < target_number :\n",
    "        print(\"Too low\")\n",
    "    elif guess > target_number :\n",
    "        print(\"Too high\")\n",
    "    else :\n",
    "        print(\"Correct\")"
   ]
  },
  {
   "cell_type": "code",
   "execution_count": 65,
   "id": "b163f8f9-f43b-4540-ad2c-bc68fcdc48df",
   "metadata": {},
   "outputs": [
    {
     "name": "stdout",
     "output_type": "stream",
     "text": [
      "Skip odd number: 1\n",
      "Even number: 2\n"
     ]
    }
   ],
   "source": [
    "# Example 6: Check for even numbers with break and continue \n",
    "numbers = [1,2,3,4,5,6,7,8,9,10] # loops until end of array or break\n",
    "\n",
    "for num in numbers:\n",
    "    if num % 2 == 0:\n",
    "        print(\"Even number:\", num)\n",
    "        break # stops loop\n",
    "    else:\n",
    "        print(\"Skip odd number:\", num)\n",
    "        continue"
   ]
  },
  {
   "cell_type": "code",
   "execution_count": 68,
   "id": "2e426709-b254-4a28-95bb-ebc9182ae30e",
   "metadata": {},
   "outputs": [
    {
     "name": "stdout",
     "output_type": "stream",
     "text": [
      "Current number:  1\n",
      "Current number:  3\n",
      "Current number:  5\n",
      "Current number:  7\n",
      "Current number:  9\n",
      "Current number:  11\n",
      "Current number:  13\n",
      "Current number:  15\n",
      "Total count:  8\n"
     ]
    }
   ],
   "source": [
    "# Example 7 : Count odd integers in while loop\n",
    "count = 0\n",
    "number = 1\n",
    "\n",
    "while True: # loops forever\n",
    "    if number > 15:\n",
    "        break\n",
    "    elif number % 2 == 0:\n",
    "        number += 1\n",
    "        continue\n",
    "    else:\n",
    "        print(\"Current number: \", number)\n",
    "        count += 1\n",
    "        number += 1\n",
    "print(\"Total count: \", count)"
   ]
  },
  {
   "cell_type": "code",
   "execution_count": 71,
   "id": "c4bac046-85fd-45ee-af29-584115560673",
   "metadata": {},
   "outputs": [
    {
     "name": "stdout",
     "output_type": "stream",
     "text": [
      "Current number:  1\n",
      "Current number:  3\n",
      "Current number:  5\n",
      "Current number:  7\n",
      "Current number:  9\n",
      "Current number:  11\n",
      "Current number:  13\n",
      "Current number:  15\n",
      "Total count:  8\n"
     ]
    }
   ],
   "source": [
    "# Example 7 : Count odd integers in while loop\n",
    "count = 0\n",
    "number = 1\n",
    "\n",
    "while number <= 15 :\n",
    "    if number % 2 == 0:\n",
    "        number += 1\n",
    "        continue\n",
    "    else:\n",
    "        print(\"Current number: \", number)\n",
    "        count += 1\n",
    "        number += 1\n",
    "print(\"Total count: \", count)"
   ]
  },
  {
   "attachments": {},
   "cell_type": "markdown",
   "id": "35477e8c-4c89-4a04-b4b5-e43670289428",
   "metadata": {},
   "source": [
    "Program that prompts user for integer n and  prints triangle pattern, having n rows"
   ]
  },
  {
   "cell_type": "code",
   "execution_count": null,
   "id": "5b49f6a5-697e-41b8-a17c-093026a068de",
   "metadata": {},
   "outputs": [
    {
     "name": "stdout",
     "output_type": "stream",
     "text": [
      "Enter number of rows:  5\n"
     ]
    },
    {
     "name": "stdout",
     "output_type": "stream",
     "text": [
      "* \n",
      "* * * * \n",
      "* * * * * * \n",
      "* * * * * * * * \n",
      "* * * * * * * * * * \n"
     ]
    }
   ],
   "source": [
    "rows = input(\"Enter number of rows: \")\n",
    "rows = int(rows)\n",
    "for i in range(rows) :\n",
    "    for j in range(i+1) :\n",
    "        if i+1 != 1 :\n",
    "            print(\"* \", end=\"\") # dont move to next line\n",
    "        \n",
    "        else :\n",
    "            print(\"* \", end=\"\")\n",
    "    print()"
   ]
  },
  {
   "cell_type": "code",
   "execution_count": 95,
   "id": "e229d1e1-5d4d-4cb6-92bd-0da2aa9117f7",
   "metadata": {},
   "outputs": [
    {
     "name": "stdout",
     "output_type": "stream",
     "text": [
      "Enter number of rows:  5\n"
     ]
    },
    {
     "name": "stdout",
     "output_type": "stream",
     "text": [
      "    *\n",
      "   ***\n",
      "  *****\n",
      " *******\n",
      "*********\n"
     ]
    }
   ],
   "source": [
    "rows = input(\"Enter number of rows: \")\n",
    "rows = int(rows)\n",
    "for i in range(1, rows+1) :\n",
    "    print(\" \"*(rows - i) + \"*\"*(2*i-1))"
   ]
  },
  {
   "cell_type": "code",
   "execution_count": 100,
   "id": "077e4d7c-050e-4460-bd92-2f112142d86a",
   "metadata": {},
   "outputs": [
    {
     "name": "stdout",
     "output_type": "stream",
     "text": [
      "Enter number of rows:  5\n"
     ]
    },
    {
     "name": "stdout",
     "output_type": "stream",
     "text": [
      "    *\n",
      "   ***\n",
      "  *****\n",
      " *******\n",
      "*********\n"
     ]
    }
   ],
   "source": [
    "rows = input(\"Enter number of rows: \")\n",
    "rows = int(rows)\n",
    "for i in range(1, rows+1) : # use i as variable !\n",
    "    space = \" \" * (rows-i)\n",
    "    asterisk = \"*\" * (2*i-1)\n",
    "    print(space + asterisk)"
   ]
  },
  {
   "cell_type": "code",
   "execution_count": null,
   "id": "b550e57f-2096-4d25-be08-49219211af01",
   "metadata": {},
   "outputs": [],
   "source": [
    "# walrus operator\n",
    "\n",
    "a:=5\n",
    "\n",
    "#assignment statement into epression"
   ]
  },
  {
   "cell_type": "code",
   "execution_count": 112,
   "id": "f7e7dcc8-2ce8-4133-b07e-e17c17db3161",
   "metadata": {},
   "outputs": [
    {
     "name": "stdout",
     "output_type": "stream",
     "text": [
      "Integer:  4\n"
     ]
    },
    {
     "ename": "ValueError",
     "evalue": "Exceeds the limit (4300) for integer string conversion; use sys.set_int_max_str_digits() to increase the limit",
     "output_type": "error",
     "traceback": [
      "\u001b[0;31m---------------------------------------------------------------------------\u001b[0m",
      "\u001b[0;31mValueError\u001b[0m                                Traceback (most recent call last)",
      "Cell \u001b[0;32mIn[112], line 9\u001b[0m\n\u001b[1;32m      5\u001b[0m     factorial \u001b[38;5;241m*\u001b[39m\u001b[38;5;241m=\u001b[39m (n \u001b[38;5;241m-\u001b[39m \u001b[38;5;241m1\u001b[39m)\n\u001b[1;32m      6\u001b[0m     count\u001b[38;5;241m-\u001b[39m\u001b[38;5;241m=\u001b[39m \u001b[38;5;241m1\u001b[39m\n\u001b[0;32m----> 9\u001b[0m \u001b[38;5;28;43mprint\u001b[39;49m\u001b[43m(\u001b[49m\u001b[43mfactorial\u001b[49m\u001b[43m)\u001b[49m\n",
      "\u001b[0;31mValueError\u001b[0m: Exceeds the limit (4300) for integer string conversion; use sys.set_int_max_str_digits() to increase the limit"
     ]
    }
   ],
   "source": [
    "n = int(input(\"Integer: \"))\n",
    "count = n\n",
    "\n",
    "while count >= 0 :\n",
    "    factorial *= (n - 1)\n",
    "    count-= 1\n",
    "    \n",
    "print(factorial)\n",
    "\n",
    "\n",
    "    "
   ]
  },
  {
   "cell_type": "code",
   "execution_count": 125,
   "id": "6cd07af1-79d9-4358-925b-28e40438ac9b",
   "metadata": {},
   "outputs": [
    {
     "name": "stdout",
     "output_type": "stream",
     "text": [
      "Integer:  5\n"
     ]
    },
    {
     "name": "stdout",
     "output_type": "stream",
     "text": [
      "120\n"
     ]
    }
   ],
   "source": [
    "n = int(input(\"Positive Integer: \"))\n",
    "\n",
    "if n==0:\n",
    "    print(\"No factorial\")\n",
    "elif n<0:\n",
    "    print(\"No negative\")\n",
    "else :\n",
    "    factorial = 1\n",
    "    while n > 0 :\n",
    "        factorial *= n\n",
    "        n -= 1\n",
    "    \n",
    "print(factorial)\n",
    "    \n"
   ]
  },
  {
   "attachments": {},
   "cell_type": "markdown",
   "id": "953f441c-4f3f-4ec4-95fd-a409343dc5e6",
   "metadata": {},
   "source": [
    "# Day 5 - Pandas"
   ]
  },
  {
   "cell_type": "code",
   "execution_count": null,
   "id": "651f92d4-52f9-4f13-8817-21272fd4e840",
   "metadata": {},
   "outputs": [],
   "source": [
    "import pandas as pd\n",
    "\n"
   ]
  }
 ],
 "metadata": {
  "kernelspec": {
   "display_name": "Python 3 (ipykernel)",
   "language": "python",
   "name": "python3"
  },
  "language_info": {
   "codemirror_mode": {
    "name": "ipython",
    "version": 3
   },
   "file_extension": ".py",
   "mimetype": "text/x-python",
   "name": "python",
   "nbconvert_exporter": "python",
   "pygments_lexer": "ipython3",
   "version": "3.10.9"
  }
 },
 "nbformat": 4,
 "nbformat_minor": 5
}
