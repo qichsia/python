{
 "cells": [
  {
   "cell_type": "code",
   "execution_count": 18,
   "metadata": {},
   "outputs": [
    {
     "data": {
      "text/html": [
       "<div>\n",
       "<style scoped>\n",
       "    .dataframe tbody tr th:only-of-type {\n",
       "        vertical-align: middle;\n",
       "    }\n",
       "\n",
       "    .dataframe tbody tr th {\n",
       "        vertical-align: top;\n",
       "    }\n",
       "\n",
       "    .dataframe thead th {\n",
       "        text-align: right;\n",
       "    }\n",
       "</style>\n",
       "<table border=\"1\" class=\"dataframe\">\n",
       "  <thead>\n",
       "    <tr style=\"text-align: right;\">\n",
       "      <th></th>\n",
       "      <th>invoice_no</th>\n",
       "      <th>customer_id</th>\n",
       "      <th>category</th>\n",
       "      <th>quantity</th>\n",
       "      <th>price</th>\n",
       "      <th>payment_method</th>\n",
       "      <th>invoice_date</th>\n",
       "      <th>shopping_mall</th>\n",
       "    </tr>\n",
       "  </thead>\n",
       "  <tbody>\n",
       "    <tr>\n",
       "      <th>0</th>\n",
       "      <td>I138884</td>\n",
       "      <td>229</td>\n",
       "      <td>Clothing</td>\n",
       "      <td>5</td>\n",
       "      <td>1500.40</td>\n",
       "      <td>Credit Card</td>\n",
       "      <td>5/8/2022</td>\n",
       "      <td>Kanyon</td>\n",
       "    </tr>\n",
       "    <tr>\n",
       "      <th>1</th>\n",
       "      <td>I317333</td>\n",
       "      <td>3433</td>\n",
       "      <td>Shoes</td>\n",
       "      <td>3</td>\n",
       "      <td>1800.51</td>\n",
       "      <td>Debit Card</td>\n",
       "      <td>12/12/2021</td>\n",
       "      <td>Forum Istanbul</td>\n",
       "    </tr>\n",
       "    <tr>\n",
       "      <th>2</th>\n",
       "      <td>I127801</td>\n",
       "      <td>644</td>\n",
       "      <td>Clothing</td>\n",
       "      <td>1</td>\n",
       "      <td>300.08</td>\n",
       "      <td>Cash</td>\n",
       "      <td>9/11/2021</td>\n",
       "      <td>Metrocity</td>\n",
       "    </tr>\n",
       "    <tr>\n",
       "      <th>3</th>\n",
       "      <td>I173702</td>\n",
       "      <td>4900</td>\n",
       "      <td>Shoes</td>\n",
       "      <td>5</td>\n",
       "      <td>3000.85</td>\n",
       "      <td>Credit Card</td>\n",
       "      <td>16/05/2021</td>\n",
       "      <td>Metropol AVM</td>\n",
       "    </tr>\n",
       "    <tr>\n",
       "      <th>4</th>\n",
       "      <td>I337046</td>\n",
       "      <td>1089</td>\n",
       "      <td>Books</td>\n",
       "      <td>4</td>\n",
       "      <td>60.60</td>\n",
       "      <td>Cash</td>\n",
       "      <td>24/10/2021</td>\n",
       "      <td>Kanyon</td>\n",
       "    </tr>\n",
       "  </tbody>\n",
       "</table>\n",
       "</div>"
      ],
      "text/plain": [
       "  invoice_no  customer_id  category  quantity    price payment_method  \\\n",
       "0    I138884          229  Clothing         5  1500.40    Credit Card   \n",
       "1    I317333         3433     Shoes         3  1800.51     Debit Card   \n",
       "2    I127801          644  Clothing         1   300.08           Cash   \n",
       "3    I173702         4900     Shoes         5  3000.85    Credit Card   \n",
       "4    I337046         1089     Books         4    60.60           Cash   \n",
       "\n",
       "  invoice_date   shopping_mall  \n",
       "0     5/8/2022          Kanyon  \n",
       "1   12/12/2021  Forum Istanbul  \n",
       "2    9/11/2021       Metrocity  \n",
       "3   16/05/2021    Metropol AVM  \n",
       "4   24/10/2021          Kanyon  "
      ]
     },
     "execution_count": 18,
     "metadata": {},
     "output_type": "execute_result"
    }
   ],
   "source": [
    "import pandas as pd\n",
    "df = pd.read_csv(\"fct_invoice.csv\")\n",
    "\n",
    "df.head(5)"
   ]
  },
  {
   "attachments": {},
   "cell_type": "markdown",
   "metadata": {},
   "source": [
    "Easy\n",
    "1. How many unique customers are there in the dataset? Can you identify any frequent or loyal customers?"
   ]
  },
  {
   "cell_type": "code",
   "execution_count": 19,
   "metadata": {},
   "outputs": [
    {
     "name": "stdout",
     "output_type": "stream",
     "text": [
      "Unique customers: 5191\n",
      "Top customers:\n"
     ]
    },
    {
     "data": {
      "text/plain": [
       "50      128\n",
       "7       121\n",
       "4       117\n",
       "80      113\n",
       "74      112\n",
       "       ... \n",
       "8042      1\n",
       "5931      1\n",
       "5867      1\n",
       "5451      1\n",
       "7274      1\n",
       "Name: customer_id, Length: 5191, dtype: int64"
      ]
     },
     "execution_count": 19,
     "metadata": {},
     "output_type": "execute_result"
    }
   ],
   "source": [
    "print(\"Unique customers: \"+ str(df['customer_id'].nunique()))\n",
    "print(\"Top customers:\")\n",
    "df['customer_id'].value_counts()"
   ]
  },
  {
   "attachments": {},
   "cell_type": "markdown",
   "metadata": {},
   "source": [
    "2. What are the different categories of products available? How many unique categories are there?"
   ]
  },
  {
   "cell_type": "code",
   "execution_count": 20,
   "metadata": {},
   "outputs": [
    {
     "name": "stdout",
     "output_type": "stream",
     "text": [
      "Number of categories: 8\n",
      "\n",
      "Categories:\n",
      "Clothing\n",
      "Shoes\n",
      "Books\n",
      "Cosmetics\n",
      "Food & Beverage\n",
      "Toys\n",
      "Technology\n",
      "Souvenir\n"
     ]
    }
   ],
   "source": [
    "print(\"Number of categories: \" + str(df['category'].nunique()))\n",
    "print()\n",
    "print(\"Categories:\")\n",
    "for x in df['category'].unique() :\n",
    "    print(x)"
   ]
  },
  {
   "attachments": {},
   "cell_type": "markdown",
   "metadata": {},
   "source": [
    "3. What are the different payment methods used by customers? Which payment methods are the most popular?"
   ]
  },
  {
   "cell_type": "code",
   "execution_count": 21,
   "metadata": {},
   "outputs": [
    {
     "name": "stdout",
     "output_type": "stream",
     "text": [
      "Payment methods by popularity (amount of times used)\n"
     ]
    },
    {
     "data": {
      "text/plain": [
       "Cash           44447\n",
       "Credit Card    34931\n",
       "Debit Card     20079\n",
       "Name: payment_method, dtype: int64"
      ]
     },
     "execution_count": 21,
     "metadata": {},
     "output_type": "execute_result"
    }
   ],
   "source": [
    "df['payment_method'].nunique()\n",
    "methods = (df['payment_method'].unique())\n",
    "\n",
    "print(\"Payment methods by popularity (amount of times used)\")\n",
    "df['payment_method'].value_counts()\n"
   ]
  },
  {
   "attachments": {},
   "cell_type": "markdown",
   "metadata": {},
   "source": [
    "Medium\n",
    "1. What are the three most popular categories, by total sales?"
   ]
  },
  {
   "cell_type": "code",
   "execution_count": 22,
   "metadata": {},
   "outputs": [
    {
     "data": {
      "text/plain": [
       "category\n",
       "Clothing      1.139968e+08\n",
       "Shoes         6.655345e+07\n",
       "Technology    5.786235e+07\n",
       "Name: Total Sales, dtype: float64"
      ]
     },
     "execution_count": 22,
     "metadata": {},
     "output_type": "execute_result"
    }
   ],
   "source": [
    "df['Total Sales'] = df['quantity'] * df['price']\n",
    "df.groupby(['category']).sum().sort_values('Total Sales', ascending=False).head(3)['Total Sales']\n",
    "# df['category'].value_counts().head(3)"
   ]
  },
  {
   "attachments": {},
   "cell_type": "markdown",
   "metadata": {},
   "source": [
    "2. What are the total sales attributed to customers over the age of 45?\n"
   ]
  },
  {
   "cell_type": "code",
   "execution_count": 23,
   "metadata": {},
   "outputs": [
    {
     "name": "stdout",
     "output_type": "stream",
     "text": [
      "Total Sales from people over 45:\n"
     ]
    },
    {
     "data": {
      "text/plain": [
       "82039768.15"
      ]
     },
     "execution_count": 23,
     "metadata": {},
     "output_type": "execute_result"
    }
   ],
   "source": [
    "iv = pd.read_json(\"dim_customer.json\")\n",
    "#df = pd.read_csv(\"fct_invoice.csv\")\n",
    "\n",
    "iv.rename(columns={\"id\":\"customer_id\"})\n",
    "\n",
    "merged = pd.merge(df,iv,left_on=\"customer_id\",right_on=\"id\")\n",
    "#over_40 = merged[merged['age']>45].index\n",
    "#merged.loc[over_40].head()\n",
    "\n",
    "over_45 = merged.loc[merged['age']>45]\n",
    "print(\"Total Sales from people over 45:\")\n",
    "over_45.sum()['Total Sales']\n",
    "#over_40.count()\n"
   ]
  },
  {
   "attachments": {},
   "cell_type": "markdown",
   "metadata": {},
   "source": [
    "As a % of Total Sales"
   ]
  },
  {
   "cell_type": "code",
   "execution_count": 24,
   "metadata": {},
   "outputs": [
    {
     "name": "stdout",
     "output_type": "stream",
     "text": [
      "Total purchases based on age by percentage (above or below)\n",
      "40\n",
      "below    26.870909\n",
      "over     32.805132\n",
      "dtype: float64\n"
     ]
    }
   ],
   "source": [
    "over_40 = merged.loc[merged['age']>45].index\n",
    "merged.loc[over_40,'40']='over'\n",
    "below_40 = merged.loc[merged['age']<=45].index\n",
    "merged.loc[below_40,'40']='below'\n",
    "\n",
    "count = merged.groupby('40').size()\n",
    "percentage = count / len(merged) * 100\n",
    "print(\"Total purchases based on age by percentage (above or below)\")\n",
    "print(percentage)"
   ]
  },
  {
   "attachments": {},
   "cell_type": "markdown",
   "metadata": {},
   "source": [
    "3. How is the data distributed across different invoice dates? Are there any seasonal trends or patterns? (Use a graph for this.)"
   ]
  },
  {
   "cell_type": "code",
   "execution_count": 25,
   "metadata": {},
   "outputs": [],
   "source": [
    "#winter spring summer fall\n",
    "#merged['season'] = ''\n",
    "\n",
    "merged['month'] = pd.DatetimeIndex(df['invoice_date']).month\n",
    "\n",
    "winter = merged.loc[(merged['month'] == 12) | ((1 <= merged['month']) & (merged['month'] <= 3))].index\n",
    "merged.loc[winter,'season']='Winter'\n",
    "\n",
    "spring = merged.loc[(merged['month'] >= 4) & (merged['month'] <= 6)].index\n",
    "merged.loc[spring, 'season'] = 'Spring'\n",
    "\n",
    "summer = merged[(merged['month']<= 9) & (merged['month']>= 7)].index\n",
    "merged.loc[summer,'season'] = 'Summer'\n",
    "\n",
    "fall = merged[(merged['month']<= 11) & (merged['month']>= 10)].index\n",
    "merged.loc[fall,'season'] = 'Fall'\n"
   ]
  },
  {
   "cell_type": "code",
   "execution_count": 26,
   "metadata": {},
   "outputs": [
    {
     "data": {
      "text/plain": [
       "<Axes: >"
      ]
     },
     "execution_count": 26,
     "metadata": {},
     "output_type": "execute_result"
    },
    {
     "data": {
      "image/png": "[encoded data removed]",
      "text/plain": [
       "<Figure size 640x480 with 1 Axes>"
      ]
     },
     "metadata": {},
     "output_type": "display_data"
    }
   ],
   "source": [
    "merged['season'].value_counts().plot(kind='bar')"
   ]
  },
  {
   "cell_type": "markdown",
   "metadata": {},
   "source": [
    "**Graph Explanation:**\n",
    "The season with the most invoices was winter, which makes sense given that a significant holiday like Christmas encourages people to spend money and purchase more goods. The same might be said for spring and summer, as both seasons have breaks like the summer and spring breaks. The least amount of bills would be in the fall because there are typically no breaks or holidays that people prepare for during this season of the year, which results in less expenditure."
   ]
  },
  {
   "cell_type": "markdown",
   "metadata": {},
   "source": [
    "Hard\n",
    "1. Create a pivot table showing the breakdown of sales across these dimensions, in this order: category, decade age range\n"
   ]
  },
  {
   "cell_type": "code",
   "execution_count": 27,
   "metadata": {},
   "outputs": [
    {
     "data": {
      "text/html": [
       "<div>\n",
       "<style scoped>\n",
       "    .dataframe tbody tr th:only-of-type {\n",
       "        vertical-align: middle;\n",
       "    }\n",
       "\n",
       "    .dataframe tbody tr th {\n",
       "        vertical-align: top;\n",
       "    }\n",
       "\n",
       "    .dataframe thead th {\n",
       "        text-align: right;\n",
       "    }\n",
       "</style>\n",
       "<table border=\"1\" class=\"dataframe\">\n",
       "  <thead>\n",
       "    <tr style=\"text-align: right;\">\n",
       "      <th>age</th>\n",
       "      <th>[10, 20)</th>\n",
       "      <th>[20, 30)</th>\n",
       "      <th>[30, 40)</th>\n",
       "      <th>[40, 50)</th>\n",
       "      <th>[50, 60)</th>\n",
       "      <th>[60, 70)</th>\n",
       "      <th>[70, 80)</th>\n",
       "      <th>[80, 90)</th>\n",
       "      <th>[90, 100)</th>\n",
       "    </tr>\n",
       "    <tr>\n",
       "      <th>category</th>\n",
       "      <th></th>\n",
       "      <th></th>\n",
       "      <th></th>\n",
       "      <th></th>\n",
       "      <th></th>\n",
       "      <th></th>\n",
       "      <th></th>\n",
       "      <th></th>\n",
       "      <th></th>\n",
       "    </tr>\n",
       "  </thead>\n",
       "  <tbody>\n",
       "    <tr>\n",
       "      <th>Books</th>\n",
       "      <td>229</td>\n",
       "      <td>1427</td>\n",
       "      <td>1518</td>\n",
       "      <td>1542</td>\n",
       "      <td>1364</td>\n",
       "      <td>1420</td>\n",
       "      <td>1019</td>\n",
       "      <td>500</td>\n",
       "      <td>0</td>\n",
       "    </tr>\n",
       "    <tr>\n",
       "      <th>Clothing</th>\n",
       "      <td>1727</td>\n",
       "      <td>9392</td>\n",
       "      <td>10247</td>\n",
       "      <td>10220</td>\n",
       "      <td>9343</td>\n",
       "      <td>9700</td>\n",
       "      <td>7055</td>\n",
       "      <td>4095</td>\n",
       "      <td>0</td>\n",
       "    </tr>\n",
       "    <tr>\n",
       "      <th>Cosmetics</th>\n",
       "      <td>730</td>\n",
       "      <td>4060</td>\n",
       "      <td>4871</td>\n",
       "      <td>4460</td>\n",
       "      <td>3958</td>\n",
       "      <td>4344</td>\n",
       "      <td>2807</td>\n",
       "      <td>1752</td>\n",
       "      <td>0</td>\n",
       "    </tr>\n",
       "    <tr>\n",
       "      <th>Food &amp; Beverage</th>\n",
       "      <td>697</td>\n",
       "      <td>3906</td>\n",
       "      <td>4540</td>\n",
       "      <td>4677</td>\n",
       "      <td>3824</td>\n",
       "      <td>4243</td>\n",
       "      <td>2862</td>\n",
       "      <td>1637</td>\n",
       "      <td>0</td>\n",
       "    </tr>\n",
       "    <tr>\n",
       "      <th>Shoes</th>\n",
       "      <td>457</td>\n",
       "      <td>2716</td>\n",
       "      <td>3186</td>\n",
       "      <td>3148</td>\n",
       "      <td>2652</td>\n",
       "      <td>2696</td>\n",
       "      <td>2017</td>\n",
       "      <td>1180</td>\n",
       "      <td>0</td>\n",
       "    </tr>\n",
       "    <tr>\n",
       "      <th>Souvenir</th>\n",
       "      <td>281</td>\n",
       "      <td>1304</td>\n",
       "      <td>1496</td>\n",
       "      <td>1514</td>\n",
       "      <td>1286</td>\n",
       "      <td>1307</td>\n",
       "      <td>903</td>\n",
       "      <td>558</td>\n",
       "      <td>0</td>\n",
       "    </tr>\n",
       "    <tr>\n",
       "      <th>Technology</th>\n",
       "      <td>274</td>\n",
       "      <td>1359</td>\n",
       "      <td>1590</td>\n",
       "      <td>1553</td>\n",
       "      <td>1162</td>\n",
       "      <td>1457</td>\n",
       "      <td>931</td>\n",
       "      <td>522</td>\n",
       "      <td>0</td>\n",
       "    </tr>\n",
       "    <tr>\n",
       "      <th>Toys</th>\n",
       "      <td>480</td>\n",
       "      <td>2859</td>\n",
       "      <td>3217</td>\n",
       "      <td>2983</td>\n",
       "      <td>2626</td>\n",
       "      <td>2797</td>\n",
       "      <td>2078</td>\n",
       "      <td>1201</td>\n",
       "      <td>0</td>\n",
       "    </tr>\n",
       "  </tbody>\n",
       "</table>\n",
       "</div>"
      ],
      "text/plain": [
       "age              [10, 20)  [20, 30)  [30, 40)  [40, 50)  [50, 60)  [60, 70)  \\\n",
       "category                                                                      \n",
       "Books                 229      1427      1518      1542      1364      1420   \n",
       "Clothing             1727      9392     10247     10220      9343      9700   \n",
       "Cosmetics             730      4060      4871      4460      3958      4344   \n",
       "Food & Beverage       697      3906      4540      4677      3824      4243   \n",
       "Shoes                 457      2716      3186      3148      2652      2696   \n",
       "Souvenir              281      1304      1496      1514      1286      1307   \n",
       "Technology            274      1359      1590      1553      1162      1457   \n",
       "Toys                  480      2859      3217      2983      2626      2797   \n",
       "\n",
       "age              [70, 80)  [80, 90)  [90, 100)  \n",
       "category                                        \n",
       "Books                1019       500          0  \n",
       "Clothing             7055      4095          0  \n",
       "Cosmetics            2807      1752          0  \n",
       "Food & Beverage      2862      1637          0  \n",
       "Shoes                2017      1180          0  \n",
       "Souvenir              903       558          0  \n",
       "Technology            931       522          0  \n",
       "Toys                 2078      1201          0  "
      ]
     },
     "execution_count": 27,
     "metadata": {},
     "output_type": "execute_result"
    }
   ],
   "source": [
    "decades = pd.cut(merged['age'],bins=range(10, 101, 10),right=False)\n",
    "merged.pivot_table(index=\"category\",columns=decades,values=\"quantity\",aggfunc=\"sum\")"
   ]
  }
 ],
 "metadata": {
  "kernelspec": {
   "display_name": "Python 3",
   "language": "python",
   "name": "python3"
  },
  "language_info": {
   "codemirror_mode": {
    "name": "ipython",
    "version": 3
   },
   "file_extension": ".py",
   "mimetype": "text/x-python",
   "name": "python",
   "nbconvert_exporter": "python",
   "pygments_lexer": "ipython3",
   "version": "3.9.2"
  },
  "orig_nbformat": 4
 },
 "nbformat": 4,
 "nbformat_minor": 2
}
